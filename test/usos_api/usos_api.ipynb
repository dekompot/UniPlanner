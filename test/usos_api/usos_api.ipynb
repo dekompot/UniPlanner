{
 "cells": [
  {
   "cell_type": "code",
   "execution_count": 4,
   "id": "initial_id",
   "metadata": {
    "collapsed": true,
    "ExecuteTime": {
     "end_time": "2023-10-06T23:16:54.252969900Z",
     "start_time": "2023-10-06T23:16:54.205597900Z"
    }
   },
   "outputs": [],
   "source": [
    "from usosapi import USOSAPIConnection\n",
    "from webbrowser import open\n",
    "from functools import reduce"
   ]
  },
  {
   "cell_type": "markdown",
   "source": [
    "# Logging in\n",
    "Firstly, we are creating new connection using consumer key and secret. Then, user need to perform authorization via browser and insert given pin number."
   ],
   "metadata": {
    "collapsed": false
   },
   "id": "c179cd06e8fbc299"
  },
  {
   "cell_type": "code",
   "execution_count": 5,
   "outputs": [
    {
     "ename": "KeyError",
     "evalue": "'Decoder failed to handle oauth_token with data as returned by provider. A different decoder may be needed. Provider returned: b\\'{\"message\": \"Invalid consumer.\"}\\''",
     "output_type": "error",
     "traceback": [
      "\u001B[1;31m---------------------------------------------------------------------------\u001B[0m",
      "\u001B[1;31mKeyError\u001B[0m                                  Traceback (most recent call last)",
      "File \u001B[1;32m~\\miniconda3\\envs\\Uni_Planner\\lib\\site-packages\\rauth\\service.py:21\u001B[0m, in \u001B[0;36mprocess_token_request\u001B[1;34m(r, decoder, *args)\u001B[0m\n\u001B[0;32m     20\u001B[0m     data \u001B[38;5;241m=\u001B[39m decoder(r\u001B[38;5;241m.\u001B[39mcontent)\n\u001B[1;32m---> 21\u001B[0m     \u001B[38;5;28;01mreturn\u001B[39;00m \u001B[38;5;28;43mtuple\u001B[39;49m\u001B[43m(\u001B[49m\u001B[43mdata\u001B[49m\u001B[43m[\u001B[49m\u001B[43mkey\u001B[49m\u001B[43m]\u001B[49m\u001B[43m \u001B[49m\u001B[38;5;28;43;01mfor\u001B[39;49;00m\u001B[43m \u001B[49m\u001B[43mkey\u001B[49m\u001B[43m \u001B[49m\u001B[38;5;129;43;01min\u001B[39;49;00m\u001B[43m \u001B[49m\u001B[43margs\u001B[49m\u001B[43m)\u001B[49m\n\u001B[0;32m     22\u001B[0m \u001B[38;5;28;01mexcept\u001B[39;00m \u001B[38;5;167;01mKeyError\u001B[39;00m \u001B[38;5;28;01mas\u001B[39;00m e:  \u001B[38;5;66;03m# pragma: no cover\u001B[39;00m\n",
      "File \u001B[1;32m~\\miniconda3\\envs\\Uni_Planner\\lib\\site-packages\\rauth\\service.py:21\u001B[0m, in \u001B[0;36m<genexpr>\u001B[1;34m(.0)\u001B[0m\n\u001B[0;32m     20\u001B[0m     data \u001B[38;5;241m=\u001B[39m decoder(r\u001B[38;5;241m.\u001B[39mcontent)\n\u001B[1;32m---> 21\u001B[0m     \u001B[38;5;28;01mreturn\u001B[39;00m \u001B[38;5;28mtuple\u001B[39m(\u001B[43mdata\u001B[49m\u001B[43m[\u001B[49m\u001B[43mkey\u001B[49m\u001B[43m]\u001B[49m \u001B[38;5;28;01mfor\u001B[39;00m key \u001B[38;5;129;01min\u001B[39;00m args)\n\u001B[0;32m     22\u001B[0m \u001B[38;5;28;01mexcept\u001B[39;00m \u001B[38;5;167;01mKeyError\u001B[39;00m \u001B[38;5;28;01mas\u001B[39;00m e:  \u001B[38;5;66;03m# pragma: no cover\u001B[39;00m\n",
      "\u001B[1;31mKeyError\u001B[0m: 'oauth_token'",
      "\nDuring handling of the above exception, another exception occurred:\n",
      "\u001B[1;31mKeyError\u001B[0m                                  Traceback (most recent call last)",
      "Cell \u001B[1;32mIn[5], line 4\u001B[0m\n\u001B[0;32m      1\u001B[0m connection \u001B[38;5;241m=\u001B[39m USOSAPIConnection(api_base_address\u001B[38;5;241m=\u001B[39m\u001B[38;5;124m'\u001B[39m\u001B[38;5;124mhttps://apps.usos.pwr.edu.pl/\u001B[39m\u001B[38;5;124m'\u001B[39m,\n\u001B[0;32m      2\u001B[0m                                consumer_key\u001B[38;5;241m=\u001B[39m\u001B[38;5;124m'\u001B[39m\u001B[38;5;124msjV5Cqxs6Kf9bgXS7hKT\u001B[39m\u001B[38;5;124m'\u001B[39m,\n\u001B[0;32m      3\u001B[0m                                consumer_secret\u001B[38;5;241m=\u001B[39m\u001B[38;5;124m'\u001B[39m\u001B[38;5;124mmJNHXWuMgEk4CrxBM4DJLKdDjmHxhUTa8NJK93v2\u001B[39m\u001B[38;5;124m'\u001B[39m)\n\u001B[1;32m----> 4\u001B[0m connection_url \u001B[38;5;241m=\u001B[39m \u001B[43mconnection\u001B[49m\u001B[38;5;241;43m.\u001B[39;49m\u001B[43mget_authorization_url\u001B[49m\u001B[43m(\u001B[49m\u001B[43m)\u001B[49m\n\u001B[0;32m      5\u001B[0m \u001B[38;5;28mopen\u001B[39m(connection_url)\n\u001B[0;32m      6\u001B[0m pin \u001B[38;5;241m=\u001B[39m \u001B[38;5;28minput\u001B[39m()\n",
      "File \u001B[1;32m~\\PycharmProjects\\UniPlanner\\test\\usos_api\\usosapi.py:180\u001B[0m, in \u001B[0;36mUSOSAPIConnection.get_authorization_url\u001B[1;34m(self)\u001B[0m\n\u001B[0;32m    172\u001B[0m \u001B[38;5;28;01mdef\u001B[39;00m \u001B[38;5;21mget_authorization_url\u001B[39m(\u001B[38;5;28mself\u001B[39m) \u001B[38;5;241m-\u001B[39m\u001B[38;5;241m>\u001B[39m \u001B[38;5;28mstr\u001B[39m:\n\u001B[0;32m    173\u001B[0m \u001B[38;5;250m    \u001B[39m\u001B[38;5;124;03m\"\"\"\u001B[39;00m\n\u001B[0;32m    174\u001B[0m \u001B[38;5;124;03m    Returns an URL address that user has to visit using some\u001B[39;00m\n\u001B[0;32m    175\u001B[0m \u001B[38;5;124;03m    internet browser to obtain a PIN code required for authorization.\u001B[39;00m\n\u001B[1;32m   (...)\u001B[0m\n\u001B[0;32m    178\u001B[0m \u001B[38;5;124;03m    successful authorization.\u001B[39;00m\n\u001B[0;32m    179\u001B[0m \u001B[38;5;124;03m    \"\"\"\u001B[39;00m\n\u001B[1;32m--> 180\u001B[0m     \u001B[38;5;28;43mself\u001B[39;49m\u001B[38;5;241;43m.\u001B[39;49m\u001B[43m_generate_request_token\u001B[49m\u001B[43m(\u001B[49m\u001B[43m)\u001B[49m\n\u001B[0;32m    181\u001B[0m     url \u001B[38;5;241m=\u001B[39m \u001B[38;5;28mself\u001B[39m\u001B[38;5;241m.\u001B[39m_service\u001B[38;5;241m.\u001B[39mget_authorize_url(\u001B[38;5;28mself\u001B[39m\u001B[38;5;241m.\u001B[39m_request_token)\n\u001B[0;32m    182\u001B[0m     _LOGGER\u001B[38;5;241m.\u001B[39minfo(\u001B[38;5;124m'\u001B[39m\u001B[38;5;124mNew authorization URL generated: \u001B[39m\u001B[38;5;132;01m{}\u001B[39;00m\u001B[38;5;124m'\u001B[39m\u001B[38;5;241m.\u001B[39mformat(url))\n",
      "File \u001B[1;32m~\\PycharmProjects\\UniPlanner\\test\\usos_api\\usosapi.py:129\u001B[0m, in \u001B[0;36mUSOSAPIConnection._generate_request_token\u001B[1;34m(self)\u001B[0m\n\u001B[0;32m    127\u001B[0m \u001B[38;5;28;01mdef\u001B[39;00m \u001B[38;5;21m_generate_request_token\u001B[39m(\u001B[38;5;28mself\u001B[39m):\n\u001B[0;32m    128\u001B[0m     params \u001B[38;5;241m=\u001B[39m {\u001B[38;5;124m'\u001B[39m\u001B[38;5;124moauth_callback\u001B[39m\u001B[38;5;124m'\u001B[39m: \u001B[38;5;124m'\u001B[39m\u001B[38;5;124moob\u001B[39m\u001B[38;5;124m'\u001B[39m, \u001B[38;5;124m'\u001B[39m\u001B[38;5;124mscopes\u001B[39m\u001B[38;5;124m'\u001B[39m: SCOPES}\n\u001B[1;32m--> 129\u001B[0m     token_tuple \u001B[38;5;241m=\u001B[39m \u001B[38;5;28;43mself\u001B[39;49m\u001B[38;5;241;43m.\u001B[39;49m\u001B[43m_service\u001B[49m\u001B[38;5;241;43m.\u001B[39;49m\u001B[43mget_request_token\u001B[49m\u001B[43m(\u001B[49m\u001B[43mparams\u001B[49m\u001B[38;5;241;43m=\u001B[39;49m\u001B[43mparams\u001B[49m\u001B[43m)\u001B[49m\n\u001B[0;32m    130\u001B[0m     \u001B[38;5;28mself\u001B[39m\u001B[38;5;241m.\u001B[39m_request_token, \u001B[38;5;28mself\u001B[39m\u001B[38;5;241m.\u001B[39m_request_token_secret \u001B[38;5;241m=\u001B[39m token_tuple\n\u001B[0;32m    131\u001B[0m     _LOGGER\u001B[38;5;241m.\u001B[39minfo(\u001B[38;5;124m\"\u001B[39m\u001B[38;5;124mNew request token generated: \u001B[39m\u001B[38;5;132;01m{}\u001B[39;00m\u001B[38;5;124m\"\u001B[39m\u001B[38;5;241m.\u001B[39mformat(token_tuple[\u001B[38;5;241m0\u001B[39m]))\n",
      "File \u001B[1;32m~\\miniconda3\\envs\\Uni_Planner\\lib\\site-packages\\rauth\\service.py:244\u001B[0m, in \u001B[0;36mOAuth1Service.get_request_token\u001B[1;34m(self, method, decoder, key_token, key_token_secret, **kwargs)\u001B[0m\n\u001B[0;32m    224\u001B[0m \u001B[38;5;250m\u001B[39m\u001B[38;5;124;03m'''\u001B[39;00m\n\u001B[0;32m    225\u001B[0m \u001B[38;5;124;03mReturn a request token pair.\u001B[39;00m\n\u001B[0;32m    226\u001B[0m \n\u001B[1;32m   (...)\u001B[0m\n\u001B[0;32m    240\u001B[0m \u001B[38;5;124;03m:type \\*\\*kwargs: dict\u001B[39;00m\n\u001B[0;32m    241\u001B[0m \u001B[38;5;124;03m'''\u001B[39;00m\n\u001B[0;32m    242\u001B[0m r \u001B[38;5;241m=\u001B[39m \u001B[38;5;28mself\u001B[39m\u001B[38;5;241m.\u001B[39mget_raw_request_token(method\u001B[38;5;241m=\u001B[39mmethod, \u001B[38;5;241m*\u001B[39m\u001B[38;5;241m*\u001B[39mkwargs)\n\u001B[0;32m    243\u001B[0m request_token, request_token_secret \u001B[38;5;241m=\u001B[39m \\\n\u001B[1;32m--> 244\u001B[0m     \u001B[43mprocess_token_request\u001B[49m\u001B[43m(\u001B[49m\u001B[43mr\u001B[49m\u001B[43m,\u001B[49m\u001B[43m \u001B[49m\u001B[43mdecoder\u001B[49m\u001B[43m,\u001B[49m\u001B[43m \u001B[49m\u001B[43mkey_token\u001B[49m\u001B[43m,\u001B[49m\u001B[43m \u001B[49m\u001B[43mkey_token_secret\u001B[49m\u001B[43m)\u001B[49m\n\u001B[0;32m    245\u001B[0m \u001B[38;5;28;01mreturn\u001B[39;00m request_token, request_token_secret\n",
      "File \u001B[1;32m~\\miniconda3\\envs\\Uni_Planner\\lib\\site-packages\\rauth\\service.py:24\u001B[0m, in \u001B[0;36mprocess_token_request\u001B[1;34m(r, decoder, *args)\u001B[0m\n\u001B[0;32m     22\u001B[0m \u001B[38;5;28;01mexcept\u001B[39;00m \u001B[38;5;167;01mKeyError\u001B[39;00m \u001B[38;5;28;01mas\u001B[39;00m e:  \u001B[38;5;66;03m# pragma: no cover\u001B[39;00m\n\u001B[0;32m     23\u001B[0m     bad_key \u001B[38;5;241m=\u001B[39m e\u001B[38;5;241m.\u001B[39margs[\u001B[38;5;241m0\u001B[39m]\n\u001B[1;32m---> 24\u001B[0m     \u001B[38;5;28;01mraise\u001B[39;00m \u001B[38;5;167;01mKeyError\u001B[39;00m(PROCESS_TOKEN_ERROR\u001B[38;5;241m.\u001B[39mformat(key\u001B[38;5;241m=\u001B[39mbad_key, raw\u001B[38;5;241m=\u001B[39mr\u001B[38;5;241m.\u001B[39mcontent))\n",
      "\u001B[1;31mKeyError\u001B[0m: 'Decoder failed to handle oauth_token with data as returned by provider. A different decoder may be needed. Provider returned: b\\'{\"message\": \"Invalid consumer.\"}\\''"
     ]
    }
   ],
   "source": [
    "connection = USOSAPIConnection(api_base_address='https://apps.usos.pwr.edu.pl/',\n",
    "                               consumer_key='ssijmi',\n",
    "                               consumer_secret='chuja')\n",
    "connection_url = connection.get_authorization_url()\n",
    "open(connection_url)\n",
    "pin = input()"
   ],
   "metadata": {
    "collapsed": false,
    "ExecuteTime": {
     "end_time": "2023-10-06T23:16:56.347894700Z",
     "start_time": "2023-10-06T23:16:55.292715500Z"
    }
   },
   "id": "3dc06c9de5ce985d"
  },
  {
   "cell_type": "markdown",
   "source": [
    "USOSapi creates connection and test it."
   ],
   "metadata": {
    "collapsed": false
   },
   "id": "956fb840056a63cc"
  },
  {
   "cell_type": "code",
   "execution_count": 3,
   "outputs": [
    {
     "data": {
      "text/plain": "True"
     },
     "execution_count": 3,
     "metadata": {},
     "output_type": "execute_result"
    }
   ],
   "source": [
    "connection.authorize_with_pin(pin)\n",
    "connection.is_authorized()"
   ],
   "metadata": {
    "collapsed": false,
    "ExecuteTime": {
     "end_time": "2023-10-06T23:15:42.889769300Z",
     "start_time": "2023-10-06T23:15:41.922432500Z"
    }
   },
   "id": "eed04e2c158693a"
  },
  {
   "cell_type": "markdown",
   "source": [
    "Now we are able to download logged-in user's registrations.\n",
    "\n",
    "<div class=\"alert alert-block alert-warning\">\n",
    "<b>Warning:</b> We are not sure how will list behave when new registrations will appear. We may introduce choose of right registrations.\n",
    "</div>"
   ],
   "metadata": {
    "collapsed": false
   },
   "id": "6bd4f7b64f7b07da"
  },
  {
   "cell_type": "code",
   "execution_count": 196,
   "outputs": [],
   "source": [
    "registration = connection.get('services/registrations/user_registrations')[0]"
   ],
   "metadata": {
    "collapsed": false,
    "ExecuteTime": {
     "end_time": "2023-10-06T14:57:20.756179600Z",
     "start_time": "2023-10-06T14:57:20.349202Z"
    }
   },
   "id": "8b96d350ac4987c4"
  },
  {
   "cell_type": "markdown",
   "source": [
    "Downloading and picking courses' ids."
   ],
   "metadata": {
    "collapsed": false
   },
   "id": "c955753dc6101e3d"
  },
  {
   "cell_type": "code",
   "execution_count": 197,
   "outputs": [],
   "source": [
    "courses = [x['course_id'] for x in connection.get('services/registrations/user_registrations', id=registration['id'], fields='related_courses')[0]['related_courses']]"
   ],
   "metadata": {
    "collapsed": false,
    "ExecuteTime": {
     "end_time": "2023-10-06T14:58:15.158729500Z",
     "start_time": "2023-10-06T14:58:14.737108100Z"
    }
   },
   "id": "faa5481e35265af3"
  },
  {
   "cell_type": "markdown",
   "source": [
    "# EXAMPLE\n",
    "Picking one course. I've chose Database design with Nguyen because the lecture is presented once every two weeks."
   ],
   "metadata": {
    "collapsed": false
   },
   "id": "29660b053e18d26d"
  },
  {
   "cell_type": "code",
   "execution_count": 232,
   "outputs": [
    {
     "data": {
      "text/plain": "{'id': 'W04IST-SI0815G',\n 'name': {'pl': 'Projektowanie baz danych', 'en': 'Database Design'}}"
     },
     "execution_count": 232,
     "metadata": {},
     "output_type": "execute_result"
    }
   ],
   "source": [
    "course_id = courses[9]\n",
    "connection.get('services/courses/course', course_id=course_id)"
   ],
   "metadata": {
    "collapsed": false,
    "ExecuteTime": {
     "end_time": "2023-10-06T15:10:14.956937Z",
     "start_time": "2023-10-06T15:10:14.915582800Z"
    }
   },
   "id": "2c3bce9ba529e587"
  },
  {
   "cell_type": "markdown",
   "source": [
    "Getting term to use new API method, *services/courses/course'*."
   ],
   "metadata": {
    "collapsed": false
   },
   "id": "d5128738e64c2b4d"
  },
  {
   "cell_type": "code",
   "execution_count": 231,
   "outputs": [
    {
     "data": {
      "text/plain": "'2023/24-Z'"
     },
     "execution_count": 231,
     "metadata": {},
     "output_type": "execute_result"
    }
   ],
   "source": [
    "term = connection.get('services/courses/course', course_id=course_id, fields='terms')['terms'][0]['id']\n",
    "term"
   ],
   "metadata": {
    "collapsed": false,
    "ExecuteTime": {
     "end_time": "2023-10-06T15:10:06.934601500Z",
     "start_time": "2023-10-06T15:10:06.880726300Z"
    }
   },
   "id": "a3a3f294eaad1bf9"
  },
  {
   "cell_type": "markdown",
   "source": [
    "In this term course's edition we have lecture and project classes."
   ],
   "metadata": {
    "collapsed": false
   },
   "id": "23ca467e74d12dc6"
  },
  {
   "cell_type": "code",
   "execution_count": 214,
   "outputs": [
    {
     "data": {
      "text/plain": "[{'id': '52863'}, {'id': '52864'}]"
     },
     "execution_count": 214,
     "metadata": {},
     "output_type": "execute_result"
    }
   ],
   "source": [
    "units = connection.get('services/courses/course_edition2', course_id=course_id, term_id=term, fields='course_units')['course_units']\n",
    "units"
   ],
   "metadata": {
    "collapsed": false,
    "ExecuteTime": {
     "end_time": "2023-10-06T15:05:46.695286100Z",
     "start_time": "2023-10-06T15:05:46.239633100Z"
    }
   },
   "id": "313885715a0db1fa"
  },
  {
   "cell_type": "markdown",
   "source": [
    "We pick the first one. Fun fact: we are able to see if this chose is right in the next steps, empirically, not yet."
   ],
   "metadata": {
    "collapsed": false
   },
   "id": "f5ce53ee425004c9"
  },
  {
   "cell_type": "code",
   "execution_count": 224,
   "outputs": [],
   "source": [
    "unit = units[0]['id']"
   ],
   "metadata": {
    "collapsed": false,
    "ExecuteTime": {
     "end_time": "2023-10-06T15:07:44.054019200Z",
     "start_time": "2023-10-06T15:07:44.038187800Z"
    }
   },
   "id": "87eae858795eea1b"
  },
  {
   "cell_type": "code",
   "execution_count": 225,
   "outputs": [
    {
     "data": {
      "text/plain": "'52863'"
     },
     "execution_count": 225,
     "metadata": {},
     "output_type": "execute_result"
    }
   ],
   "source": [
    "unit"
   ],
   "metadata": {
    "collapsed": false,
    "ExecuteTime": {
     "end_time": "2023-10-06T15:07:44.632933400Z",
     "start_time": "2023-10-06T15:07:44.623828900Z"
    }
   },
   "id": "2b104d2f45b72a82"
  },
  {
   "cell_type": "code",
   "execution_count": 226,
   "outputs": [
    {
     "data": {
      "text/plain": "{'id': '52863'}"
     },
     "execution_count": 226,
     "metadata": {},
     "output_type": "execute_result"
    }
   ],
   "source": [
    "connection.get('services/courses/unit',unit_id=unit, )"
   ],
   "metadata": {
    "collapsed": false,
    "ExecuteTime": {
     "end_time": "2023-10-06T15:07:46.601185600Z",
     "start_time": "2023-10-06T15:07:46.174188600Z"
    }
   },
   "id": "a08f4459403cf22a"
  },
  {
   "cell_type": "markdown",
   "source": [
    "Now, look at the unit's groups."
   ],
   "metadata": {
    "collapsed": false
   },
   "id": "db68603f28026ee4"
  },
  {
   "cell_type": "code",
   "execution_count": 227,
   "outputs": [],
   "source": [
    "class_groups = connection.get('services/courses/course_unit',course_unit_id=unit, fields='class_groups')['class_groups']"
   ],
   "metadata": {
    "collapsed": false,
    "ExecuteTime": {
     "end_time": "2023-10-06T15:08:10.610680100Z",
     "start_time": "2023-10-06T15:08:09.988192800Z"
    }
   },
   "id": "7f47b31af23f1b91"
  },
  {
   "cell_type": "code",
   "execution_count": 228,
   "outputs": [
    {
     "data": {
      "text/plain": "[{'course_unit_id': '52863', 'number': 1}]"
     },
     "execution_count": 228,
     "metadata": {},
     "output_type": "execute_result"
    }
   ],
   "source": [
    "class_groups"
   ],
   "metadata": {
    "collapsed": false,
    "ExecuteTime": {
     "end_time": "2023-10-06T15:08:10.629184500Z",
     "start_time": "2023-10-06T15:08:10.613675600Z"
    }
   },
   "id": "678f2afa06d5d42"
  },
  {
   "cell_type": "markdown",
   "source": [
    "Hurrah. If it has only one group, it is the lecture - we've chosen right unit."
   ],
   "metadata": {
    "collapsed": false
   },
   "id": "addeab432424300e"
  },
  {
   "cell_type": "code",
   "execution_count": 233,
   "outputs": [
    {
     "data": {
      "text/plain": "{'lecturers': [{'id': '1309', 'first_name': 'Ngoc', 'last_name': 'Nguyen'}]}"
     },
     "execution_count": 233,
     "metadata": {},
     "output_type": "execute_result"
    }
   ],
   "source": [
    "connection.get('services/groups/class_group',course_unit_id=class_groups[0]['course_unit_id'],              group_number=class_groups[0]['number'], fields='lecturers')"
   ],
   "metadata": {
    "collapsed": false,
    "ExecuteTime": {
     "end_time": "2023-10-06T15:10:24.468181900Z",
     "start_time": "2023-10-06T15:10:24.425383Z"
    }
   },
   "id": "2e197a8103df8715"
  },
  {
   "cell_type": "markdown",
   "source": [
    "Next fun fact: there is no **Than** between Ngoc and Nguyen, because programmers didn't create place for the second name. Bad business analysis?\n",
    "And then we are able to look into dates of each of lectures."
   ],
   "metadata": {
    "collapsed": false
   },
   "id": "289762440343fdd5"
  },
  {
   "cell_type": "code",
   "execution_count": 235,
   "outputs": [
    {
     "data": {
      "text/plain": "[{'start_time': '2023-10-03 11:15:00',\n  'end_time': '2023-10-03 12:00:00',\n  'name': {'pl': 'Wykład', 'en': 'Lecture'},\n  'cgwm_id': 26093,\n  'classtype_id': 'W',\n  'unit_id': 52863},\n {'start_time': '2023-10-10 11:15:00',\n  'end_time': '2023-10-10 13:00:00',\n  'name': {'pl': 'Wykład', 'en': 'Lecture'},\n  'cgwm_id': 26093,\n  'classtype_id': 'W',\n  'unit_id': 52863},\n {'start_time': '2023-10-24 11:15:00',\n  'end_time': '2023-10-24 13:00:00',\n  'name': {'pl': 'Wykład', 'en': 'Lecture'},\n  'cgwm_id': 26093,\n  'classtype_id': 'W',\n  'unit_id': 52863},\n {'start_time': '2023-11-07 11:15:00',\n  'end_time': '2023-11-07 13:00:00',\n  'name': {'pl': 'Wykład', 'en': 'Lecture'},\n  'cgwm_id': 26093,\n  'classtype_id': 'W',\n  'unit_id': 52863},\n {'start_time': '2023-11-21 11:15:00',\n  'end_time': '2023-11-21 13:00:00',\n  'name': {'pl': 'Wykład', 'en': 'Lecture'},\n  'cgwm_id': 26093,\n  'classtype_id': 'W',\n  'unit_id': 52863},\n {'start_time': '2023-12-05 11:15:00',\n  'end_time': '2023-12-05 13:00:00',\n  'name': {'pl': 'Wykład', 'en': 'Lecture'},\n  'cgwm_id': 26093,\n  'classtype_id': 'W',\n  'unit_id': 52863},\n {'start_time': '2023-12-19 11:15:00',\n  'end_time': '2023-12-19 13:00:00',\n  'name': {'pl': 'Wykład', 'en': 'Lecture'},\n  'cgwm_id': 26093,\n  'classtype_id': 'W',\n  'unit_id': 52863},\n {'start_time': '2024-01-16 11:15:00',\n  'end_time': '2024-01-16 13:00:00',\n  'name': {'pl': 'Wykład', 'en': 'Lecture'},\n  'cgwm_id': 26093,\n  'classtype_id': 'W',\n  'unit_id': 52863}]"
     },
     "execution_count": 235,
     "metadata": {},
     "output_type": "execute_result"
    }
   ],
   "source": [
    "connection.get('services/tt/classgroup_dates2',\n",
    "               unit_id=class_groups[0]['course_unit_id'],\n",
    "               group_number=class_groups[0]['number'], \n",
    "               fields='start_time|end_time|name|cgwm_id|classtype_id|unit_id')"
   ],
   "metadata": {
    "collapsed": false,
    "ExecuteTime": {
     "end_time": "2023-10-06T15:13:07.254679600Z",
     "start_time": "2023-10-06T15:13:06.827762500Z"
    }
   },
   "id": "7525f740b38de5bd"
  },
  {
   "cell_type": "markdown",
   "source": [
    "# Question\n",
    "##### What do we do now?\n",
    "I did not find any simpler methods to extract data about odd/even weeks and day of the week. Therefore, if there is no such method, we must derive necessary data from lists such as this one above, with start_time and end_time and only these. It is not very hard task, nevertheless **how** to conduct such translation of information is open. Buzi."
   ],
   "metadata": {
    "collapsed": false
   },
   "id": "9aba316d2fc09a75"
  },
  {
   "cell_type": "markdown",
   "source": [
    "In addition: we may use special methods to request for many entities at once."
   ],
   "metadata": {
    "collapsed": false
   },
   "id": "c10a80705f696540"
  },
  {
   "cell_type": "code",
   "execution_count": 240,
   "outputs": [
    {
     "data": {
      "text/plain": "['W04IST-SI0011L', 'W04IST-SI0011W', 'W04IST-SI0021L']"
     },
     "execution_count": 240,
     "metadata": {},
     "output_type": "execute_result"
    }
   ],
   "source": [
    "courses[:3]"
   ],
   "metadata": {
    "collapsed": false,
    "ExecuteTime": {
     "end_time": "2023-10-06T15:14:52.100756300Z",
     "start_time": "2023-10-06T15:14:52.085327700Z"
    }
   },
   "id": "9e1347b4e7496b5c"
  },
  {
   "cell_type": "code",
   "execution_count": 242,
   "outputs": [
    {
     "data": {
      "text/plain": "{'W04IST-SI0011L': {'id': 'W04IST-SI0011L',\n  'name': {'pl': 'Podstawy internetu rzeczy', 'en': 'Introduction to IoT'}},\n 'W04IST-SI0011W': {'id': 'W04IST-SI0011W',\n  'name': {'pl': 'Podstawy internetu rzeczy', 'en': 'Introduction to IoT'}},\n 'W04IST-SI0021L': {'id': 'W04IST-SI0021L',\n  'name': {'pl': 'Cyberbezpieczeństwo', 'en': 'Cybersecurity'}},\n 'W04IST-SI0021W': {'id': 'W04IST-SI0021W',\n  'name': {'pl': 'Cyberbezpieczeństwo', 'en': 'Cybersecurity'}},\n 'W04IST-SI0022P': {'id': 'W04IST-SI0022P',\n  'name': {'pl': 'Projektowanie oprogramowania',\n   'en': 'Software Engineering'}},\n 'W04IST-SI0022W': {'id': 'W04IST-SI0022W',\n  'name': {'pl': 'Projektowanie oprogramowania',\n   'en': 'Software Engineering'}},\n 'W04IST-SI0811G': {'id': 'W04IST-SI0811G',\n  'name': {'pl': 'Programowanie systemów webowych',\n   'en': 'Web Systems Programming'}},\n 'W04IST-SI0812G': {'id': 'W04IST-SI0812G',\n  'name': {'pl': 'Aplikacje webowe na platformę .NET',\n   'en': '.NET Web Applications'}},\n 'W04IST-SI0813G': {'id': 'W04IST-SI0813G',\n  'name': {'pl': 'Inżynieria systemów baz danych',\n   'en': 'Database Systems Engineering'}},\n 'W04IST-SI0815G': {'id': 'W04IST-SI0815G',\n  'name': {'pl': 'Projektowanie baz danych', 'en': 'Database Design'}},\n 'W04IST-SI0816G': {'id': 'W04IST-SI0816G',\n  'name': {'pl': 'Aplikacje mobilne na platformę Android',\n   'en': 'Developing Mobile Applications for Android Platform'}},\n 'W04IST-SI0827G': {'id': 'W04IST-SI0827G',\n  'name': {'pl': 'Programowanie baz danych', 'en': 'Database programming'}},\n 'W08IST-SI0001S': {'id': 'W08IST-SI0001S',\n  'name': {'pl': 'Techniki prezentacji', 'en': 'Presentation Techniques'}}}"
     },
     "execution_count": 242,
     "metadata": {},
     "output_type": "execute_result"
    }
   ],
   "source": [
    "course_ids = reduce(lambda x, y: x + '|' + y, courses)\n",
    "connection.get('services/courses/courses', course_ids=course_ids)"
   ],
   "metadata": {
    "collapsed": false,
    "ExecuteTime": {
     "end_time": "2023-10-06T15:15:03.578566500Z",
     "start_time": "2023-10-06T15:15:03.519274Z"
    }
   },
   "id": "222b3cb1492643b2"
  }
 ],
 "metadata": {
  "kernelspec": {
   "display_name": "Python 3",
   "language": "python",
   "name": "python3"
  },
  "language_info": {
   "codemirror_mode": {
    "name": "ipython",
    "version": 2
   },
   "file_extension": ".py",
   "mimetype": "text/x-python",
   "name": "python",
   "nbconvert_exporter": "python",
   "pygments_lexer": "ipython2",
   "version": "2.7.6"
  }
 },
 "nbformat": 4,
 "nbformat_minor": 5
}
