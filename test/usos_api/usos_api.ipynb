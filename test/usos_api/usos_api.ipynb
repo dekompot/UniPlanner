{
 "cells": [
  {
   "cell_type": "code",
   "execution_count": 313,
   "id": "initial_id",
   "metadata": {
    "collapsed": true,
    "ExecuteTime": {
     "end_time": "2024-02-10T09:47:52.689594900Z",
     "start_time": "2024-02-10T09:47:52.665949400Z"
    }
   },
   "outputs": [],
   "source": [
    "from dataclasses import dataclass\n",
    "from typing import Union\n",
    "from datetime import datetime\n",
    "from usosapi import USOSAPIConnection\n",
    "from webbrowser import open\n",
    "from functools import reduce"
   ]
  },
  {
   "cell_type": "markdown",
   "source": [
    "# Logging in\n",
    "Firstly, we are creating new connection using consumer key and secret. Then, user need to perform authorization via browser and insert given pin number."
   ],
   "metadata": {
    "collapsed": false
   },
   "id": "c179cd06e8fbc299"
  },
  {
   "cell_type": "code",
   "execution_count": 3,
   "outputs": [
    {
     "ename": "KeyError",
     "evalue": "'Decoder failed to handle oauth_token with data as returned by provider. A different decoder may be needed. Provider returned: b\\'{\"message\": \"Invalid consumer.\"}\\''",
     "output_type": "error",
     "traceback": [
      "\u001B[1;31m---------------------------------------------------------------------------\u001B[0m",
      "\u001B[1;31mKeyError\u001B[0m                                  Traceback (most recent call last)",
      "File \u001B[1;32m~\\miniconda3\\envs\\Uni_Planner\\lib\\site-packages\\rauth\\service.py:21\u001B[0m, in \u001B[0;36mprocess_token_request\u001B[1;34m(r, decoder, *args)\u001B[0m\n\u001B[0;32m     20\u001B[0m     data \u001B[38;5;241m=\u001B[39m decoder(r\u001B[38;5;241m.\u001B[39mcontent)\n\u001B[1;32m---> 21\u001B[0m     \u001B[38;5;28;01mreturn\u001B[39;00m \u001B[38;5;28;43mtuple\u001B[39;49m\u001B[43m(\u001B[49m\u001B[43mdata\u001B[49m\u001B[43m[\u001B[49m\u001B[43mkey\u001B[49m\u001B[43m]\u001B[49m\u001B[43m \u001B[49m\u001B[38;5;28;43;01mfor\u001B[39;49;00m\u001B[43m \u001B[49m\u001B[43mkey\u001B[49m\u001B[43m \u001B[49m\u001B[38;5;129;43;01min\u001B[39;49;00m\u001B[43m \u001B[49m\u001B[43margs\u001B[49m\u001B[43m)\u001B[49m\n\u001B[0;32m     22\u001B[0m \u001B[38;5;28;01mexcept\u001B[39;00m \u001B[38;5;167;01mKeyError\u001B[39;00m \u001B[38;5;28;01mas\u001B[39;00m e:  \u001B[38;5;66;03m# pragma: no cover\u001B[39;00m\n",
      "File \u001B[1;32m~\\miniconda3\\envs\\Uni_Planner\\lib\\site-packages\\rauth\\service.py:21\u001B[0m, in \u001B[0;36m<genexpr>\u001B[1;34m(.0)\u001B[0m\n\u001B[0;32m     20\u001B[0m     data \u001B[38;5;241m=\u001B[39m decoder(r\u001B[38;5;241m.\u001B[39mcontent)\n\u001B[1;32m---> 21\u001B[0m     \u001B[38;5;28;01mreturn\u001B[39;00m \u001B[38;5;28mtuple\u001B[39m(\u001B[43mdata\u001B[49m\u001B[43m[\u001B[49m\u001B[43mkey\u001B[49m\u001B[43m]\u001B[49m \u001B[38;5;28;01mfor\u001B[39;00m key \u001B[38;5;129;01min\u001B[39;00m args)\n\u001B[0;32m     22\u001B[0m \u001B[38;5;28;01mexcept\u001B[39;00m \u001B[38;5;167;01mKeyError\u001B[39;00m \u001B[38;5;28;01mas\u001B[39;00m e:  \u001B[38;5;66;03m# pragma: no cover\u001B[39;00m\n",
      "\u001B[1;31mKeyError\u001B[0m: 'oauth_token'",
      "\nDuring handling of the above exception, another exception occurred:\n",
      "\u001B[1;31mKeyError\u001B[0m                                  Traceback (most recent call last)",
      "Cell \u001B[1;32mIn[3], line 4\u001B[0m\n\u001B[0;32m      1\u001B[0m connection \u001B[38;5;241m=\u001B[39m USOSAPIConnection(api_base_address\u001B[38;5;241m=\u001B[39m\u001B[38;5;124m'\u001B[39m\u001B[38;5;124mhttps://apps.usos.pwr.edu.pl/\u001B[39m\u001B[38;5;124m'\u001B[39m,\n\u001B[0;32m      2\u001B[0m                                consumer_key\u001B[38;5;241m=\u001B[39m\u001B[38;5;124m'\u001B[39m\u001B[38;5;124mssijmi\u001B[39m\u001B[38;5;124m'\u001B[39m,\n\u001B[0;32m      3\u001B[0m                                consumer_secret\u001B[38;5;241m=\u001B[39m\u001B[38;5;124m'\u001B[39m\u001B[38;5;124mchuja\u001B[39m\u001B[38;5;124m'\u001B[39m)\n\u001B[1;32m----> 4\u001B[0m connection_url \u001B[38;5;241m=\u001B[39m \u001B[43mconnection\u001B[49m\u001B[38;5;241;43m.\u001B[39;49m\u001B[43mget_authorization_url\u001B[49m\u001B[43m(\u001B[49m\u001B[43m)\u001B[49m\n\u001B[0;32m      5\u001B[0m \u001B[38;5;28mopen\u001B[39m(connection_url)\n\u001B[0;32m      6\u001B[0m pin \u001B[38;5;241m=\u001B[39m \u001B[38;5;28minput\u001B[39m()\n",
      "File \u001B[1;32m~\\PycharmProjects\\UniPlanner\\test\\usos_api\\usosapi.py:180\u001B[0m, in \u001B[0;36mUSOSAPIConnection.get_authorization_url\u001B[1;34m(self)\u001B[0m\n\u001B[0;32m    172\u001B[0m \u001B[38;5;28;01mdef\u001B[39;00m \u001B[38;5;21mget_authorization_url\u001B[39m(\u001B[38;5;28mself\u001B[39m) \u001B[38;5;241m-\u001B[39m\u001B[38;5;241m>\u001B[39m \u001B[38;5;28mstr\u001B[39m:\n\u001B[0;32m    173\u001B[0m \u001B[38;5;250m    \u001B[39m\u001B[38;5;124;03m\"\"\"\u001B[39;00m\n\u001B[0;32m    174\u001B[0m \u001B[38;5;124;03m    Returns an URL address that user has to visit using some\u001B[39;00m\n\u001B[0;32m    175\u001B[0m \u001B[38;5;124;03m    internet browser to obtain a PIN code required for authorization.\u001B[39;00m\n\u001B[1;32m   (...)\u001B[0m\n\u001B[0;32m    178\u001B[0m \u001B[38;5;124;03m    successful authorization.\u001B[39;00m\n\u001B[0;32m    179\u001B[0m \u001B[38;5;124;03m    \"\"\"\u001B[39;00m\n\u001B[1;32m--> 180\u001B[0m     \u001B[38;5;28;43mself\u001B[39;49m\u001B[38;5;241;43m.\u001B[39;49m\u001B[43m_generate_request_token\u001B[49m\u001B[43m(\u001B[49m\u001B[43m)\u001B[49m\n\u001B[0;32m    181\u001B[0m     url \u001B[38;5;241m=\u001B[39m \u001B[38;5;28mself\u001B[39m\u001B[38;5;241m.\u001B[39m_service\u001B[38;5;241m.\u001B[39mget_authorize_url(\u001B[38;5;28mself\u001B[39m\u001B[38;5;241m.\u001B[39m_request_token)\n\u001B[0;32m    182\u001B[0m     _LOGGER\u001B[38;5;241m.\u001B[39minfo(\u001B[38;5;124m'\u001B[39m\u001B[38;5;124mNew authorization URL generated: \u001B[39m\u001B[38;5;132;01m{}\u001B[39;00m\u001B[38;5;124m'\u001B[39m\u001B[38;5;241m.\u001B[39mformat(url))\n",
      "File \u001B[1;32m~\\PycharmProjects\\UniPlanner\\test\\usos_api\\usosapi.py:129\u001B[0m, in \u001B[0;36mUSOSAPIConnection._generate_request_token\u001B[1;34m(self)\u001B[0m\n\u001B[0;32m    127\u001B[0m \u001B[38;5;28;01mdef\u001B[39;00m \u001B[38;5;21m_generate_request_token\u001B[39m(\u001B[38;5;28mself\u001B[39m):\n\u001B[0;32m    128\u001B[0m     params \u001B[38;5;241m=\u001B[39m {\u001B[38;5;124m'\u001B[39m\u001B[38;5;124moauth_callback\u001B[39m\u001B[38;5;124m'\u001B[39m: \u001B[38;5;124m'\u001B[39m\u001B[38;5;124moob\u001B[39m\u001B[38;5;124m'\u001B[39m, \u001B[38;5;124m'\u001B[39m\u001B[38;5;124mscopes\u001B[39m\u001B[38;5;124m'\u001B[39m: SCOPES}\n\u001B[1;32m--> 129\u001B[0m     token_tuple \u001B[38;5;241m=\u001B[39m \u001B[38;5;28;43mself\u001B[39;49m\u001B[38;5;241;43m.\u001B[39;49m\u001B[43m_service\u001B[49m\u001B[38;5;241;43m.\u001B[39;49m\u001B[43mget_request_token\u001B[49m\u001B[43m(\u001B[49m\u001B[43mparams\u001B[49m\u001B[38;5;241;43m=\u001B[39;49m\u001B[43mparams\u001B[49m\u001B[43m)\u001B[49m\n\u001B[0;32m    130\u001B[0m     \u001B[38;5;28mself\u001B[39m\u001B[38;5;241m.\u001B[39m_request_token, \u001B[38;5;28mself\u001B[39m\u001B[38;5;241m.\u001B[39m_request_token_secret \u001B[38;5;241m=\u001B[39m token_tuple\n\u001B[0;32m    131\u001B[0m     _LOGGER\u001B[38;5;241m.\u001B[39minfo(\u001B[38;5;124m\"\u001B[39m\u001B[38;5;124mNew request token generated: \u001B[39m\u001B[38;5;132;01m{}\u001B[39;00m\u001B[38;5;124m\"\u001B[39m\u001B[38;5;241m.\u001B[39mformat(token_tuple[\u001B[38;5;241m0\u001B[39m]))\n",
      "File \u001B[1;32m~\\miniconda3\\envs\\Uni_Planner\\lib\\site-packages\\rauth\\service.py:244\u001B[0m, in \u001B[0;36mOAuth1Service.get_request_token\u001B[1;34m(self, method, decoder, key_token, key_token_secret, **kwargs)\u001B[0m\n\u001B[0;32m    224\u001B[0m \u001B[38;5;250m\u001B[39m\u001B[38;5;124;03m'''\u001B[39;00m\n\u001B[0;32m    225\u001B[0m \u001B[38;5;124;03mReturn a request token pair.\u001B[39;00m\n\u001B[0;32m    226\u001B[0m \n\u001B[1;32m   (...)\u001B[0m\n\u001B[0;32m    240\u001B[0m \u001B[38;5;124;03m:type \\*\\*kwargs: dict\u001B[39;00m\n\u001B[0;32m    241\u001B[0m \u001B[38;5;124;03m'''\u001B[39;00m\n\u001B[0;32m    242\u001B[0m r \u001B[38;5;241m=\u001B[39m \u001B[38;5;28mself\u001B[39m\u001B[38;5;241m.\u001B[39mget_raw_request_token(method\u001B[38;5;241m=\u001B[39mmethod, \u001B[38;5;241m*\u001B[39m\u001B[38;5;241m*\u001B[39mkwargs)\n\u001B[0;32m    243\u001B[0m request_token, request_token_secret \u001B[38;5;241m=\u001B[39m \\\n\u001B[1;32m--> 244\u001B[0m     \u001B[43mprocess_token_request\u001B[49m\u001B[43m(\u001B[49m\u001B[43mr\u001B[49m\u001B[43m,\u001B[49m\u001B[43m \u001B[49m\u001B[43mdecoder\u001B[49m\u001B[43m,\u001B[49m\u001B[43m \u001B[49m\u001B[43mkey_token\u001B[49m\u001B[43m,\u001B[49m\u001B[43m \u001B[49m\u001B[43mkey_token_secret\u001B[49m\u001B[43m)\u001B[49m\n\u001B[0;32m    245\u001B[0m \u001B[38;5;28;01mreturn\u001B[39;00m request_token, request_token_secret\n",
      "File \u001B[1;32m~\\miniconda3\\envs\\Uni_Planner\\lib\\site-packages\\rauth\\service.py:24\u001B[0m, in \u001B[0;36mprocess_token_request\u001B[1;34m(r, decoder, *args)\u001B[0m\n\u001B[0;32m     22\u001B[0m \u001B[38;5;28;01mexcept\u001B[39;00m \u001B[38;5;167;01mKeyError\u001B[39;00m \u001B[38;5;28;01mas\u001B[39;00m e:  \u001B[38;5;66;03m# pragma: no cover\u001B[39;00m\n\u001B[0;32m     23\u001B[0m     bad_key \u001B[38;5;241m=\u001B[39m e\u001B[38;5;241m.\u001B[39margs[\u001B[38;5;241m0\u001B[39m]\n\u001B[1;32m---> 24\u001B[0m     \u001B[38;5;28;01mraise\u001B[39;00m \u001B[38;5;167;01mKeyError\u001B[39;00m(PROCESS_TOKEN_ERROR\u001B[38;5;241m.\u001B[39mformat(key\u001B[38;5;241m=\u001B[39mbad_key, raw\u001B[38;5;241m=\u001B[39mr\u001B[38;5;241m.\u001B[39mcontent))\n",
      "\u001B[1;31mKeyError\u001B[0m: 'Decoder failed to handle oauth_token with data as returned by provider. A different decoder may be needed. Provider returned: b\\'{\"message\": \"Invalid consumer.\"}\\''"
     ]
    }
   ],
   "source": [
    "connection = USOSAPIConnection(api_base_address='https://apps.usos.pwr.edu.pl/',\n",
    "                               consumer_key='ssijmi',\n",
    "                               consumer_secret='chuja')\n",
    "connection_url = connection.get_authorization_url()\n",
    "open(connection_url)\n",
    "pin = input()"
   ],
   "metadata": {
    "collapsed": false,
    "ExecuteTime": {
     "end_time": "2024-02-09T17:28:58.712942600Z",
     "start_time": "2024-02-09T17:28:55.874243300Z"
    }
   },
   "id": "3dc06c9de5ce985d"
  },
  {
   "cell_type": "markdown",
   "source": [
    "USOSapi creates connection and test it."
   ],
   "metadata": {
    "collapsed": false
   },
   "id": "956fb840056a63cc"
  },
  {
   "cell_type": "code",
   "execution_count": 3,
   "outputs": [
    {
     "data": {
      "text/plain": "True"
     },
     "execution_count": 3,
     "metadata": {},
     "output_type": "execute_result"
    }
   ],
   "source": [
    "connection.authorize_with_pin(pin)\n",
    "connection.is_authorized()"
   ],
   "metadata": {
    "collapsed": false,
    "ExecuteTime": {
     "end_time": "2023-10-06T23:15:42.889769300Z",
     "start_time": "2023-10-06T23:15:41.922432500Z"
    }
   },
   "id": "eed04e2c158693a"
  },
  {
   "cell_type": "markdown",
   "source": [
    "Now we are able to download logged-in user's registrations.\n",
    "\n",
    "<div class=\"alert alert-block alert-warning\">\n",
    "<b>Warning:</b> We are not sure how will list behave when new registrations will appear. We may introduce choose of right registrations.\n",
    "</div>"
   ],
   "metadata": {
    "collapsed": false
   },
   "id": "6bd4f7b64f7b07da"
  },
  {
   "cell_type": "markdown",
   "source": [
    "Downloading and picking courses' ids."
   ],
   "metadata": {
    "collapsed": false
   },
   "id": "c955753dc6101e3d"
  },
  {
   "cell_type": "markdown",
   "source": [
    "# EXAMPLE\n",
    "Picking one course. I've chose Database design with Nguyen because the lecture is presented once every two weeks."
   ],
   "metadata": {
    "collapsed": false
   },
   "id": "29660b053e18d26d"
  },
  {
   "cell_type": "code",
   "outputs": [],
   "source": [
    "from planner.models.groups import WeekType\n",
    "\n",
    "\n",
    "@dataclass\n",
    "class Course_type:\n",
    "    id: int\n",
    "    name: str\n",
    "    \n",
    "\n",
    "@dataclass\n",
    "class Lecturer:\n",
    "    id: int\n",
    "    first_name: str\n",
    "    last_name: str\n",
    "\n",
    "@dataclass\n",
    "class Course_group:\n",
    "    \"\"\"\n",
    "    usos: COURSE EDITION\n",
    "    enrollment assistant: GRUPA KURSÓW\n",
    "    \"\"\"\n",
    "    name: str\n",
    "    code: str\n",
    "    \n",
    "    \n",
    "@dataclass\n",
    "class Course:\n",
    "    \"\"\"\n",
    "    usos: COURSE UNIT\n",
    "    enrollment assistant: KURS\n",
    "    \"\"\"\n",
    "    type: Course_type\n",
    "    course_group: Course_group\n",
    "\n",
    "@dataclass\n",
    "class Group:\n",
    "    \"\"\"\n",
    "    usos: GROUP / CLASS GROUP\n",
    "    enrollment assistant: GRUPA ZAJĘCIOWA\n",
    "    \"\"\"\n",
    "    lecturers: list[Lecturer]\n",
    "    course: Course\n",
    "    weekday: int\n",
    "    week_type: WeekType\n",
    "    start_time: datetime\n",
    "    end_time: datetime"
   ],
   "metadata": {
    "collapsed": false,
    "ExecuteTime": {
     "end_time": "2024-02-10T16:48:26.089473200Z",
     "start_time": "2024-02-10T16:48:26.058946900Z"
    }
   },
   "id": "605adde725335741",
   "execution_count": 458
  },
  {
   "cell_type": "code",
   "outputs": [],
   "source": [
    "def download_course_types() -> dict:\n",
    "    return connection.get('services/courses/classtypes_index')\n",
    "\n",
    "def get_course_types() -> list[Course_type]:\n",
    "    types: list[Course_type] = []\n",
    "    for course_type in download_course_types().values():\n",
    "        new_type = Course_type(course_type['id'], course_type['name']['pl'])\n",
    "        types.append(new_type)\n",
    "    return types\n",
    "\n",
    "def get_course_groups(registration_id: str) -> list[Course_group]:\n",
    "    syllabus_courses = get_syllabus_courses(registration_id)\n",
    "    return [create_course_group(course_dict) for course_dict in syllabus_courses]\n",
    "    \n",
    "def get_syllabus_courses(registration_id: str):\n",
    "    syllabus_courses_ids = download_syllabus_courses_ids(registration_id)\n",
    "    query_from_syllabus = reduce(lambda x, y: x + '|' + y, syllabus_courses_ids)\n",
    "    syllabus_courses = download_syllabus_courses(query_from_syllabus)\n",
    "    return list(syllabus_courses.values())\n",
    "\n",
    "def download_syllabus_courses_ids(registration_id: str) -> list[dict]:\n",
    "    return [record['course_id'] for record in connection.get('services/registrations/registration', id=registration_id, fields='related_courses')['related_courses']]\n",
    "\n",
    "def download_syllabus_courses(ids_query_str: str) -> list[dict]:\n",
    "    return connection.get('services/courses/courses', fields='id|name', course_ids=ids_query_str)\n",
    "\n",
    "def create_course_group(course_dict) -> Course_group:\n",
    "    return Course_group(code=course_dict['id'], name=course_dict['name']['pl'])\n",
    "\n",
    "def get_group_dates(unit_id, group_number):\n",
    "    return convert_to_dates(get_group_activities(unit_id,group_number))\n",
    "\n",
    "def get_group_activities(unit_id, group_number):\n",
    "    return connection.get('services/tt/classgroup_dates', unit_id=unit_id, group_number=group_number)\n",
    "\n",
    "def convert_to_dates(group_activities):\n",
    "    return [date.fromisoformat(day) for day in group_activities]\n",
    "\n",
    "def get_weekday(group_dates):\n",
    "    return Counter([DayOfWeek(date.weekday()+1) for date in group_dates]).most_common()[0][0]\n",
    "\n",
    "def get_week_type(group_dates):\n",
    "    if len(dates) > 10:\n",
    "        return WeekType.EVERY_WEEK\n",
    "    else:\n",
    "        counter = Counter([date.isocalendar()[1] % 2 for date in group_dates]).most_common()\n",
    "        if len(counter) == 1:\n",
    "            return WeekType(counter[0] + 2)\n",
    "        elif counter[0][1] - counter[1][1] > 4:\n",
    "            return WeekType(counter[0] + 2)\n",
    "        else:\n",
    "            return WeekType.OTHER"
   ],
   "metadata": {
    "collapsed": false,
    "ExecuteTime": {
     "end_time": "2024-02-10T16:48:26.531537400Z",
     "start_time": "2024-02-10T16:48:26.508208900Z"
    }
   },
   "id": "b52b95afa54cc32e",
   "execution_count": 459
  },
  {
   "cell_type": "code",
   "outputs": [
    {
     "ename": "ConnectionError",
     "evalue": "('Connection aborted.', RemoteDisconnected('Remote end closed connection without response'))",
     "output_type": "error",
     "traceback": [
      "\u001B[1;31m---------------------------------------------------------------------------\u001B[0m",
      "\u001B[1;31mRemoteDisconnected\u001B[0m                        Traceback (most recent call last)",
      "File \u001B[1;32m~\\miniconda3\\envs\\Uni_Planner\\lib\\site-packages\\urllib3\\connectionpool.py:714\u001B[0m, in \u001B[0;36mHTTPConnectionPool.urlopen\u001B[1;34m(self, method, url, body, headers, retries, redirect, assert_same_host, timeout, pool_timeout, release_conn, chunked, body_pos, **response_kw)\u001B[0m\n\u001B[0;32m    713\u001B[0m \u001B[38;5;66;03m# Make the request on the httplib connection object.\u001B[39;00m\n\u001B[1;32m--> 714\u001B[0m httplib_response \u001B[38;5;241m=\u001B[39m \u001B[38;5;28;43mself\u001B[39;49m\u001B[38;5;241;43m.\u001B[39;49m\u001B[43m_make_request\u001B[49m\u001B[43m(\u001B[49m\n\u001B[0;32m    715\u001B[0m \u001B[43m    \u001B[49m\u001B[43mconn\u001B[49m\u001B[43m,\u001B[49m\n\u001B[0;32m    716\u001B[0m \u001B[43m    \u001B[49m\u001B[43mmethod\u001B[49m\u001B[43m,\u001B[49m\n\u001B[0;32m    717\u001B[0m \u001B[43m    \u001B[49m\u001B[43murl\u001B[49m\u001B[43m,\u001B[49m\n\u001B[0;32m    718\u001B[0m \u001B[43m    \u001B[49m\u001B[43mtimeout\u001B[49m\u001B[38;5;241;43m=\u001B[39;49m\u001B[43mtimeout_obj\u001B[49m\u001B[43m,\u001B[49m\n\u001B[0;32m    719\u001B[0m \u001B[43m    \u001B[49m\u001B[43mbody\u001B[49m\u001B[38;5;241;43m=\u001B[39;49m\u001B[43mbody\u001B[49m\u001B[43m,\u001B[49m\n\u001B[0;32m    720\u001B[0m \u001B[43m    \u001B[49m\u001B[43mheaders\u001B[49m\u001B[38;5;241;43m=\u001B[39;49m\u001B[43mheaders\u001B[49m\u001B[43m,\u001B[49m\n\u001B[0;32m    721\u001B[0m \u001B[43m    \u001B[49m\u001B[43mchunked\u001B[49m\u001B[38;5;241;43m=\u001B[39;49m\u001B[43mchunked\u001B[49m\u001B[43m,\u001B[49m\n\u001B[0;32m    722\u001B[0m \u001B[43m\u001B[49m\u001B[43m)\u001B[49m\n\u001B[0;32m    724\u001B[0m \u001B[38;5;66;03m# If we're going to release the connection in ``finally:``, then\u001B[39;00m\n\u001B[0;32m    725\u001B[0m \u001B[38;5;66;03m# the response doesn't need to know about the connection. Otherwise\u001B[39;00m\n\u001B[0;32m    726\u001B[0m \u001B[38;5;66;03m# it will also try to release it and we'll have a double-release\u001B[39;00m\n\u001B[0;32m    727\u001B[0m \u001B[38;5;66;03m# mess.\u001B[39;00m\n",
      "File \u001B[1;32m~\\miniconda3\\envs\\Uni_Planner\\lib\\site-packages\\urllib3\\connectionpool.py:466\u001B[0m, in \u001B[0;36mHTTPConnectionPool._make_request\u001B[1;34m(self, conn, method, url, timeout, chunked, **httplib_request_kw)\u001B[0m\n\u001B[0;32m    462\u001B[0m         \u001B[38;5;28;01mexcept\u001B[39;00m \u001B[38;5;167;01mBaseException\u001B[39;00m \u001B[38;5;28;01mas\u001B[39;00m e:\n\u001B[0;32m    463\u001B[0m             \u001B[38;5;66;03m# Remove the TypeError from the exception chain in\u001B[39;00m\n\u001B[0;32m    464\u001B[0m             \u001B[38;5;66;03m# Python 3 (including for exceptions like SystemExit).\u001B[39;00m\n\u001B[0;32m    465\u001B[0m             \u001B[38;5;66;03m# Otherwise it looks like a bug in the code.\u001B[39;00m\n\u001B[1;32m--> 466\u001B[0m             \u001B[43msix\u001B[49m\u001B[38;5;241;43m.\u001B[39;49m\u001B[43mraise_from\u001B[49m\u001B[43m(\u001B[49m\u001B[43me\u001B[49m\u001B[43m,\u001B[49m\u001B[43m \u001B[49m\u001B[38;5;28;43;01mNone\u001B[39;49;00m\u001B[43m)\u001B[49m\n\u001B[0;32m    467\u001B[0m \u001B[38;5;28;01mexcept\u001B[39;00m (SocketTimeout, BaseSSLError, SocketError) \u001B[38;5;28;01mas\u001B[39;00m e:\n",
      "File \u001B[1;32m<string>:3\u001B[0m, in \u001B[0;36mraise_from\u001B[1;34m(value, from_value)\u001B[0m\n",
      "File \u001B[1;32m~\\miniconda3\\envs\\Uni_Planner\\lib\\site-packages\\urllib3\\connectionpool.py:461\u001B[0m, in \u001B[0;36mHTTPConnectionPool._make_request\u001B[1;34m(self, conn, method, url, timeout, chunked, **httplib_request_kw)\u001B[0m\n\u001B[0;32m    460\u001B[0m \u001B[38;5;28;01mtry\u001B[39;00m:\n\u001B[1;32m--> 461\u001B[0m     httplib_response \u001B[38;5;241m=\u001B[39m \u001B[43mconn\u001B[49m\u001B[38;5;241;43m.\u001B[39;49m\u001B[43mgetresponse\u001B[49m\u001B[43m(\u001B[49m\u001B[43m)\u001B[49m\n\u001B[0;32m    462\u001B[0m \u001B[38;5;28;01mexcept\u001B[39;00m \u001B[38;5;167;01mBaseException\u001B[39;00m \u001B[38;5;28;01mas\u001B[39;00m e:\n\u001B[0;32m    463\u001B[0m     \u001B[38;5;66;03m# Remove the TypeError from the exception chain in\u001B[39;00m\n\u001B[0;32m    464\u001B[0m     \u001B[38;5;66;03m# Python 3 (including for exceptions like SystemExit).\u001B[39;00m\n\u001B[0;32m    465\u001B[0m     \u001B[38;5;66;03m# Otherwise it looks like a bug in the code.\u001B[39;00m\n",
      "File \u001B[1;32m~\\miniconda3\\envs\\Uni_Planner\\lib\\http\\client.py:1375\u001B[0m, in \u001B[0;36mHTTPConnection.getresponse\u001B[1;34m(self)\u001B[0m\n\u001B[0;32m   1374\u001B[0m \u001B[38;5;28;01mtry\u001B[39;00m:\n\u001B[1;32m-> 1375\u001B[0m     \u001B[43mresponse\u001B[49m\u001B[38;5;241;43m.\u001B[39;49m\u001B[43mbegin\u001B[49m\u001B[43m(\u001B[49m\u001B[43m)\u001B[49m\n\u001B[0;32m   1376\u001B[0m \u001B[38;5;28;01mexcept\u001B[39;00m \u001B[38;5;167;01mConnectionError\u001B[39;00m:\n",
      "File \u001B[1;32m~\\miniconda3\\envs\\Uni_Planner\\lib\\http\\client.py:318\u001B[0m, in \u001B[0;36mHTTPResponse.begin\u001B[1;34m(self)\u001B[0m\n\u001B[0;32m    317\u001B[0m \u001B[38;5;28;01mwhile\u001B[39;00m \u001B[38;5;28;01mTrue\u001B[39;00m:\n\u001B[1;32m--> 318\u001B[0m     version, status, reason \u001B[38;5;241m=\u001B[39m \u001B[38;5;28;43mself\u001B[39;49m\u001B[38;5;241;43m.\u001B[39;49m\u001B[43m_read_status\u001B[49m\u001B[43m(\u001B[49m\u001B[43m)\u001B[49m\n\u001B[0;32m    319\u001B[0m     \u001B[38;5;28;01mif\u001B[39;00m status \u001B[38;5;241m!=\u001B[39m CONTINUE:\n",
      "File \u001B[1;32m~\\miniconda3\\envs\\Uni_Planner\\lib\\http\\client.py:287\u001B[0m, in \u001B[0;36mHTTPResponse._read_status\u001B[1;34m(self)\u001B[0m\n\u001B[0;32m    284\u001B[0m \u001B[38;5;28;01mif\u001B[39;00m \u001B[38;5;129;01mnot\u001B[39;00m line:\n\u001B[0;32m    285\u001B[0m     \u001B[38;5;66;03m# Presumably, the server closed the connection before\u001B[39;00m\n\u001B[0;32m    286\u001B[0m     \u001B[38;5;66;03m# sending a valid response.\u001B[39;00m\n\u001B[1;32m--> 287\u001B[0m     \u001B[38;5;28;01mraise\u001B[39;00m RemoteDisconnected(\u001B[38;5;124m\"\u001B[39m\u001B[38;5;124mRemote end closed connection without\u001B[39m\u001B[38;5;124m\"\u001B[39m\n\u001B[0;32m    288\u001B[0m                              \u001B[38;5;124m\"\u001B[39m\u001B[38;5;124m response\u001B[39m\u001B[38;5;124m\"\u001B[39m)\n\u001B[0;32m    289\u001B[0m \u001B[38;5;28;01mtry\u001B[39;00m:\n",
      "\u001B[1;31mRemoteDisconnected\u001B[0m: Remote end closed connection without response",
      "\nDuring handling of the above exception, another exception occurred:\n",
      "\u001B[1;31mProtocolError\u001B[0m                             Traceback (most recent call last)",
      "File \u001B[1;32m~\\miniconda3\\envs\\Uni_Planner\\lib\\site-packages\\requests\\adapters.py:486\u001B[0m, in \u001B[0;36mHTTPAdapter.send\u001B[1;34m(self, request, stream, timeout, verify, cert, proxies)\u001B[0m\n\u001B[0;32m    485\u001B[0m \u001B[38;5;28;01mtry\u001B[39;00m:\n\u001B[1;32m--> 486\u001B[0m     resp \u001B[38;5;241m=\u001B[39m \u001B[43mconn\u001B[49m\u001B[38;5;241;43m.\u001B[39;49m\u001B[43murlopen\u001B[49m\u001B[43m(\u001B[49m\n\u001B[0;32m    487\u001B[0m \u001B[43m        \u001B[49m\u001B[43mmethod\u001B[49m\u001B[38;5;241;43m=\u001B[39;49m\u001B[43mrequest\u001B[49m\u001B[38;5;241;43m.\u001B[39;49m\u001B[43mmethod\u001B[49m\u001B[43m,\u001B[49m\n\u001B[0;32m    488\u001B[0m \u001B[43m        \u001B[49m\u001B[43murl\u001B[49m\u001B[38;5;241;43m=\u001B[39;49m\u001B[43murl\u001B[49m\u001B[43m,\u001B[49m\n\u001B[0;32m    489\u001B[0m \u001B[43m        \u001B[49m\u001B[43mbody\u001B[49m\u001B[38;5;241;43m=\u001B[39;49m\u001B[43mrequest\u001B[49m\u001B[38;5;241;43m.\u001B[39;49m\u001B[43mbody\u001B[49m\u001B[43m,\u001B[49m\n\u001B[0;32m    490\u001B[0m \u001B[43m        \u001B[49m\u001B[43mheaders\u001B[49m\u001B[38;5;241;43m=\u001B[39;49m\u001B[43mrequest\u001B[49m\u001B[38;5;241;43m.\u001B[39;49m\u001B[43mheaders\u001B[49m\u001B[43m,\u001B[49m\n\u001B[0;32m    491\u001B[0m \u001B[43m        \u001B[49m\u001B[43mredirect\u001B[49m\u001B[38;5;241;43m=\u001B[39;49m\u001B[38;5;28;43;01mFalse\u001B[39;49;00m\u001B[43m,\u001B[49m\n\u001B[0;32m    492\u001B[0m \u001B[43m        \u001B[49m\u001B[43massert_same_host\u001B[49m\u001B[38;5;241;43m=\u001B[39;49m\u001B[38;5;28;43;01mFalse\u001B[39;49;00m\u001B[43m,\u001B[49m\n\u001B[0;32m    493\u001B[0m \u001B[43m        \u001B[49m\u001B[43mpreload_content\u001B[49m\u001B[38;5;241;43m=\u001B[39;49m\u001B[38;5;28;43;01mFalse\u001B[39;49;00m\u001B[43m,\u001B[49m\n\u001B[0;32m    494\u001B[0m \u001B[43m        \u001B[49m\u001B[43mdecode_content\u001B[49m\u001B[38;5;241;43m=\u001B[39;49m\u001B[38;5;28;43;01mFalse\u001B[39;49;00m\u001B[43m,\u001B[49m\n\u001B[0;32m    495\u001B[0m \u001B[43m        \u001B[49m\u001B[43mretries\u001B[49m\u001B[38;5;241;43m=\u001B[39;49m\u001B[38;5;28;43mself\u001B[39;49m\u001B[38;5;241;43m.\u001B[39;49m\u001B[43mmax_retries\u001B[49m\u001B[43m,\u001B[49m\n\u001B[0;32m    496\u001B[0m \u001B[43m        \u001B[49m\u001B[43mtimeout\u001B[49m\u001B[38;5;241;43m=\u001B[39;49m\u001B[43mtimeout\u001B[49m\u001B[43m,\u001B[49m\n\u001B[0;32m    497\u001B[0m \u001B[43m        \u001B[49m\u001B[43mchunked\u001B[49m\u001B[38;5;241;43m=\u001B[39;49m\u001B[43mchunked\u001B[49m\u001B[43m,\u001B[49m\n\u001B[0;32m    498\u001B[0m \u001B[43m    \u001B[49m\u001B[43m)\u001B[49m\n\u001B[0;32m    500\u001B[0m \u001B[38;5;28;01mexcept\u001B[39;00m (ProtocolError, \u001B[38;5;167;01mOSError\u001B[39;00m) \u001B[38;5;28;01mas\u001B[39;00m err:\n",
      "File \u001B[1;32m~\\miniconda3\\envs\\Uni_Planner\\lib\\site-packages\\urllib3\\connectionpool.py:798\u001B[0m, in \u001B[0;36mHTTPConnectionPool.urlopen\u001B[1;34m(self, method, url, body, headers, retries, redirect, assert_same_host, timeout, pool_timeout, release_conn, chunked, body_pos, **response_kw)\u001B[0m\n\u001B[0;32m    796\u001B[0m     e \u001B[38;5;241m=\u001B[39m ProtocolError(\u001B[38;5;124m\"\u001B[39m\u001B[38;5;124mConnection aborted.\u001B[39m\u001B[38;5;124m\"\u001B[39m, e)\n\u001B[1;32m--> 798\u001B[0m retries \u001B[38;5;241m=\u001B[39m \u001B[43mretries\u001B[49m\u001B[38;5;241;43m.\u001B[39;49m\u001B[43mincrement\u001B[49m\u001B[43m(\u001B[49m\n\u001B[0;32m    799\u001B[0m \u001B[43m    \u001B[49m\u001B[43mmethod\u001B[49m\u001B[43m,\u001B[49m\u001B[43m \u001B[49m\u001B[43murl\u001B[49m\u001B[43m,\u001B[49m\u001B[43m \u001B[49m\u001B[43merror\u001B[49m\u001B[38;5;241;43m=\u001B[39;49m\u001B[43me\u001B[49m\u001B[43m,\u001B[49m\u001B[43m \u001B[49m\u001B[43m_pool\u001B[49m\u001B[38;5;241;43m=\u001B[39;49m\u001B[38;5;28;43mself\u001B[39;49m\u001B[43m,\u001B[49m\u001B[43m \u001B[49m\u001B[43m_stacktrace\u001B[49m\u001B[38;5;241;43m=\u001B[39;49m\u001B[43msys\u001B[49m\u001B[38;5;241;43m.\u001B[39;49m\u001B[43mexc_info\u001B[49m\u001B[43m(\u001B[49m\u001B[43m)\u001B[49m\u001B[43m[\u001B[49m\u001B[38;5;241;43m2\u001B[39;49m\u001B[43m]\u001B[49m\n\u001B[0;32m    800\u001B[0m \u001B[43m\u001B[49m\u001B[43m)\u001B[49m\n\u001B[0;32m    801\u001B[0m retries\u001B[38;5;241m.\u001B[39msleep()\n",
      "File \u001B[1;32m~\\miniconda3\\envs\\Uni_Planner\\lib\\site-packages\\urllib3\\util\\retry.py:550\u001B[0m, in \u001B[0;36mRetry.increment\u001B[1;34m(self, method, url, response, error, _pool, _stacktrace)\u001B[0m\n\u001B[0;32m    549\u001B[0m \u001B[38;5;28;01mif\u001B[39;00m read \u001B[38;5;129;01mis\u001B[39;00m \u001B[38;5;28;01mFalse\u001B[39;00m \u001B[38;5;129;01mor\u001B[39;00m \u001B[38;5;129;01mnot\u001B[39;00m \u001B[38;5;28mself\u001B[39m\u001B[38;5;241m.\u001B[39m_is_method_retryable(method):\n\u001B[1;32m--> 550\u001B[0m     \u001B[38;5;28;01mraise\u001B[39;00m \u001B[43msix\u001B[49m\u001B[38;5;241;43m.\u001B[39;49m\u001B[43mreraise\u001B[49m\u001B[43m(\u001B[49m\u001B[38;5;28;43mtype\u001B[39;49m\u001B[43m(\u001B[49m\u001B[43merror\u001B[49m\u001B[43m)\u001B[49m\u001B[43m,\u001B[49m\u001B[43m \u001B[49m\u001B[43merror\u001B[49m\u001B[43m,\u001B[49m\u001B[43m \u001B[49m\u001B[43m_stacktrace\u001B[49m\u001B[43m)\u001B[49m\n\u001B[0;32m    551\u001B[0m \u001B[38;5;28;01melif\u001B[39;00m read \u001B[38;5;129;01mis\u001B[39;00m \u001B[38;5;129;01mnot\u001B[39;00m \u001B[38;5;28;01mNone\u001B[39;00m:\n",
      "File \u001B[1;32m~\\miniconda3\\envs\\Uni_Planner\\lib\\site-packages\\urllib3\\packages\\six.py:769\u001B[0m, in \u001B[0;36mreraise\u001B[1;34m(tp, value, tb)\u001B[0m\n\u001B[0;32m    768\u001B[0m \u001B[38;5;28;01mif\u001B[39;00m value\u001B[38;5;241m.\u001B[39m__traceback__ \u001B[38;5;129;01mis\u001B[39;00m \u001B[38;5;129;01mnot\u001B[39;00m tb:\n\u001B[1;32m--> 769\u001B[0m     \u001B[38;5;28;01mraise\u001B[39;00m value\u001B[38;5;241m.\u001B[39mwith_traceback(tb)\n\u001B[0;32m    770\u001B[0m \u001B[38;5;28;01mraise\u001B[39;00m value\n",
      "File \u001B[1;32m~\\miniconda3\\envs\\Uni_Planner\\lib\\site-packages\\urllib3\\connectionpool.py:714\u001B[0m, in \u001B[0;36mHTTPConnectionPool.urlopen\u001B[1;34m(self, method, url, body, headers, retries, redirect, assert_same_host, timeout, pool_timeout, release_conn, chunked, body_pos, **response_kw)\u001B[0m\n\u001B[0;32m    713\u001B[0m \u001B[38;5;66;03m# Make the request on the httplib connection object.\u001B[39;00m\n\u001B[1;32m--> 714\u001B[0m httplib_response \u001B[38;5;241m=\u001B[39m \u001B[38;5;28;43mself\u001B[39;49m\u001B[38;5;241;43m.\u001B[39;49m\u001B[43m_make_request\u001B[49m\u001B[43m(\u001B[49m\n\u001B[0;32m    715\u001B[0m \u001B[43m    \u001B[49m\u001B[43mconn\u001B[49m\u001B[43m,\u001B[49m\n\u001B[0;32m    716\u001B[0m \u001B[43m    \u001B[49m\u001B[43mmethod\u001B[49m\u001B[43m,\u001B[49m\n\u001B[0;32m    717\u001B[0m \u001B[43m    \u001B[49m\u001B[43murl\u001B[49m\u001B[43m,\u001B[49m\n\u001B[0;32m    718\u001B[0m \u001B[43m    \u001B[49m\u001B[43mtimeout\u001B[49m\u001B[38;5;241;43m=\u001B[39;49m\u001B[43mtimeout_obj\u001B[49m\u001B[43m,\u001B[49m\n\u001B[0;32m    719\u001B[0m \u001B[43m    \u001B[49m\u001B[43mbody\u001B[49m\u001B[38;5;241;43m=\u001B[39;49m\u001B[43mbody\u001B[49m\u001B[43m,\u001B[49m\n\u001B[0;32m    720\u001B[0m \u001B[43m    \u001B[49m\u001B[43mheaders\u001B[49m\u001B[38;5;241;43m=\u001B[39;49m\u001B[43mheaders\u001B[49m\u001B[43m,\u001B[49m\n\u001B[0;32m    721\u001B[0m \u001B[43m    \u001B[49m\u001B[43mchunked\u001B[49m\u001B[38;5;241;43m=\u001B[39;49m\u001B[43mchunked\u001B[49m\u001B[43m,\u001B[49m\n\u001B[0;32m    722\u001B[0m \u001B[43m\u001B[49m\u001B[43m)\u001B[49m\n\u001B[0;32m    724\u001B[0m \u001B[38;5;66;03m# If we're going to release the connection in ``finally:``, then\u001B[39;00m\n\u001B[0;32m    725\u001B[0m \u001B[38;5;66;03m# the response doesn't need to know about the connection. Otherwise\u001B[39;00m\n\u001B[0;32m    726\u001B[0m \u001B[38;5;66;03m# it will also try to release it and we'll have a double-release\u001B[39;00m\n\u001B[0;32m    727\u001B[0m \u001B[38;5;66;03m# mess.\u001B[39;00m\n",
      "File \u001B[1;32m~\\miniconda3\\envs\\Uni_Planner\\lib\\site-packages\\urllib3\\connectionpool.py:466\u001B[0m, in \u001B[0;36mHTTPConnectionPool._make_request\u001B[1;34m(self, conn, method, url, timeout, chunked, **httplib_request_kw)\u001B[0m\n\u001B[0;32m    462\u001B[0m         \u001B[38;5;28;01mexcept\u001B[39;00m \u001B[38;5;167;01mBaseException\u001B[39;00m \u001B[38;5;28;01mas\u001B[39;00m e:\n\u001B[0;32m    463\u001B[0m             \u001B[38;5;66;03m# Remove the TypeError from the exception chain in\u001B[39;00m\n\u001B[0;32m    464\u001B[0m             \u001B[38;5;66;03m# Python 3 (including for exceptions like SystemExit).\u001B[39;00m\n\u001B[0;32m    465\u001B[0m             \u001B[38;5;66;03m# Otherwise it looks like a bug in the code.\u001B[39;00m\n\u001B[1;32m--> 466\u001B[0m             \u001B[43msix\u001B[49m\u001B[38;5;241;43m.\u001B[39;49m\u001B[43mraise_from\u001B[49m\u001B[43m(\u001B[49m\u001B[43me\u001B[49m\u001B[43m,\u001B[49m\u001B[43m \u001B[49m\u001B[38;5;28;43;01mNone\u001B[39;49;00m\u001B[43m)\u001B[49m\n\u001B[0;32m    467\u001B[0m \u001B[38;5;28;01mexcept\u001B[39;00m (SocketTimeout, BaseSSLError, SocketError) \u001B[38;5;28;01mas\u001B[39;00m e:\n",
      "File \u001B[1;32m<string>:3\u001B[0m, in \u001B[0;36mraise_from\u001B[1;34m(value, from_value)\u001B[0m\n",
      "File \u001B[1;32m~\\miniconda3\\envs\\Uni_Planner\\lib\\site-packages\\urllib3\\connectionpool.py:461\u001B[0m, in \u001B[0;36mHTTPConnectionPool._make_request\u001B[1;34m(self, conn, method, url, timeout, chunked, **httplib_request_kw)\u001B[0m\n\u001B[0;32m    460\u001B[0m \u001B[38;5;28;01mtry\u001B[39;00m:\n\u001B[1;32m--> 461\u001B[0m     httplib_response \u001B[38;5;241m=\u001B[39m \u001B[43mconn\u001B[49m\u001B[38;5;241;43m.\u001B[39;49m\u001B[43mgetresponse\u001B[49m\u001B[43m(\u001B[49m\u001B[43m)\u001B[49m\n\u001B[0;32m    462\u001B[0m \u001B[38;5;28;01mexcept\u001B[39;00m \u001B[38;5;167;01mBaseException\u001B[39;00m \u001B[38;5;28;01mas\u001B[39;00m e:\n\u001B[0;32m    463\u001B[0m     \u001B[38;5;66;03m# Remove the TypeError from the exception chain in\u001B[39;00m\n\u001B[0;32m    464\u001B[0m     \u001B[38;5;66;03m# Python 3 (including for exceptions like SystemExit).\u001B[39;00m\n\u001B[0;32m    465\u001B[0m     \u001B[38;5;66;03m# Otherwise it looks like a bug in the code.\u001B[39;00m\n",
      "File \u001B[1;32m~\\miniconda3\\envs\\Uni_Planner\\lib\\http\\client.py:1375\u001B[0m, in \u001B[0;36mHTTPConnection.getresponse\u001B[1;34m(self)\u001B[0m\n\u001B[0;32m   1374\u001B[0m \u001B[38;5;28;01mtry\u001B[39;00m:\n\u001B[1;32m-> 1375\u001B[0m     \u001B[43mresponse\u001B[49m\u001B[38;5;241;43m.\u001B[39;49m\u001B[43mbegin\u001B[49m\u001B[43m(\u001B[49m\u001B[43m)\u001B[49m\n\u001B[0;32m   1376\u001B[0m \u001B[38;5;28;01mexcept\u001B[39;00m \u001B[38;5;167;01mConnectionError\u001B[39;00m:\n",
      "File \u001B[1;32m~\\miniconda3\\envs\\Uni_Planner\\lib\\http\\client.py:318\u001B[0m, in \u001B[0;36mHTTPResponse.begin\u001B[1;34m(self)\u001B[0m\n\u001B[0;32m    317\u001B[0m \u001B[38;5;28;01mwhile\u001B[39;00m \u001B[38;5;28;01mTrue\u001B[39;00m:\n\u001B[1;32m--> 318\u001B[0m     version, status, reason \u001B[38;5;241m=\u001B[39m \u001B[38;5;28;43mself\u001B[39;49m\u001B[38;5;241;43m.\u001B[39;49m\u001B[43m_read_status\u001B[49m\u001B[43m(\u001B[49m\u001B[43m)\u001B[49m\n\u001B[0;32m    319\u001B[0m     \u001B[38;5;28;01mif\u001B[39;00m status \u001B[38;5;241m!=\u001B[39m CONTINUE:\n",
      "File \u001B[1;32m~\\miniconda3\\envs\\Uni_Planner\\lib\\http\\client.py:287\u001B[0m, in \u001B[0;36mHTTPResponse._read_status\u001B[1;34m(self)\u001B[0m\n\u001B[0;32m    284\u001B[0m \u001B[38;5;28;01mif\u001B[39;00m \u001B[38;5;129;01mnot\u001B[39;00m line:\n\u001B[0;32m    285\u001B[0m     \u001B[38;5;66;03m# Presumably, the server closed the connection before\u001B[39;00m\n\u001B[0;32m    286\u001B[0m     \u001B[38;5;66;03m# sending a valid response.\u001B[39;00m\n\u001B[1;32m--> 287\u001B[0m     \u001B[38;5;28;01mraise\u001B[39;00m RemoteDisconnected(\u001B[38;5;124m\"\u001B[39m\u001B[38;5;124mRemote end closed connection without\u001B[39m\u001B[38;5;124m\"\u001B[39m\n\u001B[0;32m    288\u001B[0m                              \u001B[38;5;124m\"\u001B[39m\u001B[38;5;124m response\u001B[39m\u001B[38;5;124m\"\u001B[39m)\n\u001B[0;32m    289\u001B[0m \u001B[38;5;28;01mtry\u001B[39;00m:\n",
      "\u001B[1;31mProtocolError\u001B[0m: ('Connection aborted.', RemoteDisconnected('Remote end closed connection without response'))",
      "\nDuring handling of the above exception, another exception occurred:\n",
      "\u001B[1;31mConnectionError\u001B[0m                           Traceback (most recent call last)",
      "Cell \u001B[1;32mIn[460], line 1\u001B[0m\n\u001B[1;32m----> 1\u001B[0m \u001B[43mconnection\u001B[49m\u001B[38;5;241;43m.\u001B[39;49m\u001B[43mget\u001B[49m\u001B[43m(\u001B[49m\u001B[38;5;124;43m'\u001B[39;49m\u001B[38;5;124;43mservices/courses/course_edition2\u001B[39;49m\u001B[38;5;124;43m'\u001B[39;49m\u001B[43m,\u001B[49m\u001B[43m \u001B[49m\u001B[43mcourse_id\u001B[49m\u001B[38;5;241;43m=\u001B[39;49m\u001B[43mcourse_id\u001B[49m\u001B[43m,\u001B[49m\u001B[43m \u001B[49m\u001B[43mterm_id\u001B[49m\u001B[38;5;241;43m=\u001B[39;49m\u001B[43mterm\u001B[49m\u001B[43m,\u001B[49m\u001B[43m \u001B[49m\u001B[43mfields\u001B[49m\u001B[38;5;241;43m=\u001B[39;49m\u001B[38;5;124;43m'\u001B[39;49m\u001B[38;5;124;43mcourse_units[id|class_groups[lecturers]]\u001B[39;49m\u001B[38;5;124;43m'\u001B[39;49m\u001B[43m)\u001B[49m\n",
      "File \u001B[1;32m~\\PycharmProjects\\UniPlanner\\test\\usos_api\\usosapi.py:268\u001B[0m, in \u001B[0;36mUSOSAPIConnection.get\u001B[1;34m(self, service, **kwargs)\u001B[0m\n\u001B[0;32m    265\u001B[0m     session \u001B[38;5;241m=\u001B[39m \u001B[38;5;28mself\u001B[39m\u001B[38;5;241m.\u001B[39m_authorized_session\n\u001B[0;32m    267\u001B[0m start \u001B[38;5;241m=\u001B[39m time\u001B[38;5;241m.\u001B[39mtime()\n\u001B[1;32m--> 268\u001B[0m response \u001B[38;5;241m=\u001B[39m \u001B[43msession\u001B[49m\u001B[38;5;241;43m.\u001B[39;49m\u001B[43mpost\u001B[49m\u001B[43m(\u001B[49m\u001B[43mservice\u001B[49m\u001B[43m,\u001B[49m\u001B[43m \u001B[49m\u001B[43mparams\u001B[49m\u001B[38;5;241;43m=\u001B[39;49m\u001B[43mkwargs\u001B[49m\u001B[43m,\u001B[49m\u001B[43m \u001B[49m\u001B[43mdata\u001B[49m\u001B[38;5;241;43m=\u001B[39;49m\u001B[43m{\u001B[49m\u001B[43m}\u001B[49m\u001B[43m)\u001B[49m\n\u001B[0;32m    269\u001B[0m ex_time \u001B[38;5;241m=\u001B[39m time\u001B[38;5;241m.\u001B[39mtime() \u001B[38;5;241m-\u001B[39m start\n\u001B[0;32m    271\u001B[0m \u001B[38;5;28;01mif\u001B[39;00m \u001B[38;5;129;01mnot\u001B[39;00m response\u001B[38;5;241m.\u001B[39mok:\n",
      "File \u001B[1;32m~\\miniconda3\\envs\\Uni_Planner\\lib\\site-packages\\requests\\sessions.py:637\u001B[0m, in \u001B[0;36mSession.post\u001B[1;34m(self, url, data, json, **kwargs)\u001B[0m\n\u001B[0;32m    626\u001B[0m \u001B[38;5;28;01mdef\u001B[39;00m \u001B[38;5;21mpost\u001B[39m(\u001B[38;5;28mself\u001B[39m, url, data\u001B[38;5;241m=\u001B[39m\u001B[38;5;28;01mNone\u001B[39;00m, json\u001B[38;5;241m=\u001B[39m\u001B[38;5;28;01mNone\u001B[39;00m, \u001B[38;5;241m*\u001B[39m\u001B[38;5;241m*\u001B[39mkwargs):\n\u001B[0;32m    627\u001B[0m \u001B[38;5;250m    \u001B[39m\u001B[38;5;124mr\u001B[39m\u001B[38;5;124;03m\"\"\"Sends a POST request. Returns :class:`Response` object.\u001B[39;00m\n\u001B[0;32m    628\u001B[0m \n\u001B[0;32m    629\u001B[0m \u001B[38;5;124;03m    :param url: URL for the new :class:`Request` object.\u001B[39;00m\n\u001B[1;32m   (...)\u001B[0m\n\u001B[0;32m    634\u001B[0m \u001B[38;5;124;03m    :rtype: requests.Response\u001B[39;00m\n\u001B[0;32m    635\u001B[0m \u001B[38;5;124;03m    \"\"\"\u001B[39;00m\n\u001B[1;32m--> 637\u001B[0m     \u001B[38;5;28;01mreturn\u001B[39;00m \u001B[38;5;28mself\u001B[39m\u001B[38;5;241m.\u001B[39mrequest(\u001B[38;5;124m\"\u001B[39m\u001B[38;5;124mPOST\u001B[39m\u001B[38;5;124m\"\u001B[39m, url, data\u001B[38;5;241m=\u001B[39mdata, json\u001B[38;5;241m=\u001B[39mjson, \u001B[38;5;241m*\u001B[39m\u001B[38;5;241m*\u001B[39mkwargs)\n",
      "File \u001B[1;32m~\\miniconda3\\envs\\Uni_Planner\\lib\\site-packages\\rauth\\session.py:210\u001B[0m, in \u001B[0;36mOAuth1Session.request\u001B[1;34m(self, method, url, header_auth, realm, **req_kwargs)\u001B[0m\n\u001B[0;32m    207\u001B[0m     req_kwargs\u001B[38;5;241m.\u001B[39msetdefault(\u001B[38;5;124m'\u001B[39m\u001B[38;5;124mparams\u001B[39m\u001B[38;5;124m'\u001B[39m, {})\n\u001B[0;32m    208\u001B[0m     req_kwargs[\u001B[38;5;124m'\u001B[39m\u001B[38;5;124mparams\u001B[39m\u001B[38;5;124m'\u001B[39m]\u001B[38;5;241m.\u001B[39mupdate(oauth_params)\n\u001B[1;32m--> 210\u001B[0m \u001B[38;5;28;01mreturn\u001B[39;00m \u001B[38;5;28msuper\u001B[39m(OAuth1Session, \u001B[38;5;28mself\u001B[39m)\u001B[38;5;241m.\u001B[39mrequest(method, url, \u001B[38;5;241m*\u001B[39m\u001B[38;5;241m*\u001B[39mreq_kwargs)\n",
      "File \u001B[1;32m~\\miniconda3\\envs\\Uni_Planner\\lib\\site-packages\\requests\\sessions.py:589\u001B[0m, in \u001B[0;36mSession.request\u001B[1;34m(self, method, url, params, data, headers, cookies, files, auth, timeout, allow_redirects, proxies, hooks, stream, verify, cert, json)\u001B[0m\n\u001B[0;32m    584\u001B[0m send_kwargs \u001B[38;5;241m=\u001B[39m {\n\u001B[0;32m    585\u001B[0m     \u001B[38;5;124m\"\u001B[39m\u001B[38;5;124mtimeout\u001B[39m\u001B[38;5;124m\"\u001B[39m: timeout,\n\u001B[0;32m    586\u001B[0m     \u001B[38;5;124m\"\u001B[39m\u001B[38;5;124mallow_redirects\u001B[39m\u001B[38;5;124m\"\u001B[39m: allow_redirects,\n\u001B[0;32m    587\u001B[0m }\n\u001B[0;32m    588\u001B[0m send_kwargs\u001B[38;5;241m.\u001B[39mupdate(settings)\n\u001B[1;32m--> 589\u001B[0m resp \u001B[38;5;241m=\u001B[39m \u001B[38;5;28mself\u001B[39m\u001B[38;5;241m.\u001B[39msend(prep, \u001B[38;5;241m*\u001B[39m\u001B[38;5;241m*\u001B[39msend_kwargs)\n\u001B[0;32m    591\u001B[0m \u001B[38;5;28;01mreturn\u001B[39;00m resp\n",
      "File \u001B[1;32m~\\miniconda3\\envs\\Uni_Planner\\lib\\site-packages\\requests\\sessions.py:703\u001B[0m, in \u001B[0;36mSession.send\u001B[1;34m(self, request, **kwargs)\u001B[0m\n\u001B[0;32m    700\u001B[0m start \u001B[38;5;241m=\u001B[39m preferred_clock()\n\u001B[0;32m    702\u001B[0m \u001B[38;5;66;03m# Send the request\u001B[39;00m\n\u001B[1;32m--> 703\u001B[0m r \u001B[38;5;241m=\u001B[39m adapter\u001B[38;5;241m.\u001B[39msend(request, \u001B[38;5;241m*\u001B[39m\u001B[38;5;241m*\u001B[39mkwargs)\n\u001B[0;32m    705\u001B[0m \u001B[38;5;66;03m# Total elapsed time of the request (approximately)\u001B[39;00m\n\u001B[0;32m    706\u001B[0m elapsed \u001B[38;5;241m=\u001B[39m preferred_clock() \u001B[38;5;241m-\u001B[39m start\n",
      "File \u001B[1;32m~\\miniconda3\\envs\\Uni_Planner\\lib\\site-packages\\requests\\adapters.py:501\u001B[0m, in \u001B[0;36mHTTPAdapter.send\u001B[1;34m(self, request, stream, timeout, verify, cert, proxies)\u001B[0m\n\u001B[0;32m    486\u001B[0m     resp \u001B[38;5;241m=\u001B[39m conn\u001B[38;5;241m.\u001B[39murlopen(\n\u001B[0;32m    487\u001B[0m         method\u001B[38;5;241m=\u001B[39mrequest\u001B[38;5;241m.\u001B[39mmethod,\n\u001B[0;32m    488\u001B[0m         url\u001B[38;5;241m=\u001B[39murl,\n\u001B[1;32m   (...)\u001B[0m\n\u001B[0;32m    497\u001B[0m         chunked\u001B[38;5;241m=\u001B[39mchunked,\n\u001B[0;32m    498\u001B[0m     )\n\u001B[0;32m    500\u001B[0m \u001B[38;5;28;01mexcept\u001B[39;00m (ProtocolError, \u001B[38;5;167;01mOSError\u001B[39;00m) \u001B[38;5;28;01mas\u001B[39;00m err:\n\u001B[1;32m--> 501\u001B[0m     \u001B[38;5;28;01mraise\u001B[39;00m \u001B[38;5;167;01mConnectionError\u001B[39;00m(err, request\u001B[38;5;241m=\u001B[39mrequest)\n\u001B[0;32m    503\u001B[0m \u001B[38;5;28;01mexcept\u001B[39;00m MaxRetryError \u001B[38;5;28;01mas\u001B[39;00m e:\n\u001B[0;32m    504\u001B[0m     \u001B[38;5;28;01mif\u001B[39;00m \u001B[38;5;28misinstance\u001B[39m(e\u001B[38;5;241m.\u001B[39mreason, ConnectTimeoutError):\n\u001B[0;32m    505\u001B[0m         \u001B[38;5;66;03m# TODO: Remove this in 3.0.0: see #2811\u001B[39;00m\n",
      "\u001B[1;31mConnectionError\u001B[0m: ('Connection aborted.', RemoteDisconnected('Remote end closed connection without response'))"
     ]
    }
   ],
   "source": [
    "connection.get('services/courses/course_edition2', course_id=course_id, term_id=term, fields='course_units[id|class_groups[lecturers]]')"
   ],
   "metadata": {
    "collapsed": false,
    "ExecuteTime": {
     "end_time": "2024-02-10T16:48:28.288580200Z",
     "start_time": "2024-02-10T16:48:26.684464Z"
    }
   },
   "id": "ebc86408838de1bb",
   "execution_count": 460
  },
  {
   "cell_type": "code",
   "outputs": [],
   "source": [
    "get_syllabus_courses(ist_summer_registration_id)"
   ],
   "metadata": {
    "collapsed": false,
    "ExecuteTime": {
     "start_time": "2024-02-10T16:48:28.283135Z"
    }
   },
   "id": "2a47fe3cd5c27ebe",
   "execution_count": null
  },
  {
   "cell_type": "markdown",
   "source": [
    "# MAIN FLOW"
   ],
   "metadata": {
    "collapsed": false
   },
   "id": "d36694c8d1c514ca"
  },
  {
   "cell_type": "markdown",
   "source": [],
   "metadata": {
    "collapsed": false
   },
   "id": "13f6f82ae5824879"
  },
  {
   "cell_type": "code",
   "outputs": [
    {
     "name": "stdout",
     "output_type": "stream",
     "text": [
      "Course_group(name='Hurtownie danych', code='W04IST-SI0012L')\n",
      "{'number': 1, 'lecturers': [{'id': '74307', 'first_name': 'Bernadetta', 'last_name': 'Maleszka'}]}\n",
      "{'number': 1, 'lecturers': [{'id': '74307', 'first_name': 'Bernadetta', 'last_name': 'Maleszka'}]}\n",
      "{'number': 2, 'lecturers': [{'id': '187', 'first_name': 'Lech', 'last_name': 'Tuzinkiewicz'}]}\n",
      "{'number': 2, 'lecturers': [{'id': '187', 'first_name': 'Lech', 'last_name': 'Tuzinkiewicz'}]}\n",
      "{'number': 3, 'lecturers': [{'id': '74307', 'first_name': 'Bernadetta', 'last_name': 'Maleszka'}]}\n",
      "{'number': 3, 'lecturers': [{'id': '74307', 'first_name': 'Bernadetta', 'last_name': 'Maleszka'}]}\n",
      "{'number': 4, 'lecturers': [{'id': '74307', 'first_name': 'Bernadetta', 'last_name': 'Maleszka'}]}\n",
      "{'number': 4, 'lecturers': [{'id': '74307', 'first_name': 'Bernadetta', 'last_name': 'Maleszka'}]}\n",
      "{'number': 5, 'lecturers': [{'id': '74307', 'first_name': 'Bernadetta', 'last_name': 'Maleszka'}]}\n",
      "{'number': 5, 'lecturers': [{'id': '74307', 'first_name': 'Bernadetta', 'last_name': 'Maleszka'}]}\n",
      "{'number': 6, 'lecturers': [{'id': '187', 'first_name': 'Lech', 'last_name': 'Tuzinkiewicz'}]}\n",
      "{'number': 6, 'lecturers': [{'id': '187', 'first_name': 'Lech', 'last_name': 'Tuzinkiewicz'}]}\n",
      "{'number': 7, 'lecturers': [{'id': '187', 'first_name': 'Lech', 'last_name': 'Tuzinkiewicz'}]}\n",
      "{'number': 7, 'lecturers': [{'id': '187', 'first_name': 'Lech', 'last_name': 'Tuzinkiewicz'}]}\n",
      "{'number': 8, 'lecturers': [{'id': '187', 'first_name': 'Lech', 'last_name': 'Tuzinkiewicz'}]}\n",
      "{'number': 8, 'lecturers': [{'id': '187', 'first_name': 'Lech', 'last_name': 'Tuzinkiewicz'}]}\n",
      "{'number': 9, 'lecturers': [{'id': '74307', 'first_name': 'Bernadetta', 'last_name': 'Maleszka'}]}\n",
      "{'number': 9, 'lecturers': [{'id': '74307', 'first_name': 'Bernadetta', 'last_name': 'Maleszka'}]}\n",
      "{'number': 10, 'lecturers': [{'id': '738', 'first_name': 'Artur', 'last_name': 'Wilczek'}]}\n",
      "{'number': 10, 'lecturers': [{'id': '738', 'first_name': 'Artur', 'last_name': 'Wilczek'}]}\n",
      "{'number': 11, 'lecturers': [{'id': '738', 'first_name': 'Artur', 'last_name': 'Wilczek'}]}\n",
      "{'number': 11, 'lecturers': [{'id': '738', 'first_name': 'Artur', 'last_name': 'Wilczek'}]}\n",
      "\n",
      "Course_group(name='Hurtownie danych', code='W04IST-SI0012W')\n",
      "{'number': 1, 'lecturers': [{'id': '74307', 'first_name': 'Bernadetta', 'last_name': 'Maleszka'}]}\n",
      "{'number': 1, 'lecturers': [{'id': '74307', 'first_name': 'Bernadetta', 'last_name': 'Maleszka'}]}\n",
      "\n",
      "Course_group(name='Sztuczna inteligencja i inżynieria wiedzy', code='W04IST-SI0023L')\n",
      "{'number': 1, 'lecturers': [{'id': '342626', 'first_name': 'Julita', 'last_name': 'Bielaniewicz'}]}\n",
      "{'number': 1, 'lecturers': [{'id': '342626', 'first_name': 'Julita', 'last_name': 'Bielaniewicz'}]}\n",
      "{'number': 2, 'lecturers': [{'id': '342626', 'first_name': 'Julita', 'last_name': 'Bielaniewicz'}]}\n",
      "{'number': 2, 'lecturers': [{'id': '342626', 'first_name': 'Julita', 'last_name': 'Bielaniewicz'}]}\n",
      "{'number': 3, 'lecturers': [{'id': '346079', 'first_name': 'Katarzyna', 'last_name': 'Fojcik'}]}\n",
      "{'number': 3, 'lecturers': [{'id': '346079', 'first_name': 'Katarzyna', 'last_name': 'Fojcik'}]}\n",
      "{'number': 4, 'lecturers': [{'id': '405702', 'first_name': 'Stanisław', 'last_name': 'Woźniak'}]}\n",
      "{'number': 4, 'lecturers': [{'id': '405702', 'first_name': 'Stanisław', 'last_name': 'Woźniak'}]}\n",
      "{'number': 5, 'lecturers': [{'id': '188637', 'first_name': 'Przemysław', 'last_name': 'Dolata'}]}\n",
      "{'number': 5, 'lecturers': [{'id': '188637', 'first_name': 'Przemysław', 'last_name': 'Dolata'}]}\n",
      "{'number': 6, 'lecturers': [{'id': '341661', 'first_name': 'Daria', 'last_name': 'Dziubałtowska'}]}\n",
      "{'number': 6, 'lecturers': [{'id': '341661', 'first_name': 'Daria', 'last_name': 'Dziubałtowska'}]}\n",
      "{'number': 7, 'lecturers': [{'id': '444081', 'first_name': 'Nadezhda', 'last_name': 'Dazhunts'}]}\n",
      "{'number': 7, 'lecturers': [{'id': '444081', 'first_name': 'Nadezhda', 'last_name': 'Dazhunts'}]}\n",
      "{'number': 8, 'lecturers': [{'id': '412556', 'first_name': 'Bartłomiej', 'last_name': 'Koptyra'}]}\n",
      "{'number': 8, 'lecturers': [{'id': '412556', 'first_name': 'Bartłomiej', 'last_name': 'Koptyra'}]}\n",
      "{'number': 9, 'lecturers': [{'id': '405702', 'first_name': 'Stanisław', 'last_name': 'Woźniak'}]}\n",
      "{'number': 9, 'lecturers': [{'id': '405702', 'first_name': 'Stanisław', 'last_name': 'Woźniak'}]}\n",
      "{'number': 10, 'lecturers': []}\n",
      "{'number': 10, 'lecturers': []}\n",
      "{'number': 11, 'lecturers': [{'id': '149337', 'first_name': 'Jan', 'last_name': 'Jakubik'}]}\n",
      "{'number': 11, 'lecturers': [{'id': '149337', 'first_name': 'Jan', 'last_name': 'Jakubik'}]}\n",
      "\n",
      "Course_group(name='Sztuczna inteligencja i inżynieria wiedzy', code='W04IST-SI0023W')\n",
      "{'number': 1, 'lecturers': []}\n",
      "{'number': 1, 'lecturers': []}\n",
      "\n",
      "Course_group(name='Wprowadzenie do zarządania projektami informatycznymi', code='W04IST-SI0801G')\n",
      "{'number': 1, 'lecturers': [{'id': '629', 'first_name': 'Hanna', 'last_name': 'Mazur'}]}\n",
      "{'number': 1, 'lecturers': [{'id': '629', 'first_name': 'Hanna', 'last_name': 'Mazur'}]}\n",
      "{'number': 2, 'lecturers': [{'id': '629', 'first_name': 'Hanna', 'last_name': 'Mazur'}]}\n",
      "{'number': 2, 'lecturers': [{'id': '629', 'first_name': 'Hanna', 'last_name': 'Mazur'}]}\n",
      "{'number': 3, 'lecturers': [{'id': '1056', 'first_name': 'Iwona', 'last_name': 'Dubielewicz'}]}\n",
      "{'number': 3, 'lecturers': [{'id': '1056', 'first_name': 'Iwona', 'last_name': 'Dubielewicz'}]}\n",
      "{'number': 4, 'lecturers': [{'id': '1056', 'first_name': 'Iwona', 'last_name': 'Dubielewicz'}]}\n",
      "{'number': 4, 'lecturers': [{'id': '1056', 'first_name': 'Iwona', 'last_name': 'Dubielewicz'}]}\n",
      "\n",
      "{'number': 1, 'lecturers': [{'id': '1056', 'first_name': 'Iwona', 'last_name': 'Dubielewicz'}]}\n"
     ]
    },
    {
     "ename": "TypeError",
     "evalue": "can only concatenate tuple (not \"int\") to tuple",
     "output_type": "error",
     "traceback": [
      "\u001B[1;31m---------------------------------------------------------------------------\u001B[0m",
      "\u001B[1;31mTypeError\u001B[0m                                 Traceback (most recent call last)",
      "Cell \u001B[1;32mIn[461], line 16\u001B[0m\n\u001B[0;32m     14\u001B[0m dates \u001B[38;5;241m=\u001B[39m convert_to_dates(days)\n\u001B[0;32m     15\u001B[0m weekday \u001B[38;5;241m=\u001B[39m get_weekday(dates)\n\u001B[1;32m---> 16\u001B[0m week_type \u001B[38;5;241m=\u001B[39m \u001B[43mget_week_type\u001B[49m\u001B[43m(\u001B[49m\u001B[43mdates\u001B[49m\u001B[43m)\u001B[49m\n\u001B[0;32m     17\u001B[0m group_lecturers \u001B[38;5;241m=\u001B[39m []\n\u001B[0;32m     18\u001B[0m \u001B[38;5;28;01mfor\u001B[39;00m lecturer \u001B[38;5;129;01min\u001B[39;00m group[\u001B[38;5;124m'\u001B[39m\u001B[38;5;124mlecturers\u001B[39m\u001B[38;5;124m'\u001B[39m]:\n",
      "Cell \u001B[1;32mIn[459], line 50\u001B[0m, in \u001B[0;36mget_week_type\u001B[1;34m(group_dates)\u001B[0m\n\u001B[0;32m     48\u001B[0m     \u001B[38;5;28;01mreturn\u001B[39;00m WeekType(counter[\u001B[38;5;241m0\u001B[39m] \u001B[38;5;241m+\u001B[39m \u001B[38;5;241m2\u001B[39m)\n\u001B[0;32m     49\u001B[0m \u001B[38;5;28;01melif\u001B[39;00m counter[\u001B[38;5;241m0\u001B[39m][\u001B[38;5;241m1\u001B[39m] \u001B[38;5;241m-\u001B[39m counter[\u001B[38;5;241m1\u001B[39m][\u001B[38;5;241m1\u001B[39m] \u001B[38;5;241m>\u001B[39m \u001B[38;5;241m4\u001B[39m:\n\u001B[1;32m---> 50\u001B[0m     \u001B[38;5;28;01mreturn\u001B[39;00m WeekType(\u001B[43mcounter\u001B[49m\u001B[43m[\u001B[49m\u001B[38;5;241;43m0\u001B[39;49m\u001B[43m]\u001B[49m\u001B[43m \u001B[49m\u001B[38;5;241;43m+\u001B[39;49m\u001B[43m \u001B[49m\u001B[38;5;241;43m2\u001B[39;49m)\n\u001B[0;32m     51\u001B[0m \u001B[38;5;28;01melse\u001B[39;00m:\n\u001B[0;32m     52\u001B[0m     \u001B[38;5;28;01mreturn\u001B[39;00m WeekType\u001B[38;5;241m.\u001B[39mOTHER\n",
      "\u001B[1;31mTypeError\u001B[0m: can only concatenate tuple (not \"int\") to tuple"
     ]
    }
   ],
   "source": [
    "ist_summer_registration_id = 'W04-IST-SI-6-23/24L'\n",
    "term='2023/24-L'\n",
    "types = get_course_types()\n",
    "course_groups = get_course_groups(ist_summer_registration_id)\n",
    "for crs_group in course_groups:\n",
    "    print(crs_group)\n",
    "    units = connection.get('services/courses/course_edition2', course_id=crs_group.code, term_id=term, fields='course_units[id|class_groups[number|lecturers]]')['course_units']\n",
    "    lecturers = {}\n",
    "    for course in units:\n",
    "        new_course = None\n",
    "        for group in course['class_groups']:\n",
    "            print(group)\n",
    "            days = get_group_activities(course['id'],group['number'])\n",
    "            dates = convert_to_dates(days)\n",
    "            weekday = get_weekday(dates)\n",
    "            week_type = get_week_type(dates)\n",
    "            group_lecturers = []\n",
    "            for lecturer in group['lecturers']:\n",
    "                if lecturer['id'] not in lecturers.keys():\n",
    "                    lecturers[lecturer['id']] = Lecturer(lecturer['id'], lecturer['first_name'], lecturer['last_name'])\n",
    "                group_lecturers.append(lecturers[lecturer['id']])\n",
    "            new_group = Group(lecturers=group_lecturers, course=new_course, weekday=weekday, week_type=week_type, start_time=None, end_time=None)\n",
    "            print(group)\n",
    "        print()\n"
   ],
   "metadata": {
    "collapsed": false,
    "ExecuteTime": {
     "end_time": "2024-02-10T16:48:35.902355200Z",
     "start_time": "2024-02-10T16:48:28.390305900Z"
    }
   },
   "id": "57170b07b2310983",
   "execution_count": 461
  },
  {
   "cell_type": "code",
   "outputs": [],
   "source": [
    "connection.get('services/courses/course_edition2', course_id=crs_group.code, term_id=term, fields='course_units[id|class_groups[lecturers]]')"
   ],
   "metadata": {
    "collapsed": false
   },
   "id": "5e0b5d3476fd8e29"
  },
  {
   "cell_type": "code",
   "outputs": [],
   "source": [
    "courses = [record['course_id'] for record in connection.get('services/registrations/registration', id='W04-IST-SI-6-23/24L', fields='related_courses')['related_courses']]"
   ],
   "metadata": {
    "collapsed": false
   },
   "id": "d0700854a88c7ba9"
  },
  {
   "cell_type": "code",
   "execution_count": 135,
   "outputs": [
    {
     "data": {
      "text/plain": "{'id': 'W04IST-SI0824G',\n 'name': {'pl': 'Programowanie aplikacji multimedialnych',\n  'en': 'Program Multimedia Applications'}}"
     },
     "execution_count": 135,
     "metadata": {},
     "output_type": "execute_result"
    }
   ],
   "source": [
    "course_id = courses[9]\n",
    "connection.get('services/courses/course', course_id=course_id)"
   ],
   "metadata": {
    "collapsed": false,
    "ExecuteTime": {
     "end_time": "2024-02-09T18:54:20.408403200Z",
     "start_time": "2024-02-09T18:54:20.339303Z"
    }
   },
   "id": "2c3bce9ba529e587"
  },
  {
   "cell_type": "markdown",
   "source": [
    "Getting term to use new API method, *services/courses/course'*."
   ],
   "metadata": {
    "collapsed": false
   },
   "id": "d5128738e64c2b4d"
  },
  {
   "cell_type": "code",
   "execution_count": 387,
   "outputs": [],
   "source": [
    "term = connection.get('services/courses/course', course_id=course_id, fields='terms')['terms'][0]['id']"
   ],
   "metadata": {
    "collapsed": false,
    "ExecuteTime": {
     "end_time": "2024-02-10T14:37:16.795897100Z",
     "start_time": "2024-02-10T14:37:16.364648Z"
    }
   },
   "id": "a3a3f294eaad1bf9"
  },
  {
   "cell_type": "code",
   "outputs": [
    {
     "data": {
      "text/plain": "'2023/24-L'"
     },
     "execution_count": 388,
     "metadata": {},
     "output_type": "execute_result"
    }
   ],
   "source": [
    "term"
   ],
   "metadata": {
    "collapsed": false,
    "ExecuteTime": {
     "end_time": "2024-02-10T14:37:20.559447300Z",
     "start_time": "2024-02-10T14:37:20.528520800Z"
    }
   },
   "id": "50afcde14564f9a",
   "execution_count": 388
  },
  {
   "cell_type": "markdown",
   "source": [
    "In this term course's edition we have lecture and project classes."
   ],
   "metadata": {
    "collapsed": false
   },
   "id": "23ca467e74d12dc6"
  },
  {
   "cell_type": "markdown",
   "source": [
    "We pick the first one. Fun fact: we are able to see if this chose is right in the next steps, empirically, not yet."
   ],
   "metadata": {
    "collapsed": false
   },
   "id": "f5ce53ee425004c9"
  },
  {
   "cell_type": "code",
   "execution_count": 138,
   "outputs": [],
   "source": [
    "unit = units[0]['id']"
   ],
   "metadata": {
    "collapsed": false,
    "ExecuteTime": {
     "end_time": "2024-02-09T18:55:01.509926800Z",
     "start_time": "2024-02-09T18:55:01.484077100Z"
    }
   },
   "id": "87eae858795eea1b"
  },
  {
   "cell_type": "code",
   "execution_count": 139,
   "outputs": [
    {
     "data": {
      "text/plain": "'65724'"
     },
     "execution_count": 139,
     "metadata": {},
     "output_type": "execute_result"
    }
   ],
   "source": [
    "unit"
   ],
   "metadata": {
    "collapsed": false,
    "ExecuteTime": {
     "end_time": "2024-02-09T18:55:02.559697900Z",
     "start_time": "2024-02-09T18:55:02.543567900Z"
    }
   },
   "id": "2b104d2f45b72a82"
  },
  {
   "cell_type": "code",
   "execution_count": 363,
   "outputs": [
    {
     "data": {
      "text/plain": "{'id': '65724'}"
     },
     "execution_count": 363,
     "metadata": {},
     "output_type": "execute_result"
    }
   ],
   "source": [
    "connection.get('services/courses/unit',unit_id=unit, )"
   ],
   "metadata": {
    "collapsed": false,
    "ExecuteTime": {
     "end_time": "2024-02-10T13:56:21.494192500Z",
     "start_time": "2024-02-10T13:56:21.134262700Z"
    }
   },
   "id": "a08f4459403cf22a"
  },
  {
   "cell_type": "markdown",
   "source": [
    "Now, look at the unit's groups."
   ],
   "metadata": {
    "collapsed": false
   },
   "id": "db68603f28026ee4"
  },
  {
   "cell_type": "code",
   "execution_count": 141,
   "outputs": [],
   "source": [
    "class_groups = connection.get('services/courses/course_unit',course_unit_id=unit, fields='class_groups')['class_groups']"
   ],
   "metadata": {
    "collapsed": false,
    "ExecuteTime": {
     "end_time": "2024-02-09T18:55:10.526890400Z",
     "start_time": "2024-02-09T18:55:10.396096800Z"
    }
   },
   "id": "7f47b31af23f1b91"
  },
  {
   "cell_type": "code",
   "execution_count": 142,
   "outputs": [
    {
     "data": {
      "text/plain": "[{'course_unit_id': '65724', 'number': 1},\n {'course_unit_id': '65724', 'number': 2},\n {'course_unit_id': '65724', 'number': 3},\n {'course_unit_id': '65724', 'number': 4},\n {'course_unit_id': '65724', 'number': 5},\n {'course_unit_id': '65724', 'number': 6}]"
     },
     "execution_count": 142,
     "metadata": {},
     "output_type": "execute_result"
    }
   ],
   "source": [
    "class_groups"
   ],
   "metadata": {
    "collapsed": false,
    "ExecuteTime": {
     "end_time": "2024-02-09T18:55:11.511384400Z",
     "start_time": "2024-02-09T18:55:11.488599500Z"
    }
   },
   "id": "678f2afa06d5d42"
  },
  {
   "cell_type": "markdown",
   "source": [
    "Hurrah. If it has only one group, it is the lecture - we've chosen right unit."
   ],
   "metadata": {
    "collapsed": false
   },
   "id": "addeab432424300e"
  },
  {
   "cell_type": "code",
   "execution_count": 143,
   "outputs": [
    {
     "data": {
      "text/plain": "{'lecturers': [{'id': '344836',\n   'first_name': 'Katarzyna',\n   'last_name': 'Białas'}]}"
     },
     "execution_count": 143,
     "metadata": {},
     "output_type": "execute_result"
    }
   ],
   "source": [
    "connection.get('services/groups/class_group',course_unit_id=class_groups[0]['course_unit_id'],              group_number=class_groups[0]['number'], fields='lecturers')"
   ],
   "metadata": {
    "collapsed": false,
    "ExecuteTime": {
     "end_time": "2024-02-09T18:55:16.020724100Z",
     "start_time": "2024-02-09T18:55:15.856387800Z"
    }
   },
   "id": "2e197a8103df8715"
  },
  {
   "cell_type": "markdown",
   "source": [
    "Next fun fact: there is no **Than** between Ngoc and Nguyen, because programmers didn't create place for the second name. Bad business analysis?\n",
    "And then we are able to look into dates of each of lectures."
   ],
   "metadata": {
    "collapsed": false
   },
   "id": "289762440343fdd5"
  },
  {
   "cell_type": "code",
   "execution_count": 144,
   "outputs": [
    {
     "data": {
      "text/plain": "[{'start_time': '2024-03-01 17:05:00',\n  'end_time': '2024-03-01 18:45:00',\n  'name': {'pl': 'Zajęcia laboratoryjne', 'en': 'Laboratory'},\n  'cgwm_id': 47506,\n  'classtype_id': 'L',\n  'unit_id': 65724},\n {'start_time': '2024-03-08 17:05:00',\n  'end_time': '2024-03-08 18:45:00',\n  'name': {'pl': 'Zajęcia laboratoryjne', 'en': 'Laboratory'},\n  'cgwm_id': 47506,\n  'classtype_id': 'L',\n  'unit_id': 65724},\n {'start_time': '2024-03-15 17:05:00',\n  'end_time': '2024-03-15 18:45:00',\n  'name': {'pl': 'Zajęcia laboratoryjne', 'en': 'Laboratory'},\n  'cgwm_id': 47506,\n  'classtype_id': 'L',\n  'unit_id': 65724},\n {'start_time': '2024-03-22 17:05:00',\n  'end_time': '2024-03-22 18:45:00',\n  'name': {'pl': 'Zajęcia laboratoryjne', 'en': 'Laboratory'},\n  'cgwm_id': 47506,\n  'classtype_id': 'L',\n  'unit_id': 65724},\n {'start_time': '2024-04-05 17:05:00',\n  'end_time': '2024-04-05 18:45:00',\n  'name': {'pl': 'Zajęcia laboratoryjne', 'en': 'Laboratory'},\n  'cgwm_id': 47506,\n  'classtype_id': 'L',\n  'unit_id': 65724},\n {'start_time': '2024-04-12 17:05:00',\n  'end_time': '2024-04-12 18:45:00',\n  'name': {'pl': 'Zajęcia laboratoryjne', 'en': 'Laboratory'},\n  'cgwm_id': 47506,\n  'classtype_id': 'L',\n  'unit_id': 65724},\n {'start_time': '2024-04-19 17:05:00',\n  'end_time': '2024-04-19 18:45:00',\n  'name': {'pl': 'Zajęcia laboratoryjne', 'en': 'Laboratory'},\n  'cgwm_id': 47506,\n  'classtype_id': 'L',\n  'unit_id': 65724},\n {'start_time': '2024-04-26 17:05:00',\n  'end_time': '2024-04-26 18:45:00',\n  'name': {'pl': 'Zajęcia laboratoryjne', 'en': 'Laboratory'},\n  'cgwm_id': 47506,\n  'classtype_id': 'L',\n  'unit_id': 65724},\n {'start_time': '2024-05-10 17:05:00',\n  'end_time': '2024-05-10 18:45:00',\n  'name': {'pl': 'Zajęcia laboratoryjne', 'en': 'Laboratory'},\n  'cgwm_id': 47506,\n  'classtype_id': 'L',\n  'unit_id': 65724},\n {'start_time': '2024-05-17 17:05:00',\n  'end_time': '2024-05-17 18:45:00',\n  'name': {'pl': 'Zajęcia laboratoryjne', 'en': 'Laboratory'},\n  'cgwm_id': 47506,\n  'classtype_id': 'L',\n  'unit_id': 65724},\n {'start_time': '2024-05-24 17:05:00',\n  'end_time': '2024-05-24 18:45:00',\n  'name': {'pl': 'Zajęcia laboratoryjne', 'en': 'Laboratory'},\n  'cgwm_id': 47506,\n  'classtype_id': 'L',\n  'unit_id': 65724},\n {'start_time': '2024-06-07 17:05:00',\n  'end_time': '2024-06-07 18:45:00',\n  'name': {'pl': 'Zajęcia laboratoryjne', 'en': 'Laboratory'},\n  'cgwm_id': 47506,\n  'classtype_id': 'L',\n  'unit_id': 65724},\n {'start_time': '2024-06-14 17:05:00',\n  'end_time': '2024-06-14 18:45:00',\n  'name': {'pl': 'Zajęcia laboratoryjne', 'en': 'Laboratory'},\n  'cgwm_id': 47506,\n  'classtype_id': 'L',\n  'unit_id': 65724},\n {'start_time': '2024-06-21 17:05:00',\n  'end_time': '2024-06-21 18:45:00',\n  'name': {'pl': 'Zajęcia laboratoryjne', 'en': 'Laboratory'},\n  'cgwm_id': 47506,\n  'classtype_id': 'L',\n  'unit_id': 65724},\n {'start_time': '2024-06-25 17:05:00',\n  'end_time': '2024-06-25 18:45:00',\n  'name': {'pl': 'Zajęcia laboratoryjne', 'en': 'Laboratory'},\n  'cgwm_id': 47506,\n  'classtype_id': 'L',\n  'unit_id': 65724}]"
     },
     "execution_count": 144,
     "metadata": {},
     "output_type": "execute_result"
    }
   ],
   "source": [
    "connection.get('services/tt/classgroup_dates2',\n",
    "               unit_id=class_groups[0]['course_unit_id'],\n",
    "               group_number=class_groups[0]['number'], \n",
    "               fields='start_time|end_time|name|cgwm_id|classtype_id|unit_id')"
   ],
   "metadata": {
    "collapsed": false,
    "ExecuteTime": {
     "end_time": "2024-02-09T18:55:27.035005400Z",
     "start_time": "2024-02-09T18:55:26.442490800Z"
    }
   },
   "id": "7525f740b38de5bd"
  },
  {
   "cell_type": "markdown",
   "source": [
    "# Question\n",
    "##### What do we do now?\n",
    "I did not find any simpler methods to extract data about odd/even weeks and day of the week. Therefore, if there is no such method, we must derive necessary data from lists such as this one above, with start_time and end_time and only these. It is not very hard task, nevertheless **how** to conduct such translation of information is open. Buzi."
   ],
   "metadata": {
    "collapsed": false
   },
   "id": "9aba316d2fc09a75"
  },
  {
   "cell_type": "markdown",
   "source": [
    "In addition: we may use special methods to request for many entities at once."
   ],
   "metadata": {
    "collapsed": false
   },
   "id": "c10a80705f696540"
  },
  {
   "cell_type": "code",
   "execution_count": 145,
   "outputs": [
    {
     "data": {
      "text/plain": "['W04IST-SI0012L', 'W04IST-SI0012W', 'W04IST-SI0023L']"
     },
     "execution_count": 145,
     "metadata": {},
     "output_type": "execute_result"
    }
   ],
   "source": [
    "courses[:3]"
   ],
   "metadata": {
    "collapsed": false,
    "ExecuteTime": {
     "end_time": "2024-02-09T18:55:34.056575200Z",
     "start_time": "2024-02-09T18:55:34.052043100Z"
    }
   },
   "id": "9e1347b4e7496b5c"
  },
  {
   "cell_type": "code",
   "execution_count": 353,
   "outputs": [
    {
     "data": {
      "text/plain": "{'W04IST-SI0012L': {'id': 'W04IST-SI0012L',\n  'name': {'pl': 'Hurtownie danych', 'en': 'Data Warehouses'},\n  'ects_credits_simplified': 2.0},\n 'W04IST-SI0012W': {'id': 'W04IST-SI0012W',\n  'name': {'pl': 'Hurtownie danych', 'en': 'Data Warehouses'},\n  'ects_credits_simplified': 2.0},\n 'W04IST-SI0023L': {'id': 'W04IST-SI0023L',\n  'name': {'pl': 'Sztuczna inteligencja i inżynieria wiedzy',\n   'en': 'Artificial Intelligence and Knowledge Engineering'},\n  'ects_credits_simplified': 3.0},\n 'W04IST-SI0023W': {'id': 'W04IST-SI0023W',\n  'name': {'pl': 'Sztuczna inteligencja i inżynieria wiedzy',\n   'en': 'Artificial Intelligence and Knowledge Engineering'},\n  'ects_credits_simplified': 2.0},\n 'W04IST-SI0801G': {'id': 'W04IST-SI0801G',\n  'name': {'pl': 'Wprowadzenie do zarządania projektami informatycznymi',\n   'en': 'Introduction to IT Project Management'},\n  'ects_credits_simplified': 4.0},\n 'W04IST-SI0802G': {'id': 'W04IST-SI0802G',\n  'name': {'pl': 'Wspomaganie zarządzania projektami informatycznymi',\n   'en': 'IT Project Management Support'},\n  'ects_credits_simplified': 4.0},\n 'W04IST-SI0818G': {'id': 'W04IST-SI0818G',\n  'name': {'pl': 'Rozproszone systemy informatyczne',\n   'en': 'Distributed Computer System'},\n  'ects_credits_simplified': 4.0},\n 'W04IST-SI0821G': {'id': 'W04IST-SI0821G',\n  'name': {'pl': 'Programowanie gier', 'en': 'Computer Game Programming'},\n  'ects_credits_simplified': 4.0},\n 'W04IST-SI0822G': {'id': 'W04IST-SI0822G',\n  'name': {'pl': 'Zaawansowane technologie webowe',\n   'en': 'Advanced Web Technologies'},\n  'ects_credits_simplified': 4.0},\n 'W04IST-SI0824G': {'id': 'W04IST-SI0824G',\n  'name': {'pl': 'Programowanie aplikacji multimedialnych',\n   'en': 'Program Multimedia Applications'},\n  'ects_credits_simplified': 4.0},\n 'W04IST-SI0825G': {'id': 'W04IST-SI0825G',\n  'name': {'pl': 'Techniki przetwarzania mediów cyfrowych',\n   'en': 'Digital Media Processing Techniques'},\n  'ects_credits_simplified': 4.0},\n 'W04IST-SI0828G': {'id': 'W04IST-SI0828G',\n  'name': {'pl': 'Programowanie w chmurze', 'en': 'Cloud programming'},\n  'ects_credits_simplified': 4.0}}"
     },
     "execution_count": 353,
     "metadata": {},
     "output_type": "execute_result"
    }
   ],
   "source": [
    "course_ids = reduce(lambda x, y: x + '|' + y, courses)\n",
    "connection.get('services/courses/courses', fields='id|name|ects_credits_simplified', course_ids=course_ids)"
   ],
   "metadata": {
    "collapsed": false,
    "ExecuteTime": {
     "end_time": "2024-02-10T13:32:59.462728500Z",
     "start_time": "2024-02-10T13:32:59.042248400Z"
    }
   },
   "id": "222b3cb1492643b2"
  },
  {
   "cell_type": "code",
   "outputs": [
    {
     "data": {
      "text/plain": "{'course_units_ids': ['62146']}"
     },
     "execution_count": 346,
     "metadata": {},
     "output_type": "execute_result"
    }
   ],
   "source": [
    "connection.get('services/courses/course_edition', course_id='W04IST-SI0023L', term_id=term, fields='course_units_ids')"
   ],
   "metadata": {
    "collapsed": false,
    "ExecuteTime": {
     "end_time": "2024-02-10T13:29:25.531796200Z",
     "start_time": "2024-02-10T13:29:25.009458900Z"
    }
   },
   "id": "a10088b2b31276e9",
   "execution_count": 346
  },
  {
   "cell_type": "code",
   "outputs": [],
   "source": [],
   "metadata": {
    "collapsed": false,
    "ExecuteTime": {
     "end_time": "2024-02-09T19:05:12.292555Z",
     "start_time": "2024-02-09T19:05:11.638617Z"
    }
   },
   "id": "b2ae1167496a4457",
   "execution_count": 166
  },
  {
   "cell_type": "code",
   "outputs": [],
   "source": [
    "from collections import Counter\n",
    "from planner.models.groups import DayOfWeek, WeekType, Group\n",
    "from datetime import date, datetime"
   ],
   "metadata": {
    "collapsed": false,
    "ExecuteTime": {
     "end_time": "2024-02-10T09:50:12.045691900Z",
     "start_time": "2024-02-10T09:50:12.029359Z"
    }
   },
   "id": "83bb17de3a18963a",
   "execution_count": 318
  },
  {
   "cell_type": "code",
   "outputs": [],
   "source": [
    "def get_groups(course_unit_id):\n",
    "    class_groups = connection.get('services/courses/course_unit', course_unit_id=course_unit_id, fields='class_groups')['class_groups']\n",
    "    groups_ids = reduce(lambda x, y: x + '|(' + y['course_unit_id'] + ',' + str(y['number']) + ')', class_groups, '')[1:]\n",
    "    groups = connection.get('services/groups/groups', group_ids=groups_ids, fields='lecturers')\n",
    "    return groups"
   ],
   "metadata": {
    "collapsed": false,
    "ExecuteTime": {
     "end_time": "2024-02-10T09:43:37.002676100Z",
     "start_time": "2024-02-10T09:43:36.974707400Z"
    }
   },
   "id": "d8ce5fe2c5961b3e",
   "execution_count": 305
  },
  {
   "cell_type": "code",
   "outputs": [],
   "source": [
    "from typing import Dict\n",
    "\n",
    "\n",
    "def get_unit_groups(course_unit_id: Union[str,int]) -> list[Dict[str, str]]:\n",
    "    unit_groups = connection.get('services/courses/course_unit', course_unit_id=course_unit_id, fields='class_groups')['class_groups']\n",
    "    return unit_groups    "
   ],
   "metadata": {
    "collapsed": false,
    "ExecuteTime": {
     "end_time": "2024-02-10T13:09:01.139662400Z",
     "start_time": "2024-02-10T13:09:01.131970500Z"
    }
   },
   "id": "4b5ec09efef27b35",
   "execution_count": 339
  },
  {
   "cell_type": "code",
   "outputs": [
    {
     "data": {
      "text/plain": "[{'course_unit_id': '62146', 'number': 1},\n {'course_unit_id': '62146', 'number': 2},\n {'course_unit_id': '62146', 'number': 3},\n {'course_unit_id': '62146', 'number': 4},\n {'course_unit_id': '62146', 'number': 5},\n {'course_unit_id': '62146', 'number': 6},\n {'course_unit_id': '62146', 'number': 7},\n {'course_unit_id': '62146', 'number': 8},\n {'course_unit_id': '62146', 'number': 9},\n {'course_unit_id': '62146', 'number': 10},\n {'course_unit_id': '62146', 'number': 11}]"
     },
     "execution_count": 340,
     "metadata": {},
     "output_type": "execute_result"
    }
   ],
   "source": [
    "unit_groups"
   ],
   "metadata": {
    "collapsed": false,
    "ExecuteTime": {
     "end_time": "2024-02-10T13:09:01.922630400Z",
     "start_time": "2024-02-10T13:09:01.899767100Z"
    }
   },
   "id": "8628219d9fae441",
   "execution_count": 340
  },
  {
   "cell_type": "code",
   "outputs": [],
   "source": [
    "unit_id = 62146\n",
    "unit_groups = get_unit_groups(62146)\n",
    "groups = []\n",
    "for group in unit_groups:\n",
    "    group_dates = get_group_dates(unit_id, group['number'])\n",
    "    group_weekday = get_day(group_dates)\n",
    "    group_week_type = get_week_type(group_dates)\n",
    "    new_group = (group_week_type,group_weekday)\n",
    "    groups.append(new_group)"
   ],
   "metadata": {
    "collapsed": false,
    "ExecuteTime": {
     "end_time": "2024-02-10T09:55:41.217007700Z",
     "start_time": "2024-02-10T09:55:40.311821700Z"
    }
   },
   "id": "92229770dfab0317",
   "execution_count": 337
  },
  {
   "cell_type": "code",
   "outputs": [
    {
     "data": {
      "text/plain": "[(<WeekType.EVERY_WEEK: 1>, <DayOfWeek.Monday: 1>),\n (<WeekType.EVERY_WEEK: 1>, <DayOfWeek.Monday: 1>),\n (<WeekType.EVERY_WEEK: 1>, <DayOfWeek.Tuesday: 2>),\n (<WeekType.EVERY_WEEK: 1>, <DayOfWeek.Friday: 5>),\n (<WeekType.EVERY_WEEK: 1>, <DayOfWeek.Tuesday: 2>),\n (<WeekType.EVERY_WEEK: 1>, <DayOfWeek.Friday: 5>),\n (<WeekType.EVERY_WEEK: 1>, <DayOfWeek.Friday: 5>),\n (<WeekType.EVERY_WEEK: 1>, <DayOfWeek.Thursday: 4>),\n (<WeekType.EVERY_WEEK: 1>, <DayOfWeek.Friday: 5>),\n (<WeekType.EVERY_WEEK: 1>, <DayOfWeek.Tuesday: 2>),\n (<WeekType.EVERY_WEEK: 1>, <DayOfWeek.Friday: 5>)]"
     },
     "execution_count": 338,
     "metadata": {},
     "output_type": "execute_result"
    }
   ],
   "source": [
    "groups"
   ],
   "metadata": {
    "collapsed": false,
    "ExecuteTime": {
     "end_time": "2024-02-10T09:55:41.853498400Z",
     "start_time": "2024-02-10T09:55:41.820019900Z"
    }
   },
   "id": "7aab748cf6d0d15e",
   "execution_count": 338
  },
  {
   "cell_type": "code",
   "outputs": [
    {
     "data": {
      "text/plain": "{'(62146,1)': {'lecturers': [{'id': '342626',\n    'first_name': 'Julita',\n    'last_name': 'Bielaniewicz',\n    'user_id': '342626'}]},\n '(62146,2)': {'lecturers': [{'id': '342626',\n    'first_name': 'Julita',\n    'last_name': 'Bielaniewicz',\n    'user_id': '342626'}]},\n '(62146,3)': {'lecturers': [{'id': '346079',\n    'first_name': 'Katarzyna',\n    'last_name': 'Fojcik',\n    'user_id': '346079'}]},\n '(62146,4)': {'lecturers': [{'id': '405702',\n    'first_name': 'Stanisław',\n    'last_name': 'Woźniak',\n    'user_id': '405702'}]},\n '(62146,5)': {'lecturers': [{'id': '188637',\n    'first_name': 'Przemysław',\n    'last_name': 'Dolata',\n    'user_id': '188637'}]},\n '(62146,6)': {'lecturers': [{'id': '341661',\n    'first_name': 'Daria',\n    'last_name': 'Dziubałtowska',\n    'user_id': '341661'}]},\n '(62146,7)': {'lecturers': [{'id': '444081',\n    'first_name': 'Nadezhda',\n    'last_name': 'Dazhunts',\n    'user_id': '444081'}]},\n '(62146,8)': {'lecturers': [{'id': '412556',\n    'first_name': 'Bartłomiej',\n    'last_name': 'Koptyra',\n    'user_id': '412556'}]},\n '(62146,9)': {'lecturers': [{'id': '405702',\n    'first_name': 'Stanisław',\n    'last_name': 'Woźniak',\n    'user_id': '405702'}]},\n '(62146,10)': {'lecturers': []},\n '(62146,11)': {'lecturers': [{'id': '149337',\n    'first_name': 'Jan',\n    'last_name': 'Jakubik',\n    'user_id': '149337'}]}}"
     },
     "execution_count": 341,
     "metadata": {},
     "output_type": "execute_result"
    }
   ],
   "source": [
    "get_groups('62146')"
   ],
   "metadata": {
    "collapsed": false,
    "ExecuteTime": {
     "end_time": "2024-02-10T13:11:03.495993200Z",
     "start_time": "2024-02-10T13:11:02.942663700Z"
    }
   },
   "id": "90d91a02fa1c916b",
   "execution_count": 341
  },
  {
   "cell_type": "markdown",
   "source": [
    "# Z TEGO WYSZŁO TAMTO:"
   ],
   "metadata": {
    "collapsed": false
   },
   "id": "57ec5a227409bc35"
  },
  {
   "cell_type": "code",
   "outputs": [],
   "source": [
    "class_groups = connection.get('services/courses/course_unit', course_unit_id='62146', fields='class_groups')['class_groups']"
   ],
   "metadata": {
    "collapsed": false
   },
   "id": "942fde1faaa11a61"
  },
  {
   "cell_type": "code",
   "outputs": [
    {
     "data": {
      "text/plain": "[{'name': {'pl': 'Zajęcia laboratoryjne', 'en': 'Laboratory'},\n  'cgwm_id': 47441,\n  'lecturer_ids': [341661],\n  'course_name': {'pl': 'Sztuczna inteligencja i inżynieria wiedzy',\n   'en': 'Artificial Intelligence and Knowledge Engineering'},\n  'classtype_name': {'pl': 'Zajęcia laboratoryjne', 'en': 'Laboratory'}}]"
     },
     "execution_count": 227,
     "metadata": {},
     "output_type": "execute_result"
    }
   ],
   "source": [
    "connection.get('services/tt/classgroup', unit_id='62146', start='2024-03-11', group_number='6', fields='name|cgwm_id|lecturer_ids|course_name|classtype_name|frequency')"
   ],
   "metadata": {
    "collapsed": false,
    "ExecuteTime": {
     "end_time": "2024-02-09T20:05:26.311193500Z",
     "start_time": "2024-02-09T20:05:26.230225700Z"
    }
   },
   "id": "43a5228201a4a5da",
   "execution_count": 227
  },
  {
   "cell_type": "code",
   "outputs": [],
   "source": [],
   "metadata": {
    "collapsed": false,
    "ExecuteTime": {
     "end_time": "2024-02-10T09:37:43.593259200Z",
     "start_time": "2024-02-10T09:37:43.571610Z"
    }
   },
   "id": "8e8daa99a166e59b",
   "execution_count": 291
  },
  {
   "cell_type": "code",
   "outputs": [
    {
     "data": {
      "text/plain": "<WeekType.EVERY_WEEK: 1>"
     },
     "execution_count": 293,
     "metadata": {},
     "output_type": "execute_result"
    }
   ],
   "source": [
    "days = get_group_activities('62146','6')\n",
    "dates = convert_to_dates(days)\n",
    "get_day(dates)\n",
    "get_week_type(dates)"
   ],
   "metadata": {
    "collapsed": false,
    "ExecuteTime": {
     "end_time": "2024-02-10T09:38:00.420023Z",
     "start_time": "2024-02-10T09:38:00.359389500Z"
    }
   },
   "id": "a639bf486a78c27c",
   "execution_count": 293
  },
  {
   "cell_type": "code",
   "outputs": [
    {
     "data": {
      "text/plain": "datetime.date(2024, 1, 1)"
     },
     "execution_count": 250,
     "metadata": {},
     "output_type": "execute_result"
    }
   ],
   "source": [
    "date.fromisoformat('2024-01-01')"
   ],
   "metadata": {
    "collapsed": false
   },
   "id": "23c4509029b8d510",
   "execution_count": 250
  },
  {
   "cell_type": "code",
   "outputs": [
    {
     "data": {
      "text/plain": "<DayOfWeek.Friday: 5>"
     },
     "execution_count": 264,
     "metadata": {},
     "output_type": "execute_result"
    }
   ],
   "source": [
    "Counter([DayOfWeek(date.weekday()+1) for date in dates]).most_common()[0][0]"
   ],
   "metadata": {
    "collapsed": false,
    "ExecuteTime": {
     "end_time": "2024-02-10T09:17:31.463131200Z",
     "start_time": "2024-02-10T09:17:31.449802100Z"
    }
   },
   "id": "20b9dc32270cdde3",
   "execution_count": 264
  },
  {
   "cell_type": "code",
   "outputs": [
    {
     "data": {
      "text/plain": "<WeekType.EVERY_WEEK: 1>"
     },
     "execution_count": 275,
     "metadata": {},
     "output_type": "execute_result"
    }
   ],
   "source": [
    "get_week_type(dates)"
   ],
   "metadata": {
    "collapsed": false,
    "ExecuteTime": {
     "end_time": "2024-02-10T09:27:30.012574900Z",
     "start_time": "2024-02-10T09:27:29.987211Z"
    }
   },
   "id": "b4f26f884d334010",
   "execution_count": 275
  },
  {
   "cell_type": "code",
   "outputs": [
    {
     "data": {
      "text/plain": "[(1, 8), (0, 7)]"
     },
     "execution_count": 271,
     "metadata": {},
     "output_type": "execute_result"
    }
   ],
   "source": [
    "Counter([date.isocalendar()[1] % 2 for date in dates]).most_common()"
   ],
   "metadata": {
    "collapsed": false,
    "ExecuteTime": {
     "end_time": "2024-02-10T09:26:00.415100300Z",
     "start_time": "2024-02-10T09:26:00.391679800Z"
    }
   },
   "id": "623c23e6a4ed1961",
   "execution_count": 271
  },
  {
   "cell_type": "code",
   "outputs": [
    {
     "data": {
      "text/plain": "'(62146,1)|(62146,2)|(62146,3)|(62146,4)|(62146,5)|(62146,6)|(62146,7)|(62146,8)|(62146,9)|(62146,10)|(62146,11)'"
     },
     "execution_count": 202,
     "metadata": {},
     "output_type": "execute_result"
    }
   ],
   "source": [
    "groups_ids"
   ],
   "metadata": {
    "collapsed": false,
    "ExecuteTime": {
     "end_time": "2024-02-09T19:14:44.715297Z",
     "start_time": "2024-02-09T19:14:44.698812800Z"
    }
   },
   "id": "c36bdff8d18abb3",
   "execution_count": 202
  },
  {
   "cell_type": "code",
   "outputs": [
    {
     "data": {
      "text/plain": "{'(62146,1)': {'lecturers': [{'id': '342626',\n    'first_name': 'Julita',\n    'last_name': 'Bielaniewicz',\n    'user_id': '342626'}]},\n '(62146,2)': {'lecturers': [{'id': '342626',\n    'first_name': 'Julita',\n    'last_name': 'Bielaniewicz',\n    'user_id': '342626'}]},\n '(62146,3)': {'lecturers': [{'id': '346079',\n    'first_name': 'Katarzyna',\n    'last_name': 'Fojcik',\n    'user_id': '346079'}]},\n '(62146,4)': {'lecturers': [{'id': '405702',\n    'first_name': 'Stanisław',\n    'last_name': 'Woźniak',\n    'user_id': '405702'}]},\n '(62146,5)': {'lecturers': [{'id': '188637',\n    'first_name': 'Przemysław',\n    'last_name': 'Dolata',\n    'user_id': '188637'}]},\n '(62146,6)': {'lecturers': [{'id': '341661',\n    'first_name': 'Daria',\n    'last_name': 'Dziubałtowska',\n    'user_id': '341661'}]},\n '(62146,7)': {'lecturers': [{'id': '444081',\n    'first_name': 'Nadezhda',\n    'last_name': 'Dazhunts',\n    'user_id': '444081'}]},\n '(62146,8)': {'lecturers': [{'id': '412556',\n    'first_name': 'Bartłomiej',\n    'last_name': 'Koptyra',\n    'user_id': '412556'}]},\n '(62146,9)': {'lecturers': [{'id': '405702',\n    'first_name': 'Stanisław',\n    'last_name': 'Woźniak',\n    'user_id': '405702'}]},\n '(62146,10)': {'lecturers': []},\n '(62146,11)': {'lecturers': [{'id': '149337',\n    'first_name': 'Jan',\n    'last_name': 'Jakubik',\n    'user_id': '149337'}]}}"
     },
     "execution_count": 203,
     "metadata": {},
     "output_type": "execute_result"
    }
   ],
   "source": [
    "connection.get('services/groups/groups', group_ids=groups_ids, fields='lecturers')"
   ],
   "metadata": {
    "collapsed": false,
    "ExecuteTime": {
     "end_time": "2024-02-09T19:14:50.069284500Z",
     "start_time": "2024-02-09T19:14:49.974236700Z"
    }
   },
   "id": "9faa6a7ad6ac5a2b",
   "execution_count": 203
  },
  {
   "cell_type": "code",
   "outputs": [],
   "source": [],
   "metadata": {
    "collapsed": false
   },
   "id": "4a6b99d1e9287e80"
  }
 ],
 "metadata": {
  "kernelspec": {
   "display_name": "Python 3",
   "language": "python",
   "name": "python3"
  },
  "language_info": {
   "codemirror_mode": {
    "name": "ipython",
    "version": 2
   },
   "file_extension": ".py",
   "mimetype": "text/x-python",
   "name": "python",
   "nbconvert_exporter": "python",
   "pygments_lexer": "ipython2",
   "version": "2.7.6"
  }
 },
 "nbformat": 4,
 "nbformat_minor": 5
}
