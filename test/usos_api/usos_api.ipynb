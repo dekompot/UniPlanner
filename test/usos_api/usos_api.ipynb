{
 "cells": [
  {
   "cell_type": "code",
   "execution_count": 5,
   "id": "initial_id",
   "metadata": {
    "collapsed": true,
    "ExecuteTime": {
     "end_time": "2024-02-15T16:09:26.107923600Z",
     "start_time": "2024-02-15T16:09:26.082298100Z"
    }
   },
   "outputs": [],
   "source": [
    "from dataclasses import dataclass\n",
    "from typing import Union\n",
    "from datetime import datetime\n",
    "from usosapi import USOSAPIConnection\n",
    "from webbrowser import open\n",
    "from functools import reduce\n",
    "from api_secrets import  key, secret"
   ]
  },
  {
   "cell_type": "markdown",
   "source": [
    "# Logging in\n",
    "Firstly, we are creating new connection using consumer key and secret. Then, user need to perform authorization via browser and insert given pin number."
   ],
   "metadata": {
    "collapsed": false
   },
   "id": "c179cd06e8fbc299"
  },
  {
   "cell_type": "code",
   "execution_count": 6,
   "outputs": [],
   "source": [
    "connection = USOSAPIConnection(api_base_address='https://apps.usos.pwr.edu.pl/',\n",
    "                               consumer_key=key,\n",
    "                               consumer_secret=secret)\n",
    "connection_url = connection.get_authorization_url()\n",
    "open(connection_url)\n",
    "pin = input()"
   ],
   "metadata": {
    "collapsed": false,
    "ExecuteTime": {
     "end_time": "2024-02-15T16:09:38.608117500Z",
     "start_time": "2024-02-15T16:09:26.890832300Z"
    }
   },
   "id": "3dc06c9de5ce985d"
  },
  {
   "cell_type": "markdown",
   "source": [
    "USOSapi creates connection and test it."
   ],
   "metadata": {
    "collapsed": false
   },
   "id": "956fb840056a63cc"
  },
  {
   "cell_type": "code",
   "execution_count": 7,
   "outputs": [
    {
     "data": {
      "text/plain": "True"
     },
     "execution_count": 7,
     "metadata": {},
     "output_type": "execute_result"
    }
   ],
   "source": [
    "connection.authorize_with_pin(pin)\n",
    "connection.is_authorized()"
   ],
   "metadata": {
    "collapsed": false,
    "ExecuteTime": {
     "end_time": "2024-02-15T16:09:43.409437800Z",
     "start_time": "2024-02-15T16:09:42.645433900Z"
    }
   },
   "id": "eed04e2c158693a"
  },
  {
   "cell_type": "markdown",
   "source": [
    "Now we are able to download logged-in user's registrations.\n",
    "\n",
    "<div class=\"alert alert-block alert-warning\">\n",
    "<b>Warning:</b> We are not sure how will list behave when new registrations will appear. We may introduce choose of right registrations.\n",
    "</div>"
   ],
   "metadata": {
    "collapsed": false
   },
   "id": "6bd4f7b64f7b07da"
  },
  {
   "cell_type": "markdown",
   "source": [
    "Downloading and picking courses' ids."
   ],
   "metadata": {
    "collapsed": false
   },
   "id": "c955753dc6101e3d"
  },
  {
   "cell_type": "markdown",
   "source": [
    "# EXAMPLE\n",
    "Picking one course. I've chose Database design with Nguyen because the lecture is presented once every two weeks."
   ],
   "metadata": {
    "collapsed": false
   },
   "id": "29660b053e18d26d"
  },
  {
   "cell_type": "code",
   "outputs": [],
   "source": [
    "from planner.models.groups import WeekType\n",
    "\n",
    "\n",
    "@dataclass\n",
    "class Course_type:\n",
    "    id: int\n",
    "    name: str\n",
    "    \n",
    "\n",
    "@dataclass\n",
    "class Lecturer:\n",
    "    id: int\n",
    "    first_name: str\n",
    "    last_name: str\n",
    "\n",
    "@dataclass\n",
    "class Course_group:\n",
    "    \"\"\"\n",
    "    usos: COURSE EDITION\n",
    "    enrollment assistant: GRUPA KURSÓW\n",
    "    \"\"\"\n",
    "    name: str\n",
    "    code: str\n",
    "    \n",
    "    \n",
    "@dataclass\n",
    "class Course:\n",
    "    \"\"\"\n",
    "    usos: COURSE UNIT\n",
    "    enrollment assistant: KURS\n",
    "    \"\"\"\n",
    "    type: Course_type\n",
    "    course_group: Course_group\n",
    "\n",
    "@dataclass\n",
    "class Group:\n",
    "    \"\"\"\n",
    "    usos: GROUP / CLASS GROUP\n",
    "    enrollment assistant: GRUPA ZAJĘCIOWA\n",
    "    \"\"\"\n",
    "    lecturers: list[Lecturer]\n",
    "    course: Course\n",
    "    weekday: int\n",
    "    week_type: WeekType\n",
    "    start_time: datetime\n",
    "    end_time: datetime"
   ],
   "metadata": {
    "collapsed": false,
    "ExecuteTime": {
     "end_time": "2024-02-15T16:09:53.087363900Z",
     "start_time": "2024-02-15T16:09:53.027577500Z"
    }
   },
   "id": "605adde725335741",
   "execution_count": 8
  },
  {
   "cell_type": "code",
   "outputs": [],
   "source": [
    "def download_course_types() -> dict:\n",
    "    return connection.get('services/courses/classtypes_index')\n",
    "\n",
    "def get_course_types() -> list[Course_type]:\n",
    "    types: list[Course_type] = []\n",
    "    for course_type in download_course_types().values():\n",
    "        new_type = Course_type(course_type['id'], course_type['name']['pl'])\n",
    "        types.append(new_type)\n",
    "    return types\n",
    "\n",
    "def get_course_groups(registration_id: str) -> list[Course_group]:\n",
    "    syllabus_courses = get_syllabus_courses(registration_id)\n",
    "    return [create_course_group(course_dict) for course_dict in syllabus_courses]\n",
    "    \n",
    "def get_syllabus_courses(registration_id: str):\n",
    "    syllabus_courses_ids = download_syllabus_courses_ids(registration_id)\n",
    "    query_from_syllabus = reduce(lambda x, y: x + '|' + y, syllabus_courses_ids)\n",
    "    syllabus_courses = download_syllabus_courses(query_from_syllabus)\n",
    "    return list(syllabus_courses.values())\n",
    "\n",
    "def download_syllabus_courses_ids(registration_id: str) -> list[dict]:\n",
    "    return [record['course_id'] for record in connection.get('services/registrations/registration', id=registration_id, fields='related_courses')['related_courses']]\n",
    "\n",
    "def download_syllabus_courses(ids_query_str: str) -> list[dict]:\n",
    "    return connection.get('services/courses/courses', fields='id|name', course_ids=ids_query_str)\n",
    "\n",
    "def create_course_group(course_dict) -> Course_group:\n",
    "    return Course_group(code=course_dict['id'], name=course_dict['name']['pl'])\n",
    "\n",
    "def get_group_dates(unit_id, group_number):\n",
    "    return convert_to_dates(get_group_activities(unit_id,group_number))\n",
    "\n",
    "def get_group_activities(unit_id, group_number):\n",
    "    return connection.get('services/tt/classgroup_dates2', unit_id=unit_id, fields='start_time|end_time', group_number=group_number)\n",
    "\n",
    "def convert_to_dates(group_activities):\n",
    "    return [datetime.strptime(day['start_time'], '%Y-%m-%d %H:%M:%S') for day in group_activities]\n",
    "\n",
    "def get_weekday(group_dates):\n",
    "    return Counter([DayOfWeek(date.weekday()+1) for date in group_dates]).most_common()[0][0]\n",
    "\n",
    "def get_week_type(group_dates):\n",
    "    if len(dates) > 10:\n",
    "        return WeekType.EVERY_WEEK\n",
    "    else:\n",
    "        counter = Counter([date.isocalendar()[1] % 2 for date in group_dates]).most_common()\n",
    "        if len(counter) == 1:\n",
    "            return WeekType(counter[0][0] + 2)\n",
    "        elif counter[0][1] - counter[1][1] > 4:\n",
    "            return WeekType(counter[0][0] + 2)\n",
    "        else:\n",
    "            return WeekType.OTHER\n",
    "\n",
    "def get_times(group_activities):\n",
    "    times = [(datetime.strptime(day['start_time'], '%Y-%m-%d %H:%M:%S'), datetime.strptime(day['end_time'], '%Y-%m-%d %H:%M:%S')) for day in group_activities]\n",
    "    return Counter([date[0].time() for date in times]).most_common()[0][0], Counter([date[1].time() for date in times]).most_common()[0][0]"
   ],
   "metadata": {
    "collapsed": false,
    "ExecuteTime": {
     "end_time": "2024-02-15T21:48:57.138729Z",
     "start_time": "2024-02-15T21:48:57.112723700Z"
    }
   },
   "id": "b52b95afa54cc32e",
   "execution_count": 83
  },
  {
   "cell_type": "markdown",
   "source": [
    "# MAIN FLOW"
   ],
   "metadata": {
    "collapsed": false
   },
   "id": "d36694c8d1c514ca"
  },
  {
   "cell_type": "markdown",
   "source": [],
   "metadata": {
    "collapsed": false
   },
   "id": "13f6f82ae5824879"
  },
  {
   "cell_type": "code",
   "outputs": [
    {
     "name": "stdout",
     "output_type": "stream",
     "text": [
      "Course_group(name='Hurtownie danych', code='W04IST-SI0012L')\n",
      "{'number': 1, 'lecturers': [{'id': '74307', 'first_name': 'Bernadetta', 'last_name': 'Maleszka'}]}\n",
      "group_lecturers [Lecturer(id='74307', first_name='Bernadetta', last_name='Maleszka')], new_course None, start_time 13:15:00, end_time 15:00:00, weekday Friday, week_type EVERY_WEEK\n",
      "{'number': 2, 'lecturers': [{'id': '187', 'first_name': 'Lech', 'last_name': 'Tuzinkiewicz'}]}\n",
      "group_lecturers [Lecturer(id='187', first_name='Lech', last_name='Tuzinkiewicz')], new_course None, start_time 13:15:00, end_time 15:00:00, weekday Friday, week_type EVERY_WEEK\n",
      "{'number': 3, 'lecturers': [{'id': '74307', 'first_name': 'Bernadetta', 'last_name': 'Maleszka'}]}\n",
      "group_lecturers [Lecturer(id='74307', first_name='Bernadetta', last_name='Maleszka')], new_course None, start_time 11:15:00, end_time 13:00:00, weekday Monday, week_type EVERY_WEEK\n",
      "{'number': 4, 'lecturers': [{'id': '74307', 'first_name': 'Bernadetta', 'last_name': 'Maleszka'}]}\n",
      "group_lecturers [Lecturer(id='74307', first_name='Bernadetta', last_name='Maleszka')], new_course None, start_time 13:15:00, end_time 15:00:00, weekday Monday, week_type EVERY_WEEK\n",
      "{'number': 5, 'lecturers': [{'id': '74307', 'first_name': 'Bernadetta', 'last_name': 'Maleszka'}]}\n",
      "group_lecturers [Lecturer(id='74307', first_name='Bernadetta', last_name='Maleszka')], new_course None, start_time 09:15:00, end_time 11:00:00, weekday Monday, week_type EVERY_WEEK\n",
      "{'number': 6, 'lecturers': [{'id': '187', 'first_name': 'Lech', 'last_name': 'Tuzinkiewicz'}]}\n",
      "group_lecturers [Lecturer(id='187', first_name='Lech', last_name='Tuzinkiewicz')], new_course None, start_time 15:15:00, end_time 16:55:00, weekday Friday, week_type EVERY_WEEK\n",
      "{'number': 7, 'lecturers': [{'id': '187', 'first_name': 'Lech', 'last_name': 'Tuzinkiewicz'}]}\n",
      "group_lecturers [Lecturer(id='187', first_name='Lech', last_name='Tuzinkiewicz')], new_course None, start_time 11:15:00, end_time 13:00:00, weekday Friday, week_type EVERY_WEEK\n",
      "{'number': 8, 'lecturers': [{'id': '187', 'first_name': 'Lech', 'last_name': 'Tuzinkiewicz'}]}\n",
      "group_lecturers [Lecturer(id='187', first_name='Lech', last_name='Tuzinkiewicz')], new_course None, start_time 09:15:00, end_time 11:00:00, weekday Friday, week_type EVERY_WEEK\n",
      "{'number': 9, 'lecturers': [{'id': '74307', 'first_name': 'Bernadetta', 'last_name': 'Maleszka'}]}\n",
      "group_lecturers [Lecturer(id='74307', first_name='Bernadetta', last_name='Maleszka')], new_course None, start_time 15:15:00, end_time 16:55:00, weekday Friday, week_type EVERY_WEEK\n",
      "{'number': 10, 'lecturers': [{'id': '738', 'first_name': 'Artur', 'last_name': 'Wilczek'}]}\n",
      "group_lecturers [Lecturer(id='738', first_name='Artur', last_name='Wilczek')], new_course None, start_time 18:55:00, end_time 20:35:00, weekday Monday, week_type EVERY_WEEK\n",
      "{'number': 11, 'lecturers': [{'id': '738', 'first_name': 'Artur', 'last_name': 'Wilczek'}]}\n",
      "group_lecturers [Lecturer(id='738', first_name='Artur', last_name='Wilczek')], new_course None, start_time 17:05:00, end_time 18:45:00, weekday Monday, week_type EVERY_WEEK\n",
      "\n",
      "Course_group(name='Hurtownie danych', code='W04IST-SI0012W')\n",
      "{'number': 1, 'lecturers': [{'id': '74307', 'first_name': 'Bernadetta', 'last_name': 'Maleszka'}]}\n",
      "group_lecturers [Lecturer(id='74307', first_name='Bernadetta', last_name='Maleszka')], new_course None, start_time 15:15:00, end_time 16:55:00, weekday Monday, week_type EVERY_WEEK\n",
      "\n",
      "Course_group(name='Sztuczna inteligencja i inżynieria wiedzy', code='W04IST-SI0023L')\n",
      "{'number': 1, 'lecturers': [{'id': '342626', 'first_name': 'Julita', 'last_name': 'Bielaniewicz'}]}\n",
      "group_lecturers [Lecturer(id='342626', first_name='Julita', last_name='Bielaniewicz')], new_course None, start_time 17:05:00, end_time 18:45:00, weekday Monday, week_type EVERY_WEEK\n",
      "{'number': 2, 'lecturers': [{'id': '342626', 'first_name': 'Julita', 'last_name': 'Bielaniewicz'}]}\n",
      "group_lecturers [Lecturer(id='342626', first_name='Julita', last_name='Bielaniewicz')], new_course None, start_time 18:55:00, end_time 20:35:00, weekday Monday, week_type EVERY_WEEK\n",
      "{'number': 3, 'lecturers': [{'id': '346079', 'first_name': 'Katarzyna', 'last_name': 'Fojcik'}]}\n",
      "group_lecturers [Lecturer(id='346079', first_name='Katarzyna', last_name='Fojcik')], new_course None, start_time 17:05:00, end_time 18:45:00, weekday Tuesday, week_type EVERY_WEEK\n",
      "{'number': 4, 'lecturers': [{'id': '405702', 'first_name': 'Stanisław', 'last_name': 'Woźniak'}]}\n",
      "group_lecturers [Lecturer(id='405702', first_name='Stanisław', last_name='Woźniak')], new_course None, start_time 07:30:00, end_time 09:00:00, weekday Friday, week_type EVERY_WEEK\n",
      "{'number': 5, 'lecturers': [{'id': '188637', 'first_name': 'Przemysław', 'last_name': 'Dolata'}]}\n",
      "group_lecturers [Lecturer(id='188637', first_name='Przemysław', last_name='Dolata')], new_course None, start_time 17:05:00, end_time 18:45:00, weekday Tuesday, week_type EVERY_WEEK\n",
      "{'number': 6, 'lecturers': [{'id': '341661', 'first_name': 'Daria', 'last_name': 'Dziubałtowska'}]}\n",
      "group_lecturers [Lecturer(id='341661', first_name='Daria', last_name='Dziubałtowska')], new_course None, start_time 13:15:00, end_time 15:00:00, weekday Friday, week_type EVERY_WEEK\n",
      "{'number': 7, 'lecturers': [{'id': '444081', 'first_name': 'Nadezhda', 'last_name': 'Dazhunts'}]}\n",
      "group_lecturers [Lecturer(id='444081', first_name='Nadezhda', last_name='Dazhunts')], new_course None, start_time 15:15:00, end_time 16:55:00, weekday Friday, week_type EVERY_WEEK\n",
      "{'number': 8, 'lecturers': [{'id': '412556', 'first_name': 'Bartłomiej', 'last_name': 'Koptyra'}]}\n",
      "group_lecturers [Lecturer(id='412556', first_name='Bartłomiej', last_name='Koptyra')], new_course None, start_time 07:30:00, end_time 09:00:00, weekday Thursday, week_type EVERY_WEEK\n",
      "{'number': 9, 'lecturers': [{'id': '405702', 'first_name': 'Stanisław', 'last_name': 'Woźniak'}]}\n",
      "group_lecturers [Lecturer(id='405702', first_name='Stanisław', last_name='Woźniak')], new_course None, start_time 09:15:00, end_time 11:00:00, weekday Friday, week_type EVERY_WEEK\n",
      "{'number': 10, 'lecturers': []}\n",
      "group_lecturers [], new_course None, start_time 18:55:00, end_time 20:35:00, weekday Tuesday, week_type EVERY_WEEK\n",
      "{'number': 11, 'lecturers': [{'id': '149337', 'first_name': 'Jan', 'last_name': 'Jakubik'}]}\n",
      "group_lecturers [Lecturer(id='149337', first_name='Jan', last_name='Jakubik')], new_course None, start_time 11:15:00, end_time 13:00:00, weekday Friday, week_type EVERY_WEEK\n",
      "\n",
      "Course_group(name='Sztuczna inteligencja i inżynieria wiedzy', code='W04IST-SI0023W')\n",
      "{'number': 1, 'lecturers': []}\n",
      "group_lecturers [], new_course None, start_time 13:15:00, end_time 15:00:00, weekday Thursday, week_type EVERY_WEEK\n",
      "\n",
      "Course_group(name='Wprowadzenie do zarządania projektami informatycznymi', code='W04IST-SI0801G')\n",
      "{'number': 1, 'lecturers': [{'id': '629', 'first_name': 'Hanna', 'last_name': 'Mazur'}]}\n",
      "group_lecturers [Lecturer(id='629', first_name='Hanna', last_name='Mazur')], new_course None, start_time 11:15:00, end_time 13:00:00, weekday Tuesday, week_type EVERY_WEEK\n",
      "{'number': 2, 'lecturers': [{'id': '629', 'first_name': 'Hanna', 'last_name': 'Mazur'}]}\n",
      "group_lecturers [Lecturer(id='629', first_name='Hanna', last_name='Mazur')], new_course None, start_time 09:15:00, end_time 11:00:00, weekday Tuesday, week_type EVERY_WEEK\n",
      "{'number': 3, 'lecturers': [{'id': '1056', 'first_name': 'Iwona', 'last_name': 'Dubielewicz'}]}\n",
      "group_lecturers [Lecturer(id='1056', first_name='Iwona', last_name='Dubielewicz')], new_course None, start_time 09:15:00, end_time 11:00:00, weekday Thursday, week_type EVERY_WEEK\n",
      "{'number': 4, 'lecturers': [{'id': '1056', 'first_name': 'Iwona', 'last_name': 'Dubielewicz'}]}\n",
      "group_lecturers [Lecturer(id='1056', first_name='Iwona', last_name='Dubielewicz')], new_course None, start_time 11:15:00, end_time 13:00:00, weekday Thursday, week_type EVERY_WEEK\n",
      "\n",
      "{'number': 1, 'lecturers': [{'id': '1056', 'first_name': 'Iwona', 'last_name': 'Dubielewicz'}]}\n",
      "group_lecturers [Lecturer(id='1056', first_name='Iwona', last_name='Dubielewicz')], new_course None, start_time 15:15:00, end_time 16:55:00, weekday Tuesday, week_type ODD_WEEK\n",
      "{'number': 2, 'lecturers': [{'id': '1056', 'first_name': 'Iwona', 'last_name': 'Dubielewicz'}]}\n",
      "group_lecturers [Lecturer(id='1056', first_name='Iwona', last_name='Dubielewicz')], new_course None, start_time 17:05:00, end_time 18:45:00, weekday Tuesday, week_type ODD_WEEK\n",
      "{'number': 3, 'lecturers': [{'id': '1478', 'first_name': 'Kazimierz', 'last_name': 'Frączkowski'}]}\n",
      "group_lecturers [Lecturer(id='1478', first_name='Kazimierz', last_name='Frączkowski')], new_course None, start_time 13:15:00, end_time 15:00:00, weekday Friday, week_type ODD_WEEK\n",
      "{'number': 4, 'lecturers': [{'id': '1478', 'first_name': 'Kazimierz', 'last_name': 'Frączkowski'}]}\n",
      "group_lecturers [Lecturer(id='1478', first_name='Kazimierz', last_name='Frączkowski')], new_course None, start_time 13:15:00, end_time 15:00:00, weekday Friday, week_type EVEN_WEEK\n",
      "\n",
      "{'number': 1, 'lecturers': [{'id': '1056', 'first_name': 'Iwona', 'last_name': 'Dubielewicz'}]}\n",
      "group_lecturers [Lecturer(id='1056', first_name='Iwona', last_name='Dubielewicz')], new_course None, start_time 15:15:00, end_time 16:55:00, weekday Tuesday, week_type EVEN_WEEK\n",
      "\n",
      "Course_group(name='Wspomaganie zarządzania projektami informatycznymi', code='W04IST-SI0802G')\n",
      "{'number': 1, 'lecturers': [{'id': '1478', 'first_name': 'Kazimierz', 'last_name': 'Frączkowski'}]}\n",
      "group_lecturers [Lecturer(id='1478', first_name='Kazimierz', last_name='Frączkowski')], new_course None, start_time 15:15:00, end_time 16:55:00, weekday Friday, week_type ODD_WEEK\n",
      "{'number': 2, 'lecturers': [{'id': '1478', 'first_name': 'Kazimierz', 'last_name': 'Frączkowski'}]}\n",
      "group_lecturers [Lecturer(id='1478', first_name='Kazimierz', last_name='Frączkowski')], new_course None, start_time 15:15:00, end_time 16:55:00, weekday Friday, week_type EVEN_WEEK\n",
      "{'number': 3, 'lecturers': [{'id': '88626', 'first_name': 'Rafał', 'last_name': 'Kern'}]}\n",
      "group_lecturers [Lecturer(id='88626', first_name='Rafał', last_name='Kern')], new_course None, start_time 07:30:00, end_time 09:00:00, weekday Thursday, week_type EVEN_WEEK\n",
      "{'number': 4, 'lecturers': [{'id': '586', 'first_name': 'Zbigniew', 'last_name': 'Telec'}]}\n",
      "group_lecturers [Lecturer(id='586', first_name='Zbigniew', last_name='Telec')], new_course None, start_time 09:15:00, end_time 11:00:00, weekday Monday, week_type ODD_WEEK\n",
      "{'number': 5, 'lecturers': [{'id': '586', 'first_name': 'Zbigniew', 'last_name': 'Telec'}]}\n",
      "group_lecturers [Lecturer(id='586', first_name='Zbigniew', last_name='Telec')], new_course None, start_time 15:15:00, end_time 16:55:00, weekday Tuesday, week_type EVEN_WEEK\n",
      "\n",
      "{'number': 1, 'lecturers': [{'id': '586', 'first_name': 'Zbigniew', 'last_name': 'Telec'}]}\n",
      "group_lecturers [Lecturer(id='586', first_name='Zbigniew', last_name='Telec')], new_course None, start_time 11:15:00, end_time 13:00:00, weekday Tuesday, week_type EVERY_WEEK\n",
      "{'number': 2, 'lecturers': [{'id': '586', 'first_name': 'Zbigniew', 'last_name': 'Telec'}]}\n",
      "group_lecturers [Lecturer(id='586', first_name='Zbigniew', last_name='Telec')], new_course None, start_time 13:15:00, end_time 15:00:00, weekday Tuesday, week_type EVERY_WEEK\n",
      "{'number': 3, 'lecturers': [{'id': '1478', 'first_name': 'Kazimierz', 'last_name': 'Frączkowski'}]}\n",
      "group_lecturers [Lecturer(id='1478', first_name='Kazimierz', last_name='Frączkowski')], new_course None, start_time 17:05:00, end_time 18:45:00, weekday Friday, week_type EVERY_WEEK\n",
      "{'number': 4, 'lecturers': [{'id': '822', 'first_name': 'Krystian', 'last_name': 'Wojtkiewicz'}]}\n",
      "group_lecturers [Lecturer(id='822', first_name='Krystian', last_name='Wojtkiewicz')], new_course None, start_time 09:15:00, end_time 11:00:00, weekday Thursday, week_type EVERY_WEEK\n",
      "{'number': 5, 'lecturers': [{'id': '88626', 'first_name': 'Rafał', 'last_name': 'Kern'}]}\n",
      "group_lecturers [Lecturer(id='88626', first_name='Rafał', last_name='Kern')], new_course None, start_time 09:15:00, end_time 11:00:00, weekday Thursday, week_type EVERY_WEEK\n",
      "{'number': 6, 'lecturers': [{'id': '586', 'first_name': 'Zbigniew', 'last_name': 'Telec'}]}\n",
      "group_lecturers [Lecturer(id='586', first_name='Zbigniew', last_name='Telec')], new_course None, start_time 07:30:00, end_time 09:00:00, weekday Monday, week_type EVERY_WEEK\n",
      "\n",
      "{'number': 1, 'lecturers': [{'id': '586', 'first_name': 'Zbigniew', 'last_name': 'Telec'}]}\n",
      "group_lecturers [Lecturer(id='586', first_name='Zbigniew', last_name='Telec')], new_course None, start_time 15:15:00, end_time 16:55:00, weekday Tuesday, week_type ODD_WEEK\n",
      "\n",
      "Course_group(name='Rozproszone systemy informatyczne', code='W04IST-SI0818G')\n",
      "{'number': 1, 'lecturers': [{'id': '65', 'first_name': 'Mariusz', 'last_name': 'Fraś'}]}\n",
      "group_lecturers [Lecturer(id='65', first_name='Mariusz', last_name='Fraś')], new_course None, start_time 13:15:00, end_time 15:00:00, weekday Tuesday, week_type EVERY_WEEK\n",
      "{'number': 2, 'lecturers': [{'id': '65', 'first_name': 'Mariusz', 'last_name': 'Fraś'}]}\n",
      "group_lecturers [Lecturer(id='65', first_name='Mariusz', last_name='Fraś')], new_course None, start_time 11:15:00, end_time 13:00:00, weekday Thursday, week_type EVERY_WEEK\n",
      "{'number': 3, 'lecturers': [{'id': '65', 'first_name': 'Mariusz', 'last_name': 'Fraś'}]}\n",
      "group_lecturers [Lecturer(id='65', first_name='Mariusz', last_name='Fraś')], new_course None, start_time 11:15:00, end_time 13:00:00, weekday Tuesday, week_type EVERY_WEEK\n",
      "\n",
      "{'number': 1, 'lecturers': [{'id': '65', 'first_name': 'Mariusz', 'last_name': 'Fraś'}]}\n",
      "group_lecturers [Lecturer(id='65', first_name='Mariusz', last_name='Fraś')], new_course None, start_time 13:15:00, end_time 15:00:00, weekday Wednesday, week_type EVERY_WEEK\n",
      "\n",
      "Course_group(name='Programowanie gier', code='W04IST-SI0821G')\n",
      "{'number': 1, 'lecturers': [{'id': '728', 'first_name': 'Bogumiła', 'last_name': 'Hnatkowska'}]}\n",
      "group_lecturers [Lecturer(id='728', first_name='Bogumiła', last_name='Hnatkowska')], new_course None, start_time 09:15:00, end_time 11:00:00, weekday Wednesday, week_type EVERY_WEEK\n",
      "{'number': 2, 'lecturers': [{'id': '728', 'first_name': 'Bogumiła', 'last_name': 'Hnatkowska'}]}\n",
      "group_lecturers [Lecturer(id='728', first_name='Bogumiła', last_name='Hnatkowska')], new_course None, start_time 11:15:00, end_time 13:00:00, weekday Monday, week_type EVERY_WEEK\n",
      "{'number': 3, 'lecturers': [{'id': '1565', 'first_name': 'Marek', 'last_name': 'Kopel'}]}\n",
      "group_lecturers [Lecturer(id='1565', first_name='Marek', last_name='Kopel')], new_course None, start_time 11:15:00, end_time 13:00:00, weekday Wednesday, week_type EVERY_WEEK\n",
      "{'number': 4, 'lecturers': [{'id': '1565', 'first_name': 'Marek', 'last_name': 'Kopel'}]}\n",
      "group_lecturers [Lecturer(id='1565', first_name='Marek', last_name='Kopel')], new_course None, start_time 13:15:00, end_time 15:00:00, weekday Wednesday, week_type EVERY_WEEK\n",
      "{'number': 5, 'lecturers': [{'id': '343185', 'first_name': 'Barbara', 'last_name': 'Wędrychowicz'}]}\n",
      "group_lecturers [Lecturer(id='343185', first_name='Barbara', last_name='Wędrychowicz')], new_course None, start_time 09:15:00, end_time 11:00:00, weekday Wednesday, week_type EVERY_WEEK\n",
      "{'number': 6, 'lecturers': [{'id': '343185', 'first_name': 'Barbara', 'last_name': 'Wędrychowicz'}]}\n",
      "group_lecturers [Lecturer(id='343185', first_name='Barbara', last_name='Wędrychowicz')], new_course None, start_time 11:15:00, end_time 13:00:00, weekday Wednesday, week_type EVERY_WEEK\n",
      "\n",
      "{'number': 1, 'lecturers': [{'id': '1565', 'first_name': 'Marek', 'last_name': 'Kopel'}, {'id': '728', 'first_name': 'Bogumiła', 'last_name': 'Hnatkowska'}]}\n",
      "group_lecturers [Lecturer(id='1565', first_name='Marek', last_name='Kopel'), Lecturer(id='728', first_name='Bogumiła', last_name='Hnatkowska')], new_course None, start_time 13:15:00, end_time 15:00:00, weekday Monday, week_type EVERY_WEEK\n",
      "\n",
      "Course_group(name='Zaawansowane technologie webowe', code='W04IST-SI0822G')\n",
      "{'number': 1, 'lecturers': [{'id': '450348', 'first_name': 'Piotr', 'last_name': 'Jóźwiak'}]}\n",
      "group_lecturers [Lecturer(id='450348', first_name='Piotr', last_name='Jóźwiak')], new_course None, start_time 18:55:00, end_time 20:35:00, weekday Thursday, week_type EVERY_WEEK\n",
      "{'number': 2, 'lecturers': [{'id': '450348', 'first_name': 'Piotr', 'last_name': 'Jóźwiak'}]}\n",
      "group_lecturers [Lecturer(id='450348', first_name='Piotr', last_name='Jóźwiak')], new_course None, start_time 18:55:00, end_time 20:35:00, weekday Friday, week_type EVERY_WEEK\n",
      "{'number': 3, 'lecturers': [{'id': '450348', 'first_name': 'Piotr', 'last_name': 'Jóźwiak'}]}\n",
      "group_lecturers [Lecturer(id='450348', first_name='Piotr', last_name='Jóźwiak')], new_course None, start_time 18:55:00, end_time 20:35:00, weekday Wednesday, week_type EVERY_WEEK\n",
      "{'number': 4, 'lecturers': [{'id': '450348', 'first_name': 'Piotr', 'last_name': 'Jóźwiak'}]}\n",
      "group_lecturers [Lecturer(id='450348', first_name='Piotr', last_name='Jóźwiak')], new_course None, start_time 17:05:00, end_time 18:45:00, weekday Friday, week_type EVERY_WEEK\n",
      "\n",
      "{'number': 1, 'lecturers': [{'id': '450348', 'first_name': 'Piotr', 'last_name': 'Jóźwiak'}]}\n",
      "group_lecturers [Lecturer(id='450348', first_name='Piotr', last_name='Jóźwiak')], new_course None, start_time 17:05:00, end_time 18:45:00, weekday Thursday, week_type EVERY_WEEK\n",
      "\n",
      "Course_group(name='Programowanie aplikacji multimedialnych', code='W04IST-SI0824G')\n",
      "{'number': 1, 'lecturers': [{'id': '344836', 'first_name': 'Katarzyna', 'last_name': 'Białas'}]}\n",
      "group_lecturers [Lecturer(id='344836', first_name='Katarzyna', last_name='Białas')], new_course None, start_time 17:05:00, end_time 18:45:00, weekday Friday, week_type EVERY_WEEK\n",
      "{'number': 2, 'lecturers': [{'id': '1046', 'first_name': 'Oleksandr', 'last_name': 'Yeroshkin'}]}\n",
      "group_lecturers [Lecturer(id='1046', first_name='Oleksandr', last_name='Yeroshkin')], new_course None, start_time 17:05:00, end_time 18:45:00, weekday Monday, week_type EVERY_WEEK\n",
      "{'number': 3, 'lecturers': [{'id': '344836', 'first_name': 'Katarzyna', 'last_name': 'Białas'}]}\n",
      "group_lecturers [Lecturer(id='344836', first_name='Katarzyna', last_name='Białas')], new_course None, start_time 15:15:00, end_time 16:55:00, weekday Friday, week_type EVERY_WEEK\n",
      "{'number': 4, 'lecturers': [{'id': '377697', 'first_name': 'Ewa', 'last_name': 'Łyko'}]}\n",
      "group_lecturers [Lecturer(id='377697', first_name='Ewa', last_name='Łyko')], new_course None, start_time 18:55:00, end_time 20:35:00, weekday Thursday, week_type EVERY_WEEK\n",
      "{'number': 5, 'lecturers': [{'id': '377697', 'first_name': 'Ewa', 'last_name': 'Łyko'}]}\n",
      "group_lecturers [Lecturer(id='377697', first_name='Ewa', last_name='Łyko')], new_course None, start_time 17:05:00, end_time 18:45:00, weekday Thursday, week_type EVERY_WEEK\n",
      "{'number': 6, 'lecturers': [{'id': '1046', 'first_name': 'Oleksandr', 'last_name': 'Yeroshkin'}]}\n",
      "group_lecturers [Lecturer(id='1046', first_name='Oleksandr', last_name='Yeroshkin')], new_course None, start_time 18:55:00, end_time 20:35:00, weekday Wednesday, week_type EVERY_WEEK\n",
      "\n",
      "{'number': 1, 'lecturers': [{'id': '23436', 'first_name': 'Stanisław', 'last_name': 'Saganowski'}]}\n",
      "group_lecturers [Lecturer(id='23436', first_name='Stanisław', last_name='Saganowski')], new_course None, start_time 09:15:00, end_time 11:00:00, weekday Friday, week_type EVERY_WEEK\n",
      "\n",
      "Course_group(name='Techniki przetwarzania mediów cyfrowych', code='W04IST-SI0825G')\n",
      "{'number': 1, 'lecturers': [{'id': '47', 'first_name': 'Elżbieta', 'last_name': 'Kukla'}]}\n",
      "group_lecturers [Lecturer(id='47', first_name='Elżbieta', last_name='Kukla')], new_course None, start_time 09:15:00, end_time 11:00:00, weekday Tuesday, week_type EVERY_WEEK\n",
      "{'number': 2, 'lecturers': [{'id': '47', 'first_name': 'Elżbieta', 'last_name': 'Kukla'}]}\n",
      "group_lecturers [Lecturer(id='47', first_name='Elżbieta', last_name='Kukla')], new_course None, start_time 11:15:00, end_time 13:00:00, weekday Tuesday, week_type EVERY_WEEK\n",
      "{'number': 3, 'lecturers': [{'id': '47', 'first_name': 'Elżbieta', 'last_name': 'Kukla'}]}\n",
      "group_lecturers [Lecturer(id='47', first_name='Elżbieta', last_name='Kukla')], new_course None, start_time 07:30:00, end_time 09:00:00, weekday Thursday, week_type EVERY_WEEK\n",
      "{'number': 4, 'lecturers': [{'id': '240', 'first_name': 'Kazimierz', 'last_name': 'Choroś'}]}\n",
      "group_lecturers [Lecturer(id='240', first_name='Kazimierz', last_name='Choroś')], new_course None, start_time 09:15:00, end_time 11:00:00, weekday Thursday, week_type EVERY_WEEK\n",
      "\n",
      "{'number': 1, 'lecturers': [{'id': '47', 'first_name': 'Elżbieta', 'last_name': 'Kukla'}]}\n",
      "group_lecturers [Lecturer(id='47', first_name='Elżbieta', last_name='Kukla')], new_course None, start_time 13:15:00, end_time 15:00:00, weekday Tuesday, week_type EVERY_WEEK\n",
      "\n",
      "Course_group(name='Programowanie w chmurze', code='W04IST-SI0828G')\n",
      "{'number': 1, 'lecturers': [{'id': '251632', 'first_name': 'Rafał', 'last_name': 'Palak'}]}\n",
      "group_lecturers [Lecturer(id='251632', first_name='Rafał', last_name='Palak')], new_course None, start_time 17:05:00, end_time 18:45:00, weekday Wednesday, week_type EVERY_WEEK\n",
      "\n",
      "{'number': 1, 'lecturers': [{'id': '914', 'first_name': 'Wojciech', 'last_name': 'Thomas'}]}\n",
      "group_lecturers [Lecturer(id='914', first_name='Wojciech', last_name='Thomas')], new_course None, start_time 09:15:00, end_time 11:00:00, weekday Monday, week_type EVERY_WEEK\n",
      "{'number': 2, 'lecturers': [{'id': '914', 'first_name': 'Wojciech', 'last_name': 'Thomas'}]}\n",
      "group_lecturers [Lecturer(id='914', first_name='Wojciech', last_name='Thomas')], new_course None, start_time 11:15:00, end_time 13:00:00, weekday Monday, week_type EVERY_WEEK\n",
      "{'number': 3, 'lecturers': []}\n",
      "group_lecturers [], new_course None, start_time 17:05:00, end_time 18:45:00, weekday Tuesday, week_type EVERY_WEEK\n",
      "{'number': 4, 'lecturers': []}\n",
      "group_lecturers [], new_course None, start_time 18:55:00, end_time 20:35:00, weekday Tuesday, week_type EVERY_WEEK\n",
      "{'number': 5, 'lecturers': []}\n",
      "group_lecturers [], new_course None, start_time 18:55:00, end_time 20:35:00, weekday Wednesday, week_type EVERY_WEEK\n",
      "{'number': 6, 'lecturers': [{'id': '251632', 'first_name': 'Rafał', 'last_name': 'Palak'}]}\n",
      "group_lecturers [Lecturer(id='251632', first_name='Rafał', last_name='Palak')], new_course None, start_time 13:15:00, end_time 15:00:00, weekday Wednesday, week_type EVERY_WEEK\n",
      "{'number': 7, 'lecturers': [{'id': '251632', 'first_name': 'Rafał', 'last_name': 'Palak'}]}\n",
      "group_lecturers [Lecturer(id='251632', first_name='Rafał', last_name='Palak')], new_course None, start_time 18:55:00, end_time 20:35:00, weekday Wednesday, week_type EVERY_WEEK\n"
     ]
    }
   ],
   "source": [
    "ist_summer_registration_id = 'W04-IST-SI-6-23/24L'\n",
    "term='2023/24-L'\n",
    "types = get_course_types()\n",
    "course_groups = get_course_groups(ist_summer_registration_id)\n",
    "for crs_group in course_groups:\n",
    "    print(crs_group)\n",
    "    units = connection.get('services/courses/course_edition2', course_id=crs_group.code, term_id=term, fields='course_units[id|class_groups[number|lecturers]]')['course_units']\n",
    "    lecturers = {}\n",
    "    for course in units:\n",
    "        new_course = None\n",
    "        for group in course['class_groups']:\n",
    "            print(group)\n",
    "            days = get_group_activities(course['id'],group['number'])\n",
    "            start_time, end_time = get_times(days)\n",
    "            dates = convert_to_dates(days)\n",
    "            weekday = get_weekday(dates)\n",
    "            week_type = get_week_type(dates)\n",
    "            group_lecturers = []\n",
    "            for lecturer in group['lecturers']:\n",
    "                if lecturer['id'] not in lecturers.keys():\n",
    "                    lecturers[lecturer['id']] = Lecturer(lecturer['id'], lecturer['first_name'], lecturer['last_name'])\n",
    "                group_lecturers.append(lecturers[lecturer['id']])\n",
    "            print(f\"group_lecturers {group_lecturers}, new_course {new_course}, start_time {start_time}, end_time {end_time}, weekday {weekday}, week_type {week_type}\")\n",
    "        print()\n"
   ],
   "metadata": {
    "collapsed": false,
    "ExecuteTime": {
     "end_time": "2024-02-15T22:02:19.847266400Z",
     "start_time": "2024-02-15T22:02:17.103980600Z"
    }
   },
   "id": "57170b07b2310983",
   "execution_count": 105
  },
  {
   "cell_type": "code",
   "outputs": [],
   "source": [
    "subjects = downloader.download_groups(user_name, user_password)\n",
    "file_name = '../../data/new_.json'\n",
    "dump_to_file(subjects, file_name)"
   ],
   "metadata": {
    "collapsed": false
   },
   "id": "1e3f1478eb9bbc9"
  },
  {
   "cell_type": "code",
   "outputs": [
    {
     "ename": "TypeError",
     "evalue": "MainWindow.__init__() missing 1 required positional argument: 'parent'",
     "output_type": "error",
     "traceback": [
      "\u001B[1;31m---------------------------------------------------------------------------\u001B[0m",
      "\u001B[1;31mTypeError\u001B[0m                                 Traceback (most recent call last)",
      "Cell \u001B[1;32mIn[106], line 3\u001B[0m\n\u001B[0;32m      1\u001B[0m \u001B[38;5;28;01mfrom\u001B[39;00m \u001B[38;5;21;01mplanner\u001B[39;00m\u001B[38;5;21;01m.\u001B[39;00m\u001B[38;5;21;01mview\u001B[39;00m\u001B[38;5;21;01m.\u001B[39;00m\u001B[38;5;21;01mmain_window\u001B[39;00m \u001B[38;5;28;01mimport\u001B[39;00m MainWindow\n\u001B[1;32m----> 3\u001B[0m main_window \u001B[38;5;241m=\u001B[39m \u001B[43mMainWindow\u001B[49m\u001B[43m(\u001B[49m\u001B[43m)\u001B[49m\n\u001B[0;32m      4\u001B[0m main_window\u001B[38;5;241m.\u001B[39mload_courses([])\n\u001B[0;32m      5\u001B[0m main_window\u001B[38;5;241m.\u001B[39mshow()\n",
      "\u001B[1;31mTypeError\u001B[0m: MainWindow.__init__() missing 1 required positional argument: 'parent'"
     ]
    }
   ],
   "source": [
    "from planner.view.main_window import MainWindow\n",
    "\n",
    "main_window = MainWindow()\n",
    "main_window.load_courses([])\n",
    "main_window.show()"
   ],
   "metadata": {
    "collapsed": false,
    "ExecuteTime": {
     "end_time": "2024-02-15T22:10:54.999277400Z",
     "start_time": "2024-02-15T22:10:53.458229Z"
    }
   },
   "id": "dfdc90afc652d160",
   "execution_count": 106
  },
  {
   "cell_type": "code",
   "outputs": [
    {
     "data": {
      "text/plain": "{'course_units': [{'id': '62144',\n   'class_groups': [{'lecturers': [{'id': '74307',\n       'first_name': 'Bernadetta',\n       'last_name': 'Maleszka'}]},\n    {'lecturers': [{'id': '187',\n       'first_name': 'Lech',\n       'last_name': 'Tuzinkiewicz'}]},\n    {'lecturers': [{'id': '74307',\n       'first_name': 'Bernadetta',\n       'last_name': 'Maleszka'}]},\n    {'lecturers': [{'id': '74307',\n       'first_name': 'Bernadetta',\n       'last_name': 'Maleszka'}]},\n    {'lecturers': [{'id': '74307',\n       'first_name': 'Bernadetta',\n       'last_name': 'Maleszka'}]},\n    {'lecturers': [{'id': '187',\n       'first_name': 'Lech',\n       'last_name': 'Tuzinkiewicz'}]},\n    {'lecturers': [{'id': '187',\n       'first_name': 'Lech',\n       'last_name': 'Tuzinkiewicz'}]},\n    {'lecturers': [{'id': '187',\n       'first_name': 'Lech',\n       'last_name': 'Tuzinkiewicz'}]},\n    {'lecturers': [{'id': '74307',\n       'first_name': 'Bernadetta',\n       'last_name': 'Maleszka'}]},\n    {'lecturers': [{'id': '738',\n       'first_name': 'Artur',\n       'last_name': 'Wilczek'}]},\n    {'lecturers': [{'id': '738',\n       'first_name': 'Artur',\n       'last_name': 'Wilczek'}]}]}]}"
     },
     "execution_count": 14,
     "metadata": {},
     "output_type": "execute_result"
    }
   ],
   "source": [
    "connection.get('services/courses/course_edition2', course_id=crs_group.code, term_id=term, fields='course_units[id|class_groups[lecturers]]')"
   ],
   "metadata": {
    "collapsed": false,
    "ExecuteTime": {
     "end_time": "2024-02-15T16:10:03.175381900Z",
     "start_time": "2024-02-15T16:10:02.994122700Z"
    }
   },
   "id": "5e0b5d3476fd8e29",
   "execution_count": 14
  },
  {
   "cell_type": "code",
   "outputs": [],
   "source": [
    "courses = [record['course_id'] for record in connection.get('services/registrations/registration', id='W04-IST-SI-6-23/24L', fields='related_courses')['related_courses']]"
   ],
   "metadata": {
    "collapsed": false
   },
   "id": "d0700854a88c7ba9"
  },
  {
   "cell_type": "code",
   "execution_count": 135,
   "outputs": [
    {
     "data": {
      "text/plain": "{'id': 'W04IST-SI0824G',\n 'name': {'pl': 'Programowanie aplikacji multimedialnych',\n  'en': 'Program Multimedia Applications'}}"
     },
     "execution_count": 135,
     "metadata": {},
     "output_type": "execute_result"
    }
   ],
   "source": [
    "course_id = courses[9]\n",
    "connection.get('services/courses/course', course_id=course_id)"
   ],
   "metadata": {
    "collapsed": false,
    "ExecuteTime": {
     "end_time": "2024-02-09T18:54:20.408403200Z",
     "start_time": "2024-02-09T18:54:20.339303Z"
    }
   },
   "id": "2c3bce9ba529e587"
  },
  {
   "cell_type": "markdown",
   "source": [
    "Getting term to use new API method, *services/courses/course'*."
   ],
   "metadata": {
    "collapsed": false
   },
   "id": "d5128738e64c2b4d"
  },
  {
   "cell_type": "code",
   "execution_count": 387,
   "outputs": [],
   "source": [
    "term = connection.get('services/courses/course', course_id=course_id, fields='terms')['terms'][0]['id']"
   ],
   "metadata": {
    "collapsed": false,
    "ExecuteTime": {
     "end_time": "2024-02-10T14:37:16.795897100Z",
     "start_time": "2024-02-10T14:37:16.364648Z"
    }
   },
   "id": "a3a3f294eaad1bf9"
  },
  {
   "cell_type": "code",
   "outputs": [
    {
     "data": {
      "text/plain": "'2023/24-L'"
     },
     "execution_count": 388,
     "metadata": {},
     "output_type": "execute_result"
    }
   ],
   "source": [
    "term"
   ],
   "metadata": {
    "collapsed": false,
    "ExecuteTime": {
     "end_time": "2024-02-10T14:37:20.559447300Z",
     "start_time": "2024-02-10T14:37:20.528520800Z"
    }
   },
   "id": "50afcde14564f9a",
   "execution_count": 388
  },
  {
   "cell_type": "markdown",
   "source": [
    "In this term course's edition we have lecture and project classes."
   ],
   "metadata": {
    "collapsed": false
   },
   "id": "23ca467e74d12dc6"
  },
  {
   "cell_type": "markdown",
   "source": [
    "We pick the first one. Fun fact: we are able to see if this chose is right in the next steps, empirically, not yet."
   ],
   "metadata": {
    "collapsed": false
   },
   "id": "f5ce53ee425004c9"
  },
  {
   "cell_type": "code",
   "execution_count": 138,
   "outputs": [],
   "source": [
    "unit = units[0]['id']"
   ],
   "metadata": {
    "collapsed": false,
    "ExecuteTime": {
     "end_time": "2024-02-09T18:55:01.509926800Z",
     "start_time": "2024-02-09T18:55:01.484077100Z"
    }
   },
   "id": "87eae858795eea1b"
  },
  {
   "cell_type": "code",
   "execution_count": 139,
   "outputs": [
    {
     "data": {
      "text/plain": "'65724'"
     },
     "execution_count": 139,
     "metadata": {},
     "output_type": "execute_result"
    }
   ],
   "source": [
    "unit"
   ],
   "metadata": {
    "collapsed": false,
    "ExecuteTime": {
     "end_time": "2024-02-09T18:55:02.559697900Z",
     "start_time": "2024-02-09T18:55:02.543567900Z"
    }
   },
   "id": "2b104d2f45b72a82"
  },
  {
   "cell_type": "code",
   "execution_count": 363,
   "outputs": [
    {
     "data": {
      "text/plain": "{'id': '65724'}"
     },
     "execution_count": 363,
     "metadata": {},
     "output_type": "execute_result"
    }
   ],
   "source": [
    "connection.get('services/courses/unit',unit_id=unit, )"
   ],
   "metadata": {
    "collapsed": false,
    "ExecuteTime": {
     "end_time": "2024-02-10T13:56:21.494192500Z",
     "start_time": "2024-02-10T13:56:21.134262700Z"
    }
   },
   "id": "a08f4459403cf22a"
  },
  {
   "cell_type": "markdown",
   "source": [
    "Now, look at the unit's groups."
   ],
   "metadata": {
    "collapsed": false
   },
   "id": "db68603f28026ee4"
  },
  {
   "cell_type": "code",
   "execution_count": 31,
   "outputs": [
    {
     "ename": "NameError",
     "evalue": "name 'unit' is not defined",
     "output_type": "error",
     "traceback": [
      "\u001B[1;31m---------------------------------------------------------------------------\u001B[0m",
      "\u001B[1;31mNameError\u001B[0m                                 Traceback (most recent call last)",
      "Cell \u001B[1;32mIn[31], line 1\u001B[0m\n\u001B[1;32m----> 1\u001B[0m class_groups \u001B[38;5;241m=\u001B[39m connection\u001B[38;5;241m.\u001B[39mget(\u001B[38;5;124m'\u001B[39m\u001B[38;5;124mservices/courses/course_unit\u001B[39m\u001B[38;5;124m'\u001B[39m,course_unit_id\u001B[38;5;241m=\u001B[39m\u001B[43munit\u001B[49m, fields\u001B[38;5;241m=\u001B[39m\u001B[38;5;124m'\u001B[39m\u001B[38;5;124mclass_groups\u001B[39m\u001B[38;5;124m'\u001B[39m)[\u001B[38;5;124m'\u001B[39m\u001B[38;5;124mclass_groups\u001B[39m\u001B[38;5;124m'\u001B[39m]\n",
      "\u001B[1;31mNameError\u001B[0m: name 'unit' is not defined"
     ]
    }
   ],
   "source": [
    "class_groups = connection.get('services/courses/course_unit',course_unit_id=unit, fields='class_groups')['class_groups']"
   ],
   "metadata": {
    "collapsed": false,
    "ExecuteTime": {
     "end_time": "2024-02-15T20:53:57.592286500Z",
     "start_time": "2024-02-15T20:53:57.539491600Z"
    }
   },
   "id": "7f47b31af23f1b91"
  },
  {
   "cell_type": "code",
   "execution_count": 32,
   "outputs": [
    {
     "ename": "NameError",
     "evalue": "name 'class_groups' is not defined",
     "output_type": "error",
     "traceback": [
      "\u001B[1;31m---------------------------------------------------------------------------\u001B[0m",
      "\u001B[1;31mNameError\u001B[0m                                 Traceback (most recent call last)",
      "Cell \u001B[1;32mIn[32], line 1\u001B[0m\n\u001B[1;32m----> 1\u001B[0m \u001B[43mclass_groups\u001B[49m\n",
      "\u001B[1;31mNameError\u001B[0m: name 'class_groups' is not defined"
     ]
    }
   ],
   "source": [
    "class_groups"
   ],
   "metadata": {
    "collapsed": false,
    "ExecuteTime": {
     "end_time": "2024-02-15T20:53:59.040041200Z",
     "start_time": "2024-02-15T20:53:59.002038100Z"
    }
   },
   "id": "678f2afa06d5d42"
  },
  {
   "cell_type": "markdown",
   "source": [
    "Hurrah. If it has only one group, it is the lecture - we've chosen right unit."
   ],
   "metadata": {
    "collapsed": false
   },
   "id": "addeab432424300e"
  },
  {
   "cell_type": "code",
   "execution_count": 33,
   "outputs": [
    {
     "ename": "NameError",
     "evalue": "name 'class_groups' is not defined",
     "output_type": "error",
     "traceback": [
      "\u001B[1;31m---------------------------------------------------------------------------\u001B[0m",
      "\u001B[1;31mNameError\u001B[0m                                 Traceback (most recent call last)",
      "Cell \u001B[1;32mIn[33], line 1\u001B[0m\n\u001B[1;32m----> 1\u001B[0m connection\u001B[38;5;241m.\u001B[39mget(\u001B[38;5;124m'\u001B[39m\u001B[38;5;124mservices/groups/class_group\u001B[39m\u001B[38;5;124m'\u001B[39m,course_unit_id\u001B[38;5;241m=\u001B[39m\u001B[43mclass_groups\u001B[49m[\u001B[38;5;241m0\u001B[39m][\u001B[38;5;124m'\u001B[39m\u001B[38;5;124mcourse_unit_id\u001B[39m\u001B[38;5;124m'\u001B[39m],              group_number\u001B[38;5;241m=\u001B[39mclass_groups[\u001B[38;5;241m0\u001B[39m][\u001B[38;5;124m'\u001B[39m\u001B[38;5;124mnumber\u001B[39m\u001B[38;5;124m'\u001B[39m], fields\u001B[38;5;241m=\u001B[39m\u001B[38;5;124m'\u001B[39m\u001B[38;5;124mlecturers\u001B[39m\u001B[38;5;124m'\u001B[39m)\n",
      "\u001B[1;31mNameError\u001B[0m: name 'class_groups' is not defined"
     ]
    }
   ],
   "source": [
    "connection.get('services/groups/class_group',course_unit_id=class_groups[0]['course_unit_id'],              group_number=class_groups[0]['number'], fields='lecturers')"
   ],
   "metadata": {
    "collapsed": false,
    "ExecuteTime": {
     "end_time": "2024-02-15T20:54:00.387256Z",
     "start_time": "2024-02-15T20:54:00.343855900Z"
    }
   },
   "id": "2e197a8103df8715"
  },
  {
   "cell_type": "markdown",
   "source": [
    "Next fun fact: there is no **Than** between Ngoc and Nguyen, because programmers didn't create place for the second name. Bad business analysis?\n",
    "And then we are able to look into dates of each of lectures."
   ],
   "metadata": {
    "collapsed": false
   },
   "id": "289762440343fdd5"
  },
  {
   "cell_type": "code",
   "execution_count": 30,
   "outputs": [
    {
     "ename": "NameError",
     "evalue": "name 'class_groups' is not defined",
     "output_type": "error",
     "traceback": [
      "\u001B[1;31m---------------------------------------------------------------------------\u001B[0m",
      "\u001B[1;31mNameError\u001B[0m                                 Traceback (most recent call last)",
      "Cell \u001B[1;32mIn[30], line 2\u001B[0m\n\u001B[0;32m      1\u001B[0m connection\u001B[38;5;241m.\u001B[39mget(\u001B[38;5;124m'\u001B[39m\u001B[38;5;124mservices/tt/classgroup_dates2\u001B[39m\u001B[38;5;124m'\u001B[39m,\n\u001B[1;32m----> 2\u001B[0m                unit_id\u001B[38;5;241m=\u001B[39m\u001B[43mclass_groups\u001B[49m[\u001B[38;5;241m0\u001B[39m][\u001B[38;5;124m'\u001B[39m\u001B[38;5;124mcourse_unit_id\u001B[39m\u001B[38;5;124m'\u001B[39m],\n\u001B[0;32m      3\u001B[0m                group_number\u001B[38;5;241m=\u001B[39mclass_groups[\u001B[38;5;241m0\u001B[39m][\u001B[38;5;124m'\u001B[39m\u001B[38;5;124mnumber\u001B[39m\u001B[38;5;124m'\u001B[39m], \n\u001B[0;32m      4\u001B[0m                fields\u001B[38;5;241m=\u001B[39m\u001B[38;5;124m'\u001B[39m\u001B[38;5;124mstart_time|end_time|name|cgwm_id|classtype_id|unit_id\u001B[39m\u001B[38;5;124m'\u001B[39m)\n",
      "\u001B[1;31mNameError\u001B[0m: name 'class_groups' is not defined"
     ]
    }
   ],
   "source": [
    "connection.get('services/tt/classgroup_dates2',\n",
    "               unit_id=class_groups[0]['course_unit_id'],\n",
    "               group_number=class_groups[0]['number'], \n",
    "               fields='start_time|end_time|name|cgwm_id|classtype_id|unit_id')"
   ],
   "metadata": {
    "collapsed": false,
    "ExecuteTime": {
     "end_time": "2024-02-15T20:53:49.502803400Z",
     "start_time": "2024-02-15T20:53:49.465647400Z"
    }
   },
   "id": "7525f740b38de5bd"
  },
  {
   "cell_type": "markdown",
   "source": [
    "# Question\n",
    "##### What do we do now?\n",
    "I did not find any simpler methods to extract data about odd/even weeks and day of the week. Therefore, if there is no such method, we must derive necessary data from lists such as this one above, with start_time and end_time and only these. It is not very hard task, nevertheless **how** to conduct such translation of information is open. Buzi."
   ],
   "metadata": {
    "collapsed": false
   },
   "id": "9aba316d2fc09a75"
  },
  {
   "cell_type": "markdown",
   "source": [
    "In addition: we may use special methods to request for many entities at once."
   ],
   "metadata": {
    "collapsed": false
   },
   "id": "c10a80705f696540"
  },
  {
   "cell_type": "code",
   "execution_count": 145,
   "outputs": [
    {
     "data": {
      "text/plain": "['W04IST-SI0012L', 'W04IST-SI0012W', 'W04IST-SI0023L']"
     },
     "execution_count": 145,
     "metadata": {},
     "output_type": "execute_result"
    }
   ],
   "source": [
    "courses[:3]"
   ],
   "metadata": {
    "collapsed": false,
    "ExecuteTime": {
     "end_time": "2024-02-09T18:55:34.056575200Z",
     "start_time": "2024-02-09T18:55:34.052043100Z"
    }
   },
   "id": "9e1347b4e7496b5c"
  },
  {
   "cell_type": "code",
   "execution_count": 353,
   "outputs": [
    {
     "data": {
      "text/plain": "{'W04IST-SI0012L': {'id': 'W04IST-SI0012L',\n  'name': {'pl': 'Hurtownie danych', 'en': 'Data Warehouses'},\n  'ects_credits_simplified': 2.0},\n 'W04IST-SI0012W': {'id': 'W04IST-SI0012W',\n  'name': {'pl': 'Hurtownie danych', 'en': 'Data Warehouses'},\n  'ects_credits_simplified': 2.0},\n 'W04IST-SI0023L': {'id': 'W04IST-SI0023L',\n  'name': {'pl': 'Sztuczna inteligencja i inżynieria wiedzy',\n   'en': 'Artificial Intelligence and Knowledge Engineering'},\n  'ects_credits_simplified': 3.0},\n 'W04IST-SI0023W': {'id': 'W04IST-SI0023W',\n  'name': {'pl': 'Sztuczna inteligencja i inżynieria wiedzy',\n   'en': 'Artificial Intelligence and Knowledge Engineering'},\n  'ects_credits_simplified': 2.0},\n 'W04IST-SI0801G': {'id': 'W04IST-SI0801G',\n  'name': {'pl': 'Wprowadzenie do zarządania projektami informatycznymi',\n   'en': 'Introduction to IT Project Management'},\n  'ects_credits_simplified': 4.0},\n 'W04IST-SI0802G': {'id': 'W04IST-SI0802G',\n  'name': {'pl': 'Wspomaganie zarządzania projektami informatycznymi',\n   'en': 'IT Project Management Support'},\n  'ects_credits_simplified': 4.0},\n 'W04IST-SI0818G': {'id': 'W04IST-SI0818G',\n  'name': {'pl': 'Rozproszone systemy informatyczne',\n   'en': 'Distributed Computer System'},\n  'ects_credits_simplified': 4.0},\n 'W04IST-SI0821G': {'id': 'W04IST-SI0821G',\n  'name': {'pl': 'Programowanie gier', 'en': 'Computer Game Programming'},\n  'ects_credits_simplified': 4.0},\n 'W04IST-SI0822G': {'id': 'W04IST-SI0822G',\n  'name': {'pl': 'Zaawansowane technologie webowe',\n   'en': 'Advanced Web Technologies'},\n  'ects_credits_simplified': 4.0},\n 'W04IST-SI0824G': {'id': 'W04IST-SI0824G',\n  'name': {'pl': 'Programowanie aplikacji multimedialnych',\n   'en': 'Program Multimedia Applications'},\n  'ects_credits_simplified': 4.0},\n 'W04IST-SI0825G': {'id': 'W04IST-SI0825G',\n  'name': {'pl': 'Techniki przetwarzania mediów cyfrowych',\n   'en': 'Digital Media Processing Techniques'},\n  'ects_credits_simplified': 4.0},\n 'W04IST-SI0828G': {'id': 'W04IST-SI0828G',\n  'name': {'pl': 'Programowanie w chmurze', 'en': 'Cloud programming'},\n  'ects_credits_simplified': 4.0}}"
     },
     "execution_count": 353,
     "metadata": {},
     "output_type": "execute_result"
    }
   ],
   "source": [
    "course_ids = reduce(lambda x, y: x + '|' + y, courses)\n",
    "connection.get('services/courses/courses', fields='id|name|ects_credits_simplified', course_ids=course_ids)"
   ],
   "metadata": {
    "collapsed": false,
    "ExecuteTime": {
     "end_time": "2024-02-10T13:32:59.462728500Z",
     "start_time": "2024-02-10T13:32:59.042248400Z"
    }
   },
   "id": "222b3cb1492643b2"
  },
  {
   "cell_type": "code",
   "outputs": [
    {
     "data": {
      "text/plain": "{'course_units_ids': ['62146']}"
     },
     "execution_count": 346,
     "metadata": {},
     "output_type": "execute_result"
    }
   ],
   "source": [
    "connection.get('services/courses/course_edition', course_id='W04IST-SI0023L', term_id=term, fields='course_units_ids')"
   ],
   "metadata": {
    "collapsed": false,
    "ExecuteTime": {
     "end_time": "2024-02-10T13:29:25.531796200Z",
     "start_time": "2024-02-10T13:29:25.009458900Z"
    }
   },
   "id": "a10088b2b31276e9",
   "execution_count": 346
  },
  {
   "cell_type": "code",
   "outputs": [],
   "source": [],
   "metadata": {
    "collapsed": false,
    "ExecuteTime": {
     "end_time": "2024-02-09T19:05:12.292555Z",
     "start_time": "2024-02-09T19:05:11.638617Z"
    }
   },
   "id": "b2ae1167496a4457",
   "execution_count": 166
  },
  {
   "cell_type": "code",
   "outputs": [],
   "source": [
    "from collections import Counter\n",
    "from planner.models.groups import DayOfWeek, WeekType, Group\n",
    "from datetime import date, datetime"
   ],
   "metadata": {
    "collapsed": false,
    "ExecuteTime": {
     "end_time": "2024-02-15T20:38:11.691080200Z",
     "start_time": "2024-02-15T20:38:11.657404200Z"
    }
   },
   "id": "83bb17de3a18963a",
   "execution_count": 20
  },
  {
   "cell_type": "code",
   "outputs": [],
   "source": [
    "def get_groups(course_unit_id):\n",
    "    class_groups = connection.get('services/courses/course_unit', course_unit_id=course_unit_id, fields='class_groups')['class_groups']\n",
    "    groups_ids = reduce(lambda x, y: x + '|(' + y['course_unit_id'] + ',' + str(y['number']) + ')', class_groups, '')[1:]\n",
    "    groups = connection.get('services/groups/groups', group_ids=groups_ids, fields='lecturers')\n",
    "    return groups"
   ],
   "metadata": {
    "collapsed": false,
    "ExecuteTime": {
     "end_time": "2024-02-10T09:43:37.002676100Z",
     "start_time": "2024-02-10T09:43:36.974707400Z"
    }
   },
   "id": "d8ce5fe2c5961b3e",
   "execution_count": 305
  },
  {
   "cell_type": "code",
   "outputs": [],
   "source": [
    "from typing import Dict\n",
    "\n",
    "\n",
    "def get_unit_groups(course_unit_id: Union[str,int]) -> list[Dict[str, str]]:\n",
    "    unit_groups = connection.get('services/courses/course_unit', course_unit_id=course_unit_id, fields='class_groups')['class_groups']\n",
    "    return unit_groups    "
   ],
   "metadata": {
    "collapsed": false,
    "ExecuteTime": {
     "end_time": "2024-02-10T13:09:01.139662400Z",
     "start_time": "2024-02-10T13:09:01.131970500Z"
    }
   },
   "id": "4b5ec09efef27b35",
   "execution_count": 339
  },
  {
   "cell_type": "code",
   "outputs": [
    {
     "data": {
      "text/plain": "[{'course_unit_id': '62146', 'number': 1},\n {'course_unit_id': '62146', 'number': 2},\n {'course_unit_id': '62146', 'number': 3},\n {'course_unit_id': '62146', 'number': 4},\n {'course_unit_id': '62146', 'number': 5},\n {'course_unit_id': '62146', 'number': 6},\n {'course_unit_id': '62146', 'number': 7},\n {'course_unit_id': '62146', 'number': 8},\n {'course_unit_id': '62146', 'number': 9},\n {'course_unit_id': '62146', 'number': 10},\n {'course_unit_id': '62146', 'number': 11}]"
     },
     "execution_count": 340,
     "metadata": {},
     "output_type": "execute_result"
    }
   ],
   "source": [
    "unit_groups"
   ],
   "metadata": {
    "collapsed": false,
    "ExecuteTime": {
     "end_time": "2024-02-10T13:09:01.922630400Z",
     "start_time": "2024-02-10T13:09:01.899767100Z"
    }
   },
   "id": "8628219d9fae441",
   "execution_count": 340
  },
  {
   "cell_type": "code",
   "outputs": [],
   "source": [
    "unit_id = 62146\n",
    "unit_groups = get_unit_groups(62146)\n",
    "groups = []\n",
    "for group in unit_groups:\n",
    "    group_dates = get_group_dates(unit_id, group['number'])\n",
    "    group_weekday = get_day(group_dates)\n",
    "    group_week_type = get_week_type(group_dates)\n",
    "    new_group = (group_week_type,group_weekday)\n",
    "    groups.append(new_group)"
   ],
   "metadata": {
    "collapsed": false,
    "ExecuteTime": {
     "end_time": "2024-02-10T09:55:41.217007700Z",
     "start_time": "2024-02-10T09:55:40.311821700Z"
    }
   },
   "id": "92229770dfab0317",
   "execution_count": 337
  },
  {
   "cell_type": "code",
   "outputs": [
    {
     "data": {
      "text/plain": "[(<WeekType.EVERY_WEEK: 1>, <DayOfWeek.Monday: 1>),\n (<WeekType.EVERY_WEEK: 1>, <DayOfWeek.Monday: 1>),\n (<WeekType.EVERY_WEEK: 1>, <DayOfWeek.Tuesday: 2>),\n (<WeekType.EVERY_WEEK: 1>, <DayOfWeek.Friday: 5>),\n (<WeekType.EVERY_WEEK: 1>, <DayOfWeek.Tuesday: 2>),\n (<WeekType.EVERY_WEEK: 1>, <DayOfWeek.Friday: 5>),\n (<WeekType.EVERY_WEEK: 1>, <DayOfWeek.Friday: 5>),\n (<WeekType.EVERY_WEEK: 1>, <DayOfWeek.Thursday: 4>),\n (<WeekType.EVERY_WEEK: 1>, <DayOfWeek.Friday: 5>),\n (<WeekType.EVERY_WEEK: 1>, <DayOfWeek.Tuesday: 2>),\n (<WeekType.EVERY_WEEK: 1>, <DayOfWeek.Friday: 5>)]"
     },
     "execution_count": 338,
     "metadata": {},
     "output_type": "execute_result"
    }
   ],
   "source": [
    "groups"
   ],
   "metadata": {
    "collapsed": false,
    "ExecuteTime": {
     "end_time": "2024-02-10T09:55:41.853498400Z",
     "start_time": "2024-02-10T09:55:41.820019900Z"
    }
   },
   "id": "7aab748cf6d0d15e",
   "execution_count": 338
  },
  {
   "cell_type": "code",
   "outputs": [
    {
     "data": {
      "text/plain": "{'(62146,1)': {'lecturers': [{'id': '342626',\n    'first_name': 'Julita',\n    'last_name': 'Bielaniewicz',\n    'user_id': '342626'}]},\n '(62146,2)': {'lecturers': [{'id': '342626',\n    'first_name': 'Julita',\n    'last_name': 'Bielaniewicz',\n    'user_id': '342626'}]},\n '(62146,3)': {'lecturers': [{'id': '346079',\n    'first_name': 'Katarzyna',\n    'last_name': 'Fojcik',\n    'user_id': '346079'}]},\n '(62146,4)': {'lecturers': [{'id': '405702',\n    'first_name': 'Stanisław',\n    'last_name': 'Woźniak',\n    'user_id': '405702'}]},\n '(62146,5)': {'lecturers': [{'id': '188637',\n    'first_name': 'Przemysław',\n    'last_name': 'Dolata',\n    'user_id': '188637'}]},\n '(62146,6)': {'lecturers': [{'id': '341661',\n    'first_name': 'Daria',\n    'last_name': 'Dziubałtowska',\n    'user_id': '341661'}]},\n '(62146,7)': {'lecturers': [{'id': '444081',\n    'first_name': 'Nadezhda',\n    'last_name': 'Dazhunts',\n    'user_id': '444081'}]},\n '(62146,8)': {'lecturers': [{'id': '412556',\n    'first_name': 'Bartłomiej',\n    'last_name': 'Koptyra',\n    'user_id': '412556'}]},\n '(62146,9)': {'lecturers': [{'id': '405702',\n    'first_name': 'Stanisław',\n    'last_name': 'Woźniak',\n    'user_id': '405702'}]},\n '(62146,10)': {'lecturers': []},\n '(62146,11)': {'lecturers': [{'id': '149337',\n    'first_name': 'Jan',\n    'last_name': 'Jakubik',\n    'user_id': '149337'}]}}"
     },
     "execution_count": 341,
     "metadata": {},
     "output_type": "execute_result"
    }
   ],
   "source": [
    "get_groups('62146')"
   ],
   "metadata": {
    "collapsed": false,
    "ExecuteTime": {
     "end_time": "2024-02-10T13:11:03.495993200Z",
     "start_time": "2024-02-10T13:11:02.942663700Z"
    }
   },
   "id": "90d91a02fa1c916b",
   "execution_count": 341
  },
  {
   "cell_type": "markdown",
   "source": [
    "# Z TEGO WYSZŁO TAMTO:"
   ],
   "metadata": {
    "collapsed": false
   },
   "id": "57ec5a227409bc35"
  },
  {
   "cell_type": "code",
   "outputs": [],
   "source": [
    "class_groups = connection.get('services/courses/course_unit', course_unit_id='62146', fields='class_groups')['class_groups']"
   ],
   "metadata": {
    "collapsed": false
   },
   "id": "942fde1faaa11a61"
  },
  {
   "cell_type": "code",
   "outputs": [
    {
     "data": {
      "text/plain": "[{'name': {'pl': 'Zajęcia laboratoryjne', 'en': 'Laboratory'},\n  'cgwm_id': 47441,\n  'lecturer_ids': [341661],\n  'course_name': {'pl': 'Sztuczna inteligencja i inżynieria wiedzy',\n   'en': 'Artificial Intelligence and Knowledge Engineering'},\n  'classtype_name': {'pl': 'Zajęcia laboratoryjne', 'en': 'Laboratory'}}]"
     },
     "execution_count": 227,
     "metadata": {},
     "output_type": "execute_result"
    }
   ],
   "source": [
    "connection.get('services/tt/classgroup', unit_id='62146', start='2024-03-11', group_number='6', fields='name|cgwm_id|lecturer_ids|course_name|classtype_name|frequency')"
   ],
   "metadata": {
    "collapsed": false,
    "ExecuteTime": {
     "end_time": "2024-02-09T20:05:26.311193500Z",
     "start_time": "2024-02-09T20:05:26.230225700Z"
    }
   },
   "id": "43a5228201a4a5da",
   "execution_count": 227
  },
  {
   "cell_type": "code",
   "outputs": [
    {
     "data": {
      "text/plain": "<DayOfWeek.Friday: 5>"
     },
     "execution_count": 264,
     "metadata": {},
     "output_type": "execute_result"
    }
   ],
   "source": [
    "Counter([DayOfWeek(date.weekday()+1) for date in dates]).most_common()[0][0]"
   ],
   "metadata": {
    "collapsed": false,
    "ExecuteTime": {
     "end_time": "2024-02-10T09:17:31.463131200Z",
     "start_time": "2024-02-10T09:17:31.449802100Z"
    }
   },
   "id": "20b9dc32270cdde3",
   "execution_count": 264
  },
  {
   "cell_type": "code",
   "outputs": [
    {
     "data": {
      "text/plain": "<WeekType.EVERY_WEEK: 1>"
     },
     "execution_count": 275,
     "metadata": {},
     "output_type": "execute_result"
    }
   ],
   "source": [
    "get_week_type(dates)"
   ],
   "metadata": {
    "collapsed": false,
    "ExecuteTime": {
     "end_time": "2024-02-10T09:27:30.012574900Z",
     "start_time": "2024-02-10T09:27:29.987211Z"
    }
   },
   "id": "b4f26f884d334010",
   "execution_count": 275
  },
  {
   "cell_type": "code",
   "outputs": [
    {
     "data": {
      "text/plain": "[(1, 8), (0, 7)]"
     },
     "execution_count": 271,
     "metadata": {},
     "output_type": "execute_result"
    }
   ],
   "source": [
    "Counter([date.isocalendar()[1] % 2 for date in dates]).most_common()"
   ],
   "metadata": {
    "collapsed": false,
    "ExecuteTime": {
     "end_time": "2024-02-10T09:26:00.415100300Z",
     "start_time": "2024-02-10T09:26:00.391679800Z"
    }
   },
   "id": "623c23e6a4ed1961",
   "execution_count": 271
  },
  {
   "cell_type": "code",
   "outputs": [
    {
     "data": {
      "text/plain": "'(62146,1)|(62146,2)|(62146,3)|(62146,4)|(62146,5)|(62146,6)|(62146,7)|(62146,8)|(62146,9)|(62146,10)|(62146,11)'"
     },
     "execution_count": 202,
     "metadata": {},
     "output_type": "execute_result"
    }
   ],
   "source": [
    "groups_ids"
   ],
   "metadata": {
    "collapsed": false,
    "ExecuteTime": {
     "end_time": "2024-02-09T19:14:44.715297Z",
     "start_time": "2024-02-09T19:14:44.698812800Z"
    }
   },
   "id": "c36bdff8d18abb3",
   "execution_count": 202
  },
  {
   "cell_type": "code",
   "outputs": [
    {
     "data": {
      "text/plain": "{'(62146,1)': {'lecturers': [{'id': '342626',\n    'first_name': 'Julita',\n    'last_name': 'Bielaniewicz',\n    'user_id': '342626'}]},\n '(62146,2)': {'lecturers': [{'id': '342626',\n    'first_name': 'Julita',\n    'last_name': 'Bielaniewicz',\n    'user_id': '342626'}]},\n '(62146,3)': {'lecturers': [{'id': '346079',\n    'first_name': 'Katarzyna',\n    'last_name': 'Fojcik',\n    'user_id': '346079'}]},\n '(62146,4)': {'lecturers': [{'id': '405702',\n    'first_name': 'Stanisław',\n    'last_name': 'Woźniak',\n    'user_id': '405702'}]},\n '(62146,5)': {'lecturers': [{'id': '188637',\n    'first_name': 'Przemysław',\n    'last_name': 'Dolata',\n    'user_id': '188637'}]},\n '(62146,6)': {'lecturers': [{'id': '341661',\n    'first_name': 'Daria',\n    'last_name': 'Dziubałtowska',\n    'user_id': '341661'}]},\n '(62146,7)': {'lecturers': [{'id': '444081',\n    'first_name': 'Nadezhda',\n    'last_name': 'Dazhunts',\n    'user_id': '444081'}]},\n '(62146,8)': {'lecturers': [{'id': '412556',\n    'first_name': 'Bartłomiej',\n    'last_name': 'Koptyra',\n    'user_id': '412556'}]},\n '(62146,9)': {'lecturers': [{'id': '405702',\n    'first_name': 'Stanisław',\n    'last_name': 'Woźniak',\n    'user_id': '405702'}]},\n '(62146,10)': {'lecturers': []},\n '(62146,11)': {'lecturers': [{'id': '149337',\n    'first_name': 'Jan',\n    'last_name': 'Jakubik',\n    'user_id': '149337'}]}}"
     },
     "execution_count": 203,
     "metadata": {},
     "output_type": "execute_result"
    }
   ],
   "source": [
    "connection.get('services/groups/groups', group_ids=groups_ids, fields='lecturers')"
   ],
   "metadata": {
    "collapsed": false,
    "ExecuteTime": {
     "end_time": "2024-02-09T19:14:50.069284500Z",
     "start_time": "2024-02-09T19:14:49.974236700Z"
    }
   },
   "id": "9faa6a7ad6ac5a2b",
   "execution_count": 203
  },
  {
   "cell_type": "code",
   "outputs": [],
   "source": [],
   "metadata": {
    "collapsed": false
   },
   "id": "4a6b99d1e9287e80"
  }
 ],
 "metadata": {
  "kernelspec": {
   "display_name": "Python 3",
   "language": "python",
   "name": "python3"
  },
  "language_info": {
   "codemirror_mode": {
    "name": "ipython",
    "version": 2
   },
   "file_extension": ".py",
   "mimetype": "text/x-python",
   "name": "python",
   "nbconvert_exporter": "python",
   "pygments_lexer": "ipython2",
   "version": "2.7.6"
  }
 },
 "nbformat": 4,
 "nbformat_minor": 5
}
