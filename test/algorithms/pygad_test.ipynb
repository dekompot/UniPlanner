{
 "cells": [
  {
   "cell_type": "code",
   "execution_count": 22,
   "metadata": {
    "collapsed": true,
    "ExecuteTime": {
     "start_time": "2023-06-17T11:06:17.352340Z",
     "end_time": "2023-06-17T11:06:17.368870Z"
    }
   },
   "outputs": [],
   "source": [
    "import pygad\n",
    "import numpy as np\n",
    "from planner.parsing.parse_json import load_from_json\n",
    "from planner.models.groups import Group\n",
    "from typing import List"
   ]
  },
  {
   "cell_type": "code",
   "execution_count": 2,
   "outputs": [],
   "source": [
    "file_name = '../../data/courses.json'\n",
    "courses = load_from_json(file_name)"
   ],
   "metadata": {
    "collapsed": false,
    "ExecuteTime": {
     "start_time": "2023-06-17T10:56:47.945998Z",
     "end_time": "2023-06-17T10:56:47.961703Z"
    }
   }
  },
  {
   "cell_type": "code",
   "execution_count": 3,
   "outputs": [
    {
     "name": "stdout",
     "output_type": "stream",
     "text": [
      "0\n",
      "1\n"
     ]
    }
   ],
   "source": [
    "for i in range(0,2):\n",
    "    print(i)\n",
    "    i+=1"
   ],
   "metadata": {
    "collapsed": false,
    "ExecuteTime": {
     "start_time": "2023-06-17T10:56:47.966852Z",
     "end_time": "2023-06-17T10:56:48.014382Z"
    }
   }
  },
  {
   "cell_type": "code",
   "execution_count": 4,
   "outputs": [],
   "source": [
    "gene_space = [range(len(course.groups)) for course in courses]"
   ],
   "metadata": {
    "collapsed": false,
    "ExecuteTime": {
     "start_time": "2023-06-17T10:56:47.982773Z",
     "end_time": "2023-06-17T10:56:48.014382Z"
    }
   }
  },
  {
   "cell_type": "code",
   "execution_count": 5,
   "outputs": [],
   "source": [
    "def get_group(course_id, group_id):\n",
    "    return courses[course_id].groups[group_id]"
   ],
   "metadata": {
    "collapsed": false,
    "ExecuteTime": {
     "start_time": "2023-06-17T10:56:47.998541Z",
     "end_time": "2023-06-17T10:56:48.014382Z"
    }
   }
  },
  {
   "cell_type": "code",
   "execution_count": 6,
   "outputs": [
    {
     "data": {
      "text/plain": "K01-17a on Monday from 09:15 to 11:00"
     },
     "execution_count": 6,
     "metadata": {},
     "output_type": "execute_result"
    }
   ],
   "source": [
    "get_group(0,0)"
   ],
   "metadata": {
    "collapsed": false,
    "ExecuteTime": {
     "start_time": "2023-06-17T10:56:48.014382Z",
     "end_time": "2023-06-17T10:56:48.030393Z"
    }
   }
  },
  {
   "cell_type": "code",
   "execution_count": 23,
   "outputs": [],
   "source": [
    "def get_group(course_id, group_id):\n",
    "    return courses[course_id].groups[group_id]\n",
    "def translate_solution(gen_solution):\n",
    "    return sorted([get_group(gene_id,gene) for gene_id, gene in enumerate(gen_solution)])\n",
    "def is_possible(groups: List[Group]) -> bool:\n",
    "    for index in range(len(groups) - 1):\n",
    "        curr_group = groups[index]\n",
    "        next_group = groups[index + 1]\n",
    "        if curr_group.day == next_group.day and curr_group.end_time > next_group.start_time:\n",
    "            return False\n",
    "    return True"
   ],
   "metadata": {
    "collapsed": false,
    "ExecuteTime": {
     "start_time": "2023-06-17T11:06:26.342375Z",
     "end_time": "2023-06-17T11:06:26.358178Z"
    }
   }
  },
  {
   "cell_type": "code",
   "execution_count": 24,
   "outputs": [],
   "source": [
    "def fitness_func(ga_instance, solution, solution_idx):\n",
    "    sol_groups = translate_solution(solution)\n",
    "    if is_possible(sol_groups):\n",
    "        print(sol_groups)\n",
    "    return 0"
   ],
   "metadata": {
    "collapsed": false,
    "ExecuteTime": {
     "start_time": "2023-06-17T11:06:37.733338Z",
     "end_time": "2023-06-17T11:06:37.749165Z"
    }
   }
  },
  {
   "cell_type": "code",
   "execution_count": 33,
   "outputs": [
    {
     "name": "stdout",
     "output_type": "stream",
     "text": [
      "[K01-22a on Monday from 07:30 to 09:00, K01-18k on Monday from 09:15 to 11:00, K01-19a on Monday from 11:15 to 13:00, K01-23c on Monday from 15:15 to 16:55, K01-17f on Tuesday from 11:15 to 13:00, K01-29a on Tuesday from 17:05 to 18:45, K01-27a on Wednesday from 13:15 to 15:00, K01-20a on Wednesday from 15:15 to 16:55, K01-24a on Wednesday from 17:05 to 18:45, K01-21e on Wednesday from 18:55 to 20:35, K01-26g on Thursday from 13:15 to 15:00, K01-28d on Thursday from 15:15 to 16:55, K01-25e on Thursday from 17:05 to 18:45, K01-31a on Friday from 09:15 to 11:00, K01-30d on Friday from 11:15 to 13:00]\n"
     ]
    },
    {
     "data": {
      "text/plain": "'loaded_ga_instance.plot_fitness()'"
     },
     "execution_count": 33,
     "metadata": {},
     "output_type": "execute_result"
    }
   ],
   "source": [
    "num_generations = 1  # Number of generations.\n",
    "num_parents_mating = 1  # Number of solutions to be selected as parents in the mating pool.\n",
    "sol_per_pop = 10  # Number of solutions in the population.\n",
    "num_genes = len(courses)\n",
    "last_fitness = 0\n",
    "def on_generation(ga_instance):\n",
    "    global last_fitness\n",
    "    print(\"Generation = {generation}\".format(generation=ga_instance.generations_completed))\n",
    "    print(\"Fitness    = {fitness}\".format(\n",
    "        fitness=ga_instance.best_solution(pop_fitness=ga_instance.last_generation_fitness)[1]))\n",
    "    print(\"Change     = {change}\".format(\n",
    "        change=ga_instance.best_solution(pop_fitness=ga_instance.last_generation_fitness)[1] - last_fitness))\n",
    "    last_fitness = ga_instance.best_solution(pop_fitness=ga_instance.last_generation_fitness)[1]\n",
    "\n",
    "ga_instance = pygad.GA(num_generations=num_generations,\n",
    "                       num_parents_mating=num_parents_mating,\n",
    "                       sol_per_pop=sol_per_pop,\n",
    "                       num_genes=num_genes,\n",
    "                       fitness_func=fitness_func,\n",
    "                       on_generation=None,\n",
    "                       gene_type=int,\n",
    "                       gene_space=gene_space,\n",
    "                       random_seed=1)\n",
    "\n",
    "# Running the GA to optimize the parameters of the function.\n",
    "ga_instance.run()\n",
    "\n",
    "# ga_instance.plot_fitness()\n",
    "\n",
    "# Returning the details of the best solution.\n",
    "solution, solution_fitness, solution_idx = ga_instance.best_solution(ga_instance.last_generation_fitness)\n",
    "\"\"\"print(\"Parameters of the best solution : {solution}\".format(solution=solution))\n",
    "print(\"Fitness value of the best solution = {solution_fitness}\".format(solution_fitness=solution_fitness))\n",
    "print(\"Index of the best solution : {solution_idx}\".format(solution_idx=solution_idx))\"\"\"\n",
    "\n",
    "#prediction = np.sum(np.array(function_inputs) * solution)\n",
    "#print(\"Predicted output based on the best solution : {prediction}\".format(prediction=prediction))\n",
    "\n",
    "\"\"\"if ga_instance.best_solution_generation != -1:\n",
    "    print(\"Best fitness value reached after {best_solution_generation} generations.\".format(\n",
    "        best_solution_generation=ga_instance.best_solution_generation))\"\"\"\n",
    "\n",
    "# Saving the GA instance.\n",
    "filename = 'genetic'  # The filename to which the instance is saved. The name is without extension.\n",
    "ga_instance.save(filename=filename)\n",
    "\n",
    "# Loading the saved GA instance.\n",
    "loaded_ga_instance = pygad.load(filename=filename)\n",
    "\"\"\"loaded_ga_instance.plot_fitness()\"\"\""
   ],
   "metadata": {
    "collapsed": false,
    "ExecuteTime": {
     "start_time": "2023-06-17T11:08:17.204426Z",
     "end_time": "2023-06-17T11:08:17.242913Z"
    }
   }
  },
  {
   "cell_type": "code",
   "execution_count": 11,
   "outputs": [],
   "source": [
    "groups = translate_solution(solution)"
   ],
   "metadata": {
    "collapsed": false,
    "ExecuteTime": {
     "start_time": "2023-06-17T10:59:05.645160Z",
     "end_time": "2023-06-17T10:59:05.650286Z"
    }
   }
  },
  {
   "cell_type": "code",
   "execution_count": 12,
   "outputs": [
    {
     "data": {
      "text/plain": "[K01-22a on Monday from 07:30 to 09:00,\n K01-17b on Monday from 09:15 to 11:00,\n K01-18l on Monday from 09:15 to 11:00,\n K01-19a on Monday from 11:15 to 13:00,\n K01-23c on Monday from 15:15 to 16:55,\n K01-25b on Monday from 17:05 to 18:45,\n K01-29a on Tuesday from 17:05 to 18:45,\n K01-21a on Wednesday from 13:15 to 15:00,\n K01-27a on Wednesday from 13:15 to 15:00,\n K01-24a on Wednesday from 17:05 to 18:45,\n K01-20d on Wednesday from 18:55 to 20:35,\n K01-26j on Thursday from 15:15 to 16:55,\n K01-28f on Friday from 09:15 to 11:00,\n K01-31a on Friday from 09:15 to 11:00,\n K01-30d on Friday from 11:15 to 13:00]"
     },
     "execution_count": 12,
     "metadata": {},
     "output_type": "execute_result"
    }
   ],
   "source": [
    "groups"
   ],
   "metadata": {
    "collapsed": false,
    "ExecuteTime": {
     "start_time": "2023-06-17T10:59:08.619798Z",
     "end_time": "2023-06-17T10:59:08.629993Z"
    }
   }
  }
 ],
 "metadata": {
  "kernelspec": {
   "display_name": "Python 3",
   "language": "python",
   "name": "python3"
  },
  "language_info": {
   "codemirror_mode": {
    "name": "ipython",
    "version": 2
   },
   "file_extension": ".py",
   "mimetype": "text/x-python",
   "name": "python",
   "nbconvert_exporter": "python",
   "pygments_lexer": "ipython2",
   "version": "2.7.6"
  }
 },
 "nbformat": 4,
 "nbformat_minor": 0
}
