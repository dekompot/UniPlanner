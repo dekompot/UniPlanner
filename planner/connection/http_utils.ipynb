{
 "cells": [
  {
   "cell_type": "code",
   "execution_count": 1,
   "metadata": {
    "collapsed": true,
    "ExecuteTime": {
     "start_time": "2023-06-15T16:47:03.045146Z",
     "end_time": "2023-06-15T16:47:03.077691Z"
    },
    "pycharm": {
     "name": "#%%\n"
    }
   },
   "outputs": [],
   "source": [
    "import http"
   ]
  },
  {
   "cell_type": "code",
   "execution_count": null,
   "outputs": [],
   "source": [],
   "metadata": {
    "collapsed": false,
    "pycharm": {
     "name": "#%%\n"
    }
   }
  },
  {
   "cell_type": "code",
   "execution_count": null,
   "outputs": [],
   "source": [
    "def make_request_with_client(client)"
   ],
   "metadata": {
    "collapsed": false,
    "pycharm": {
     "name": "#%%\n"
    }
   }
  },
  {
   "cell_type": "code",
   "execution_count": 2,
   "outputs": [],
   "source": [
    "import json\n",
    "from selenium import webdriver\n",
    "from selenium.common.exceptions import NoSuchElementException\n",
    "from selenium.webdriver.common.by import By\n",
    "from selenium.webdriver.support.select import Select\n",
    "from webdriver_manager.chrome import ChromeDriverManager\n",
    "\n",
    "from planner.models.classes import Class, Course\n",
    "\n",
    "\n",
    "def doFetchSubjects(login, password): # TA FUNKCJA JEST STRASZNA JUTRO TO NAPRAWIĘ\n",
    "    op = webdriver.ChromeOptions()\n",
    "    op.add_argument('headless')\n",
    "    driver = webdriver.Chrome(ChromeDriverManager().install(), options=op)\n",
    "    url = 'https://edukacja.pwr.wroc.pl/EdukacjaWeb/studia.do'\n",
    "    driver.get(\"https://edukacja.pwr.wroc.pl/\")\n",
    "    # Wprowadzenie nazwy użytkownika\n",
    "    username_input = driver.find_element(By.NAME, \"login\")\n",
    "    username_input.send_keys(login)\n",
    "\n",
    "    # Wprowadzenie hasła\n",
    "    password_input = driver.find_element(By.NAME, \"password\")\n",
    "    password_input.send_keys(password)\n",
    "\n",
    "    # Kliknięcie przycisku \"ZALOGUJ\"\n",
    "    login_button = driver.find_element(By.CSS_SELECTOR, \".BUTTON_ZALOGUJ\")\n",
    "    login_button.click()\n",
    "\n",
    "    # Sprawdzenie czy wystąpił błąd logowania\n",
    "    \"\"\"try:\n",
    "        potentialLoginError = driver.find_element(By.XPATH,\n",
    "                                                  \"/html/body/table/tbody/tr/td/table/tbody/tr[4]/td/table/tbody/tr[1]/td[3]/table/tbody/tr/td/b[2]/font\").text\n",
    "        raise LoginException()\n",
    "    except NoSuchElementException:\n",
    "        pass\"\"\"\n",
    "\n",
    "\n",
    "\n",
    "\n",
    "    # Kliknięcie przycisku \"ZAPISY\"\n",
    "    driver.find_element(By.XPATH,\n",
    "                        \"/html/body/table/tbody/tr/td/table/tbody/tr[4]/td/table/tbody/tr[1]/td[1]/table/tbody/tr[1]/td/table[2]/tbody/tr[15]/td/a\").click()\n",
    "\n",
    "    prawoDoZapisow = driver.find_element(By.XPATH,\n",
    "                                         \"//*[@id=\\\"GORAPORTALU\\\"]/tbody/tr[4]/td/table/tbody/tr[1]/td[3]/table/tbody/tr/td/table[5]/tbody/tr[4]/td\").text\n",
    "    if \"Brak prawa\" in prawoDoZapisow:\n",
    "        print(\"blad prawa do zapisow\")\n",
    "\n",
    "    element = driver.find_element_by_xpath(\"//a[contains(text(), '2022/2023')]\")\n",
    "\n",
    "    # Kliknięcie znalezionego elementu\n",
    "    element.click()\n",
    "\n",
    "    element = driver.find_element_by_xpath(\"//a[contains(text(), 'W04N_Wydz_Zapisy_s_letni_2022/23_ST')]\")\n",
    "    element.click()\n",
    "\n",
    "    button = driver.find_elements_by_css_selector('input[name=\"event_ZapisyPrzegladanieGrup\"]')[1]\n",
    "    button.click()\n",
    "\n",
    "    \"\"\" # Kliknięcie najnowszego zapisu\n",
    "    driver.find_element(By.CSS_SELECTOR,\n",
    "                        \"#GORAPORTALU > tbody > tr:nth-child(4) > td > table > tbody > tr:nth-child(1) > td.PRAWA_KOMORKA > table > tbody > tr > td > table:nth-child(16) > tbody > tr:nth-child(3) > td:nth-child(1) > a\").click()\n",
    "\n",
    "    trTable = driver.find_elements(By.XPATH,\n",
    "                                   \"//*[@id=\\\"GORAPORTALU\\\"]/tbody/tr[4]/td/table/tbody/tr[1]/td[3]/table/tbody/tr/td/table[8]/tbody/tr\")\n",
    "\n",
    "    # Wyszukiwanie zapisów jednostki\n",
    "    for i in range(len(trTable)):\n",
    "        tr = trTable[i]\n",
    "        enrollmentType = tr.find_element(By.CSS_SELECTOR, \"td:nth-child(2)\").text\n",
    "        if \"Wydział\" in enrollmentType:\n",
    "            tr.find_element(By.CSS_SELECTOR,\n",
    "                            \"td:last-child > table > tbody > tr > td:last-child > input:last-child\").click()\n",
    "            break\"\"\"\n",
    "\n",
    "    filter = Select(driver.find_element(By.NAME, \"KryteriumFiltrowania\"))\n",
    "    filter.select_by_visible_text(\"Z wektora zapisowego, do których słuchacz ma uprawnienia\")\n",
    "\n",
    "    courses = []\n",
    "    pagination = driver.find_elements(By.CLASS_NAME, \"paging-numeric-btn\")\n",
    "\n",
    "    i = 2\n",
    "    j = 0\n",
    "\n",
    "    while True:\n",
    "        try:\n",
    "            course_code = driver.find_element(By.XPATH,\n",
    "                                            \"/html/body/table/tbody/tr/td/table/tbody/tr[4]/td/table/tbody/tr[1]/td[3]/table/tbody/tr/td/table[6]/tbody/tr[\" + str(\n",
    "                                                i) + \"]/td[1]/a\").text\n",
    "            course_name = driver.find_element(By.XPATH,\n",
    "                                              \"/html/body/table/tbody/tr/td/table/tbody/tr[4]/td/table/tbody/tr[1]/td[3]/table/tbody/tr/td/table[6]/tbody/tr[\" + str(\n",
    "                                                  i) + \"]/td[2]\").text\n",
    "            course_link = driver.find_element(By.XPATH,\n",
    "                                                    \"/html/body/table/tbody/tr/td/table/tbody/tr[4]/td/table/tbody/tr[1]/td[3]/table/tbody/tr/td/table[6]/tbody/tr[\" + str(\n",
    "                                                        i) + \"]/td[1]/a\").get_attribute(\"href\")\n",
    "            courses.append(Course(code=course_code, name=course_name, link=course_link))\n",
    "            i += 1\n",
    "        except NoSuchElementException:\n",
    "            if j < len(pagination):\n",
    "                pagination[j].click()\n",
    "                j += 1\n",
    "                i = 2\n",
    "            else:\n",
    "                break\n",
    "    for curr_course in courses:\n",
    "        pageNum = 0\n",
    "        driver.get(curr_course.link)\n",
    "        it = 4\n",
    "        while True:\n",
    "            try:\n",
    "\n",
    "                if driver.find_element(By.XPATH,\n",
    "                                       '//*[@id=\"GORAPORTALU\"]/tbody/tr[4]/td/table/tbody/tr[1]/td[3]/table/tbody/tr/td/table[7]/tbody/tr[' + str(\n",
    "                                               it) + ']/td[1]').text == \"\":\n",
    "                    it += 1\n",
    "\n",
    "                classes_code = driver.find_element(By.XPATH,\n",
    "                                                  '//*[@id=\"GORAPORTALU\"]/tbody/tr[4]/td/table/tbody/tr[1]/td[3]/table/tbody/tr/td/table[7]/tbody/tr[' + str(\n",
    "                                                      it) + ']/td[1]').text\n",
    "                course_code = driver.find_element(By.XPATH,\n",
    "                                                       '//*[@id=\"GORAPORTALU\"]/tbody/tr[4]/td/table/tbody/tr[1]/td[3]/table/tbody/tr/td/table[7]/tbody/tr[' + str(\n",
    "                                                           it) + ']/td[2]').text\n",
    "                lecturer = driver.find_element(By.XPATH,\n",
    "                                                     '//*[@id=\"GORAPORTALU\"]/tbody/tr[4]/td/table/tbody/tr[1]/td[3]/table/tbody/tr/td/table[7]/tbody/tr[' + str(\n",
    "                                                         it + 1) + ']/td[1]').text\n",
    "\n",
    "                date_and_place = driver.find_element(By.XPATH,\n",
    "                                                  '//*[@id=\"GORAPORTALU\"]/tbody/tr[4]/td/table/tbody/tr[1]/td[3]/table/tbody/tr/td/table[7]/tbody/tr[' + str(\n",
    "                                                      it + 2) + ']/td/table/tbody/tr[1]/td').text\n",
    "                classes_type = driver.find_element(By.XPATH,\n",
    "                                                  '//*[@id=\"GORAPORTALU\"]/tbody/tr[4]/td/table/tbody/tr[1]/td[3]/table/tbody/tr/td/table[7]/tbody/tr[' + str(\n",
    "                                                      it + 1) + ']/td[2]').text\n",
    "                curr_course.classes.append(Class(code=classes_code, course=course_code, lecturer=lecturer,\n",
    "                      date_and_place=date_and_place, type=classes_type))\n",
    "                it += 3\n",
    "\n",
    "            except NoSuchElementException:\n",
    "                list = driver.find_elements(By.XPATH,\n",
    "                                            '/html/body/table/tbody/tr/td/table/tbody/tr[4]/td/table/tbody/tr[1]/td[3]/table/tbody/tr/td/table[7]/tbody/tr[41]/td/table/tbody/tr/td/span/input[2]')\n",
    "                if pageNum < len(list):\n",
    "                    it = 4\n",
    "                    list[pageNum].click()\n",
    "                    pageNum += 1\n",
    "                else:\n",
    "                    break\n",
    "\n",
    "    driver.quit()\n",
    "    return courses"
   ],
   "metadata": {
    "collapsed": false,
    "ExecuteTime": {
     "start_time": "2023-06-16T01:31:46.994688Z",
     "end_time": "2023-06-16T01:31:47.010965Z"
    },
    "pycharm": {
     "name": "#%%\n"
    }
   }
  },
  {
   "cell_type": "code",
   "execution_count": 3,
   "outputs": [
    {
     "name": "stdout",
     "output_type": "stream",
     "text": [
      "blad prawa do zapisow\n"
     ]
    }
   ],
   "source": [
    "login = 'pwr384918'\n",
    "password = 'puszek112'\n",
    "subjects = doFetchSubjects(login, password)"
   ],
   "metadata": {
    "collapsed": false,
    "ExecuteTime": {
     "start_time": "2023-06-16T01:31:53.399042Z",
     "end_time": "2023-06-16T01:32:10.143869Z"
    },
    "pycharm": {
     "name": "#%%\n"
    }
   }
  },
  {
   "cell_type": "code",
   "execution_count": 25,
   "outputs": [],
   "source": [
    "def obj_to_dict(obj):\n",
    "    if isinstance(obj, list):\n",
    "        return{\n",
    "            \"course\": [obj_to_dict(c) for c in obj]\n",
    "        }\n",
    "    elif isinstance(obj, Class):\n",
    "        return {\n",
    "            \"code\": obj.code,\n",
    "            \"course\": obj.course,\n",
    "            \"lecturer\": obj.lecturer,\n",
    "            \"date_and_place\": obj.date_and_place,\n",
    "            \"type\": obj.type\n",
    "        }\n",
    "    elif isinstance(obj, Course):\n",
    "        return {\n",
    "            \"name\": obj.name,\n",
    "            \"code\": obj.code,\n",
    "            \"classes\": [obj_to_dict(c) for c in obj.classes]\n",
    "        }"
   ],
   "metadata": {
    "collapsed": false,
    "ExecuteTime": {
     "start_time": "2023-06-16T01:52:02.979182Z",
     "end_time": "2023-06-16T01:52:02.994945Z"
    },
    "pycharm": {
     "name": "#%%\n"
    }
   }
  },
  {
   "cell_type": "code",
   "execution_count": 26,
   "outputs": [],
   "source": [
    "with open('../../data/courses.json', 'w', encoding='utf-8') as f:\n",
    "    json.dump(obj_to_dict(subjects), f, indent=4, ensure_ascii=False)"
   ],
   "metadata": {
    "collapsed": false,
    "ExecuteTime": {
     "start_time": "2023-06-16T01:52:04.563031Z",
     "end_time": "2023-06-16T01:52:04.607682Z"
    },
    "pycharm": {
     "name": "#%%\n"
    }
   }
  }
 ],
 "metadata": {
  "kernelspec": {
   "display_name": "Python 3",
   "language": "python",
   "name": "python3"
  },
  "language_info": {
   "codemirror_mode": {
    "name": "ipython",
    "version": 2
   },
   "file_extension": ".py",
   "mimetype": "text/x-python",
   "name": "python",
   "nbconvert_exporter": "python",
   "pygments_lexer": "ipython2",
   "version": "2.7.6"
  }
 },
 "nbformat": 4,
 "nbformat_minor": 0
}